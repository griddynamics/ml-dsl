{
 "cells": [
  {
   "cell_type": "code",
   "execution_count": 1,
   "metadata": {},
   "outputs": [],
   "source": [
    "import com.griddynamics.dsl.ml.mldsl as mldsl\n",
    "from com.griddynamics.dsl.ml.settings.profiles import PySparkJobProfile, Profile\n",
    "from com.griddynamics.dsl.ml.settings.description import Platform"
   ]
  },
  {
   "cell_type": "markdown",
   "metadata": {},
   "source": [
    "##### OLD JOB"
   ]
  },
  {
   "cell_type": "code",
   "execution_count": 2,
   "metadata": {},
   "outputs": [
    {
     "name": "stdout",
     "output_type": "stream",
     "text": [
      "Temporary path: /home/jovyan/work/data/.mldsl/test_upgrade_job.py\n"
     ]
    },
    {
     "data": {
      "text/plain": [
       "<com.griddynamics.dsl.ml.py_script.PyScript at 0x7f9b811a4e80>"
      ]
     },
     "execution_count": 2,
     "metadata": {},
     "output_type": "execute_result"
    }
   ],
   "source": [
    "%py_script_open -n test_upgrade_job.py -p demo/scripts -o dev"
   ]
  },
  {
   "cell_type": "code",
   "execution_count": 3,
   "metadata": {},
   "outputs": [],
   "source": [
    "platform = Platform.GCP\n",
    "logging={\"com.example\":4,\"root\":4, \"com.google.cloud.pyspark\":4}\n",
    "profile = PySparkJobProfile(root_path='/home/jovyan/work/data/demo/scripts',\n",
    "                                  bucket='ai4ops',\n",
    "                                  project='gd-gcp-techlead-experiments',\n",
    "                                  cluster='ai4ops',\n",
    "                                  region='global',\n",
    "                                  ai_region='us-central1',\n",
    "                                  job_prefix='demo_job',\n",
    "                                  job_async=True,logging=logging,\n",
    "                           )\n",
    "Profile.set('TestJobProfile', profile)"
   ]
  },
  {
   "cell_type": "code",
   "execution_count": 4,
   "metadata": {},
   "outputs": [
    {
     "name": "stdout",
     "output_type": "stream",
     "text": [
      "Parameters string = <<<-n test_upgrade_job.py -p TestJobProfile -pm 1 --batch_interval 1 -o gs://ai4ops/mldsl/data>>>\n"
     ]
    },
    {
     "data": {
      "text/html": [
       "<a href=\"https://console.cloud.google.com/dataproc/jobs/demo_job_1584967565?project=gd-gcp-techlead-experiments&region=global\">demo_job_1584967565</a>"
      ],
      "text/plain": [
       "<IPython.core.display.HTML object>"
      ]
     },
     "metadata": {},
     "output_type": "display_data"
    },
    {
     "name": "stdout",
     "output_type": "stream",
     "text": [
      "Job with id demo_job_1584967565 was submitted to the cluster ai4ops\n"
     ]
    },
    {
     "data": {
      "text/html": [
       "<a href=\"https://console.cloud.google.com/storage/browser/ai4ops/mldsl/data/demo_job_1584967565?project=gd-gcp-techlead-experiments\">Output Data demo_job_1584967565</a>"
      ],
      "text/plain": [
       "<IPython.core.display.HTML object>"
      ]
     },
     "metadata": {},
     "output_type": "display_data"
    },
    {
     "data": {
      "application/json": {
       "cluster_name": "ai4ops",
       "driver_control_files_uri": "gs://ai4ops/google-cloud-dataproc-metainfo/2d057403-a13f-40fa-b785-43cf3d7e2bc3/jobs/demo_job_1584967565/",
       "driver_output_resource_uri": "gs://ai4ops/google-cloud-dataproc-metainfo/2d057403-a13f-40fa-b785-43cf3d7e2bc3/jobs/demo_job_1584967565/driveroutput",
       "job_id": "demo_job_1584967565",
       "project_id": "gd-gcp-techlead-experiments",
       "pyspark_job": {
        "args": [
         "--batch_interval",
         "1",
         "--output_path",
         "gs://ai4ops/mldsl/data/demo_job_1584967565"
        ],
        "main_python_file_uri": "gs://ai4ops/jobs-root/demo_job_1584967565/test_upgrade_job.py"
       },
       "start_time": "2020-03-23T12:46:06.000000",
       "status": "RUNNING",
       "yarn_applications": [
        {
         "name": "test_new_functionality",
         "progress": 0,
         "state": "ACCEPTED",
         "trackingUrl": "http://ai4ops-m:8088/proxy/application_1570197709805_0199/"
        }
       ]
      },
      "text/plain": [
       "<IPython.core.display.JSON object>"
      ]
     },
     "metadata": {
      "application/json": {
       "expanded": false,
       "root": "root"
      }
     },
     "output_type": "display_data"
    }
   ],
   "source": [
    "%py_data -n test_upgrade_job.py -p TestJobProfile -pm $platform --batch_interval 1 -o gs://ai4ops/mldsl/data"
   ]
  },
  {
   "cell_type": "code",
   "execution_count": 14,
   "metadata": {},
   "outputs": [],
   "source": [
    "#Use job_demo_job_1584967565 instance to browse job properties.\n",
    "job_demo_job_1584967565 = job_tracker['demo_job_1584967565']"
   ]
  },
  {
   "cell_type": "markdown",
   "metadata": {},
   "source": [
    "##### JOB TO UPGRADE:"
   ]
  },
  {
   "cell_type": "code",
   "execution_count": 6,
   "metadata": {},
   "outputs": [
    {
     "name": "stdout",
     "output_type": "stream",
     "text": [
      "Temporary path: /home/jovyan/work/data/.mldsl/test_upgrade_job2.py\n"
     ]
    },
    {
     "data": {
      "text/plain": [
       "<com.griddynamics.dsl.ml.py_script.PyScript at 0x7f9b6048da58>"
      ]
     },
     "execution_count": 6,
     "metadata": {},
     "output_type": "execute_result"
    }
   ],
   "source": [
    "%py_script_open -n test_upgrade_job2.py -p demo/scripts -o dev"
   ]
  },
  {
   "cell_type": "code",
   "execution_count": 9,
   "metadata": {},
   "outputs": [
    {
     "name": "stdout",
     "output_type": "stream",
     "text": [
      "Temporary path: /home/jovyan/work/data/.mldsl/my_validator.py\n"
     ]
    },
    {
     "data": {
      "text/plain": [
       "<com.griddynamics.dsl.ml.py_script.PyScript at 0x7f9b603c92e8>"
      ]
     },
     "execution_count": 9,
     "metadata": {},
     "output_type": "execute_result"
    }
   ],
   "source": [
    "%%py_script -n my_validator.py -p demo/scripts\n",
    "#!/usr/bin/python\n",
    "from time import sleep\n",
    "from com.griddynamics.dsl.ml.jobs.validator_job import Validator\n",
    "from com.griddynamics.dsl.ml.helpers import *\n",
    "\n",
    "class MyValidator(Validator):\n",
    "    def validate(self, pattern=\"sensor_\", wait_tries=5, wait_delay=5):\n",
    "        try: \n",
    "            while wait_tries > 0:\n",
    "                blobs = self.list_blobs()\n",
    "                for blob in blobs:\n",
    "                    read_output = blob.download_as_string().decode('utf-8')\n",
    "                    if pattern not in read_output:\n",
    "                        pass\n",
    "                    else:\n",
    "                        return True\n",
    "                wait_tries -= 1\n",
    "                sleep(wait_delay)\n",
    "            return False\n",
    "        except KeyboardInterrupt:\n",
    "            return False\n",
    "    \n",
    "    def list_blobs(self):\n",
    "        job_logs = self.job.driver_output_resource_uri\n",
    "        prefix = job_logs.replace('gs://{}/'.format(self.session.bucket), '')\n",
    "        storage_client = storage.Client(project=self.session.project_id)\n",
    "        source_bucket = storage_client.get_bucket(self.session.bucket)\n",
    "        blobs = source_bucket.list_blobs(prefix=prefix)\n",
    "        return list(blobs)"
   ]
  },
  {
   "cell_type": "markdown",
   "metadata": {},
   "source": [
    "##### REPLACE OLD JOB WITH NEW ONE"
   ]
  },
  {
   "cell_type": "code",
   "execution_count": 10,
   "metadata": {},
   "outputs": [
    {
     "name": "stdout",
     "output_type": "stream",
     "text": [
      "Parameters string = <<<-n test_upgrade_job2.py -p TestJobProfile -pm 1 --batch_interval 1 -o gs://ai4ops/mldsl/data     --old_job_id demo_job_1584967565 -v MyValidator -vp  /home/jovyan/work/data/.mldsl/my_validator.py>>>\n"
     ]
    },
    {
     "data": {
      "text/html": [
       "<a href=\"https://console.cloud.google.com/dataproc/jobs/demo_job_1584970620?project=gd-gcp-techlead-experiments&region=global\">demo_job_1584970620</a>"
      ],
      "text/plain": [
       "<IPython.core.display.HTML object>"
      ]
     },
     "metadata": {},
     "output_type": "display_data"
    },
    {
     "name": "stdout",
     "output_type": "stream",
     "text": [
      "Job with id demo_job_1584970620 was submitted to the cluster ai4ops\n",
      "Validation of new version job is successful\n",
      "Canceling job: demo_job_1584967565\n",
      "Job demo_job_1584967565 was successfully cancelled.\n"
     ]
    },
    {
     "data": {
      "application/json": {
       "cluster_name": "ai4ops",
       "driver_control_files_uri": "gs://ai4ops/google-cloud-dataproc-metainfo/2d057403-a13f-40fa-b785-43cf3d7e2bc3/jobs/demo_job_1584970620/",
       "driver_output_resource_uri": "gs://ai4ops/google-cloud-dataproc-metainfo/2d057403-a13f-40fa-b785-43cf3d7e2bc3/jobs/demo_job_1584970620/driveroutput",
       "job_id": "demo_job_1584970620",
       "project_id": "gd-gcp-techlead-experiments",
       "pyspark_job": {
        "args": [
         "--batch_interval",
         "1",
         "--output_path",
         "gs://ai4ops/mldsl/data/demo_job_1584970620"
        ],
        "main_python_file_uri": "gs://ai4ops/jobs-root/demo_job_1584970620/test_upgrade_job2.py"
       },
       "start_time": "2020-03-23T13:37:00.000000",
       "status": "RUNNING",
       "yarn_applications": [
        {
         "name": "test_new_functionality",
         "progress": 0.10000000149011612,
         "state": "RUNNING",
         "trackingUrl": "http://ai4ops-m:8088/proxy/application_1570197709805_0201/"
        }
       ]
      },
      "text/plain": [
       "<IPython.core.display.JSON object>"
      ]
     },
     "metadata": {
      "application/json": {
       "expanded": false,
       "root": "root"
      }
     },
     "output_type": "display_data"
    }
   ],
   "source": [
    "%job_upgrade -n test_upgrade_job2.py -p TestJobProfile -pm $platform --batch_interval 1 -o gs://ai4ops/mldsl/data\\\n",
    "    --old_job_id demo_job_1584967565 -v MyValidator -vp  /home/jovyan/work/data/.mldsl/my_validator.py"
   ]
  },
  {
   "cell_type": "code",
   "execution_count": null,
   "metadata": {},
   "outputs": [],
   "source": [
    "#Use job_demo_job_1584970620 instance to browse job properties.\n",
    "job_demo_job_1584970620 = job_tracker['demo_job_1584970620']"
   ]
  },
  {
   "cell_type": "markdown",
   "metadata": {},
   "source": [
    "##### NEW JOB DOESN'T MEET THE CONDITION(validation_pattern, wait_delay, wait_tries) IN APPROPRIATE TIME"
   ]
  },
  {
   "cell_type": "code",
   "execution_count": 11,
   "metadata": {},
   "outputs": [
    {
     "name": "stdout",
     "output_type": "stream",
     "text": [
      "Temporary path: /home/jovyan/work/data/.mldsl/my_validator.py\n"
     ]
    },
    {
     "data": {
      "text/plain": [
       "<com.griddynamics.dsl.ml.py_script.PyScript at 0x7f9b603edcc0>"
      ]
     },
     "execution_count": 11,
     "metadata": {},
     "output_type": "execute_result"
    }
   ],
   "source": [
    "%%py_script -n my_validator.py -p demo/scripts\n",
    "#!/usr/bin/python\n",
    "from time import sleep\n",
    "from com.griddynamics.dsl.ml.jobs.validator_job import Validator\n",
    "from com.griddynamics.dsl.ml.helpers import *\n",
    "\n",
    "class MyValidator(Validator):\n",
    "    def validate(self, pattern=\"sensor_\", wait_tries=2, wait_delay=0.01):\n",
    "        try: \n",
    "            while wait_tries > 0:\n",
    "                blobs = self.list_blobs()\n",
    "                for blob in blobs:\n",
    "                    read_output = blob.download_as_string().decode('utf-8')\n",
    "                    if pattern not in read_output:\n",
    "                        pass\n",
    "                    else:\n",
    "                        return True\n",
    "                wait_tries -= 1\n",
    "                sleep(wait_delay)\n",
    "            return False\n",
    "        except KeyboardInterrupt:\n",
    "            return False\n",
    "    \n",
    "    def list_blobs(self):\n",
    "        job_logs = self.job.driver_output_resource_uri\n",
    "        prefix = job_logs.replace('gs://{}/'.format(self.session.bucket), '')\n",
    "        storage_client = storage.Client(project=self.session.project_id)\n",
    "        source_bucket = storage_client.get_bucket(self.session.bucket)\n",
    "        blobs = source_bucket.list_blobs(prefix=prefix)\n",
    "        return list(blobs)"
   ]
  },
  {
   "cell_type": "code",
   "execution_count": 13,
   "metadata": {},
   "outputs": [
    {
     "name": "stdout",
     "output_type": "stream",
     "text": [
      "Parameters string = <<<-n test_upgrade_job2.py -p TestJobProfile -pm 1 --batch_interval 1 -o gs://ai4ops/mldsl/data     --old_job_id demo_job_1584970620 -v MyValidator -vp  /home/jovyan/work/data/.mldsl/my_validator.py>>>\n"
     ]
    },
    {
     "data": {
      "text/html": [
       "<a href=\"https://console.cloud.google.com/dataproc/jobs/demo_job_1584970793?project=gd-gcp-techlead-experiments&region=global\">demo_job_1584970793</a>"
      ],
      "text/plain": [
       "<IPython.core.display.HTML object>"
      ]
     },
     "metadata": {},
     "output_type": "display_data"
    },
    {
     "name": "stdout",
     "output_type": "stream",
     "text": [
      "Job with id demo_job_1584970793 was submitted to the cluster ai4ops\n",
      "New job version doesn't meet the conditions or is invalid. Current working job version is demo_job_1584970620. Logs of failed job are in gs://ai4ops/google-cloud-dataproc-metainfo/2d057403-a13f-40fa-b785-43cf3d7e2bc3/jobs/demo_job_1584970793/driveroutput\n",
      "Canceling job: demo_job_1584970793\n",
      "Job demo_job_1584970793 was successfully cancelled.\n"
     ]
    },
    {
     "data": {
      "application/json": {
       "cluster_name": "ai4ops",
       "driver_control_files_uri": "gs://ai4ops/google-cloud-dataproc-metainfo/2d057403-a13f-40fa-b785-43cf3d7e2bc3/jobs/demo_job_1584970620/",
       "driver_output_resource_uri": "gs://ai4ops/google-cloud-dataproc-metainfo/2d057403-a13f-40fa-b785-43cf3d7e2bc3/jobs/demo_job_1584970620/driveroutput",
       "job_id": "demo_job_1584970620",
       "project_id": "gd-gcp-techlead-experiments",
       "pyspark_job": {
        "args": [
         "--batch_interval",
         "1",
         "--output_path",
         "gs://ai4ops/mldsl/data/demo_job_1584970620"
        ],
        "main_python_file_uri": "gs://ai4ops/jobs-root/demo_job_1584970620/test_upgrade_job2.py"
       },
       "start_time": "2020-03-23T13:37:00.000000",
       "status": "RUNNING",
       "yarn_applications": [
        {
         "name": "test_new_functionality",
         "progress": 0.10000000149011612,
         "state": "RUNNING",
         "trackingUrl": "http://ai4ops-m:8088/proxy/application_1570197709805_0201/"
        }
       ]
      },
      "text/plain": [
       "<IPython.core.display.JSON object>"
      ]
     },
     "metadata": {
      "application/json": {
       "expanded": false,
       "root": "root"
      }
     },
     "output_type": "display_data"
    }
   ],
   "source": [
    "%job_upgrade -n test_upgrade_job2.py -p TestJobProfile -pm $platform --batch_interval 1 -o gs://ai4ops/mldsl/data\\\n",
    "    --old_job_id demo_job_1584970620 -v MyValidator -vp  /home/jovyan/work/data/.mldsl/my_validator.py"
   ]
  },
  {
   "cell_type": "code",
   "execution_count": null,
   "metadata": {},
   "outputs": [],
   "source": [
    "#Use job_demo_job_1584970793 instance to browse job properties.\n",
    "job_demo_job_1584970793 = job_tracker['demo_job_1584970793']"
   ]
  }
 ],
 "metadata": {
  "kernelspec": {
   "display_name": "Python 3",
   "language": "python",
   "name": "python3"
  },
  "language_info": {
   "codemirror_mode": {
    "name": "ipython",
    "version": 3
   },
   "file_extension": ".py",
   "mimetype": "text/x-python",
   "name": "python",
   "nbconvert_exporter": "python",
   "pygments_lexer": "ipython3",
   "version": "3.7.3"
  }
 },
 "nbformat": 4,
 "nbformat_minor": 4
}
