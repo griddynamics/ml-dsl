{
 "cells": [
  {
   "cell_type": "code",
   "execution_count": 4,
   "metadata": {},
   "outputs": [],
   "source": [
    "BUCKET = 'ai4ops-main-storage-bucket'\n",
    "PROJECT = 'kohls-kos-cicd'\n",
    "CLUSTER = 'ai4ops'\n",
    "REGION='global'\n",
    "AI_PLATFORM_REGION = 'us-central1'"
   ]
  },
  {
   "cell_type": "code",
   "execution_count": 5,
   "metadata": {},
   "outputs": [],
   "source": [
    "import os \n",
    "os.environ[\"JAVA_HOME\"] = '/usr/lib/jvm/jdk1.8.0_221'\n",
    "os.environ[\"PATH\"] += os.pathsep + os.environ[\"JAVA_HOME\"] + '/bin'\n",
    "os.environ[\"SPARK_HOME\"] = '/opt/conda/lib/python3.7/site-packages/pyspark'\n",
    "        "
   ]
  },
  {
   "cell_type": "code",
   "execution_count": 6,
   "metadata": {},
   "outputs": [
    {
     "data": {
      "text/plain": [
       "<module 'mldsl' from '/home/jovyan/work/data/mldsl.py'>"
      ]
     },
     "execution_count": 6,
     "metadata": {},
     "output_type": "execute_result"
    }
   ],
   "source": [
    "from mldsl import *\n",
    "import importlib\n",
    "from datetime import datetime\n",
    "import sys\n",
    "import pyspark\n",
    "import json\n",
    "import pathlib\n",
    "import importlib\n",
    "import mldsl\n",
    "importlib.reload(mldsl)"
   ]
  },
  {
   "cell_type": "code",
   "execution_count": 4,
   "metadata": {},
   "outputs": [],
   "source": [
    "# env = Environment(\"test_env\", session, json_cnfg=Path('updated_env.json').read_text())\n",
    "# env.load()\n",
    "# # env.start()\n"
   ]
  },
  {
   "cell_type": "code",
   "execution_count": 8,
   "metadata": {},
   "outputs": [],
   "source": [
    "PROJECT_PATH='/home/jovyan/work/data/poc'\n",
    "SCRIPT_PATH = f\"{PROJECT_PATH}/spark/ingest\"\n",
    "RESOURCES='/opt/dataproc/.resources'\n",
    "\n",
    "DURATION = '1' # seconds\n",
    "POOL_SIZE = '2'\n",
    "TIMEOUT = '1440' # minutes\n",
    "WRITE_FORMAT = 'csv'\n",
    "SLICE_SIZE = '10000'\n"
   ]
  },
  {
   "cell_type": "code",
   "execution_count": 15,
   "metadata": {},
   "outputs": [],
   "source": [
    "builder = DataprocJobBuilder()\n",
    "session = GCPSessionFactory.build_session(job_bucket=BUCKET,job_region=REGION, cluster=CLUSTER, job_project_id=PROJECT, \n",
    "                                          ml_region=AI_PLATFORM_REGION)"
   ]
  },
  {
   "cell_type": "code",
   "execution_count": 16,
   "metadata": {},
   "outputs": [],
   "source": [
    "arguments = Arguments()\n",
    "arguments.set_args(**{'--metric_filter':'cncservice_blue-pvs-agg',\\\n",
    "             '--metrics_path':'gs://ai4ops-main-storage-bucket/nd_history/no_duplicates/ai4ops_remove_duplicates_1567251136/part*',\\\n",
    "             '--output_path':'gs://ai4ops-main-storage-bucket/jobs-root/demo_data'\n",
    "            })"
   ]
  },
  {
   "cell_type": "code",
   "execution_count": 17,
   "metadata": {},
   "outputs": [],
   "source": [
    "TIMESTAMP = int(datetime.now().timestamp())\n",
    "\n",
    "demo_data_job_name = f\"prepare_demo_data_{TIMESTAMP}\"\n",
    "\n",
    "demo_data_job = builder.files_root(SCRIPT_PATH)\\\n",
    ".job_file(f'save_demo_data.py')\\\n",
    ".job_id(demo_data_job_name)\\\n",
    ".py_file('ai4ops_db.py')\\\n",
    ".py_file('yarn_logging.py')\\\n",
    ".label('env','dev')\\\n",
    ".arguments(arguments)\\\n",
    ".build_job()\n",
    "\n",
    "demo_data_executor = DataprocExecutor(demo_data_job, session)"
   ]
  },
  {
   "cell_type": "code",
   "execution_count": 18,
   "metadata": {},
   "outputs": [
    {
     "name": "stdout",
     "output_type": "stream",
     "text": [
      "Uploading file from dir: jobs-root/prepare_demo_data_1570132554/save_demo_data.py\n",
      "Uploading file from dir: jobs-root/prepare_demo_data_1570132554/ai4ops_db.py\n",
      "Uploading file from dir: jobs-root/prepare_demo_data_1570132554/yarn_logging.py\n",
      "Job with id prepare_demo_data_1570132554 was submitted to the cluster ai4ops\n",
      "Job STATUS was set to PENDING at 2019-10-03 19:55:59\n",
      "Job STATUS was set to SETUP_DONE at 2019-10-03 19:56:00\n",
      "      Yarn APP /home/jovyan/work/data/poc/spark/ingest/save_demo_data.py with STATUS RUNNING has PROGRESS 10\n",
      "Job STATUS was set to RUNNING at 2019-10-03 19:56:00\n",
      "      Yarn APP /home/jovyan/work/data/poc/spark/ingest/save_demo_data.py with STATUS FINISHED has PROGRESS 100\n",
      "Job STATUS was set to DONE at 2019-10-03 19:59:57\n"
     ]
    },
    {
     "data": {
      "text/plain": [
       "reference {\n",
       "  project_id: \"kohls-kos-cicd\"\n",
       "  job_id: \"prepare_demo_data_1570132554\"\n",
       "}\n",
       "placement {\n",
       "  cluster_name: \"ai4ops\"\n",
       "  cluster_uuid: \"c022315c-e92e-4bd7-a96c-7912e869d5c4\"\n",
       "}\n",
       "pyspark_job {\n",
       "  main_python_file_uri: \"gs://ai4ops-main-storage-bucket/jobs-root/prepare_demo_data_1570132554/save_demo_data.py\"\n",
       "  args: \"--metric_filter\"\n",
       "  args: \"cncservice_blue-pvs-agg\"\n",
       "  args: \"--metrics_path\"\n",
       "  args: \"gs://ai4ops-main-storage-bucket/nd_history/no_duplicates/ai4ops_remove_duplicates_1567251136/part*\"\n",
       "  args: \"--output_path\"\n",
       "  args: \"gs://ai4ops-main-storage-bucket/jobs-root/demo_data\"\n",
       "  python_file_uris: \"gs://ai4ops-main-storage-bucket/jobs-root/prepare_demo_data_1570132554/ai4ops_db.py\"\n",
       "  python_file_uris: \"gs://ai4ops-main-storage-bucket/jobs-root/prepare_demo_data_1570132554/yarn_logging.py\"\n",
       "}\n",
       "status {\n",
       "  state: DONE\n",
       "  state_start_time {\n",
       "    seconds: 1570132797\n",
       "    nanos: 951000000\n",
       "  }\n",
       "}\n",
       "yarn_applications {\n",
       "  name: \"pepare_demo_data\"\n",
       "  state: FINISHED\n",
       "  progress: 1.0\n",
       "  tracking_url: \"http://ai4ops-m:8088/proxy/application_1565269688945_3760/\"\n",
       "}\n",
       "status_history {\n",
       "  state: PENDING\n",
       "  state_start_time {\n",
       "    seconds: 1570132559\n",
       "    nanos: 210000000\n",
       "  }\n",
       "}\n",
       "status_history {\n",
       "  state: SETUP_DONE\n",
       "  state_start_time {\n",
       "    seconds: 1570132560\n",
       "    nanos: 245000000\n",
       "  }\n",
       "}\n",
       "status_history {\n",
       "  state: RUNNING\n",
       "  details: \"Agent reported job success\"\n",
       "  state_start_time {\n",
       "    seconds: 1570132560\n",
       "    nanos: 585000000\n",
       "  }\n",
       "}\n",
       "driver_control_files_uri: \"gs://ai4ops-main-storage-bucket/google-cloud-dataproc-metainfo/c022315c-e92e-4bd7-a96c-7912e869d5c4/jobs/prepare_demo_data_1570132554/\"\n",
       "driver_output_resource_uri: \"gs://ai4ops-main-storage-bucket/google-cloud-dataproc-metainfo/c022315c-e92e-4bd7-a96c-7912e869d5c4/jobs/prepare_demo_data_1570132554/driveroutput\"\n",
       "labels {\n",
       "  key: \"env\"\n",
       "  value: \"dev\"\n",
       "}\n",
       "job_uuid: \"4890a38b-c0cc-31fa-8fb0-34ab7ed41fbb\""
      ]
     },
     "execution_count": 18,
     "metadata": {},
     "output_type": "execute_result"
    }
   ],
   "source": [
    "demo_data_executor.submit_job(run_async=False)"
   ]
  },
  {
   "cell_type": "code",
   "execution_count": 3,
   "metadata": {},
   "outputs": [
    {
     "name": "stdout",
     "output_type": "stream",
     "text": [
      "Script output:\n",
      " \n"
     ]
    },
    {
     "data": {
      "text/plain": [
       "<mldsl.PyScript at 0x7f9a0c2c2dd8>"
      ]
     },
     "execution_count": 3,
     "metadata": {},
     "output_type": "execute_result"
    }
   ],
   "source": [
    ""
   ]
  },
  {
   "cell_type": "code",
   "execution_count": null,
   "metadata": {},
   "outputs": [],
   "source": []
  },
  {
   "cell_type": "code",
   "execution_count": null,
   "metadata": {},
   "outputs": [],
   "source": []
  }
 ],
 "metadata": {
  "kernelspec": {
   "display_name": "Python 3",
   "language": "python",
   "name": "python3"
  },
  "language_info": {
   "codemirror_mode": {
    "name": "ipython",
    "version": 3
   },
   "file_extension": ".py",
   "mimetype": "text/x-python",
   "name": "python",
   "nbconvert_exporter": "python",
   "pygments_lexer": "ipython3",
   "version": "3.7.3"
  }
 },
 "nbformat": 4,
 "nbformat_minor": 4
}
