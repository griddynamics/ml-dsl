{
 "cells": [
  {
   "cell_type": "markdown",
   "metadata": {},
   "source": [
    "<h1><center>ML DSL in Action</center></h1>\n",
    "\n",
    "Google Cloud Platform: \n",
    "1. Google Dataproc\n",
    "2. Google Cloud Storage\n",
    "3. Google AI Platform"
   ]
  },
  {
   "cell_type": "code",
   "execution_count": 1,
   "metadata": {},
   "outputs": [],
   "source": [
    "import com.griddynamics.dsl.ml.mldsl as mldsl\n",
    "from com.griddynamics.dsl.ml.settings.profiles import PySparkJobProfile, AIProfile, DeployAIProfile\n",
    "from com.griddynamics.dsl.ml.settings.description import Platform\n",
    "\n",
    "import importlib\n",
    "import os\n",
    "from datetime import datetime\n",
    "from sklearn.metrics import classification_report, confusion_matrix\n",
    "import matplotlib\n",
    "import seaborn as sns\n",
    "import matplotlib.pyplot as plt\n",
    "import pandas as pd\n",
    "%matplotlib inline"
   ]
  },
  {
   "cell_type": "markdown",
   "metadata": {},
   "source": [
    "## Prepare Sequences from Original Text"
   ]
  },
  {
   "cell_type": "markdown",
   "metadata": {},
   "source": [
    "### Text Sample"
   ]
  },
  {
   "cell_type": "code",
   "execution_count": 2,
   "metadata": {},
   "outputs": [
    {
     "name": "stdout",
     "output_type": "stream",
     "text": [
      "I went and saw this movie last night after being coaxed to by a few friends of mine. I'll admit that I was reluctant to see it because from what I knew of Ashton Kutcher he was only able to do comedy. I was wrong. Kutcher played the character of Jake Fischer very well, and Kevin Costner played Ben Randall with such professionalism. The sign of a good movie is that it can toy with our emotions. This one did exactly that. The entire theater (which was sold out) was overcome by laughter during the first half of the movie, and were moved to tears during the second half. While exiting the theater I not only saw many women in tears, but many full grown men as well, trying desperately not to let anyone see them crying. This movie was great, and I suggest that you go see it before you judge."
     ]
    }
   ],
   "source": [
    "!head -n 20 dev/aclImdb/test/pos/0_10.txt"
   ]
  },
  {
   "cell_type": "markdown",
   "metadata": {},
   "source": [
    "### Tokenizer to Create Sequences "
   ]
  },
  {
   "cell_type": "markdown",
   "metadata": {},
   "source": [
    "### Execute Tokenizer on ML Platform"
   ]
  },
  {
   "cell_type": "code",
   "execution_count": 4,
   "metadata": {},
   "outputs": [
    {
     "name": "stdout",
     "output_type": "stream",
     "text": [
      "Words saved to: \"dev//20-06-19-09-23-52/words\"\n",
      "Train saved to: \"dev//20-06-19-09-23-52/train\"\n",
      "Test saved to: \"dev//20-06-19-09-23-52/test\"\n",
      "Local SparkContext has been stopped automatically\n",
      "Temporary path: /home/jovyan/work/data/.mldsl/text_tokenizer.py\n"
     ]
    },
    {
     "data": {
      "text/plain": [
       "<com.griddynamics.dsl.ml.py_script.PyScript at 0x7f9699ff5a58>"
      ]
     },
     "execution_count": 4,
     "metadata": {},
     "output_type": "execute_result"
    }
   ],
   "source": [
    "%%py_script -e --name text_tokenizer.py --path demo/scripts --train_path dev/aclImdb/train/ --test_path dev/aclImdb/test/ --word_embeds dev/glove.6B.50d.txt -o dev/\n",
    "#!/usr/bin/python\n",
    "\n",
    "from pyspark import SQLContext, SparkContext\n",
    "from pyspark.sql.window import Window\n",
    "import pyspark.sql.functions as F\n",
    "from pyspark.sql import Row\n",
    "from pyspark.sql.types import StringType, ArrayType, IntegerType, FloatType\n",
    "from pyspark.ml.feature import Tokenizer\n",
    "import argparse\n",
    "\n",
    "\n",
    "def read_glove_vecs(glove_file, output_path):\n",
    "    rdd = sc.textFile(glove_file)\n",
    "    row = Row(\"glovevec\")\n",
    "    df = rdd.map(row).toDF()\n",
    "    split_col = F.split(F.col('glovevec'), \" \")\n",
    "    df = df.withColumn('word', split_col.getItem(0))\n",
    "    df = df.withColumn('splitted', split_col)\n",
    "    vec_udf = F.udf(lambda row: [float(i) for i in row[1:]], ArrayType(FloatType()))\n",
    "    df = df.withColumn('vec', vec_udf(F.col('splitted')))\n",
    "    df = df.drop('splitted', \"glovevec\")\n",
    "    w = Window.orderBy([\"word\"])\n",
    "    qdf = df.withColumn('vec', F.concat_ws(',', 'vec')).withColumn(\"id\", F.row_number().over(w))\n",
    "    \n",
    "    path = '{}/words'.format(output_path)\n",
    "    qdf.coalesce(1).write.format('csv').option(\"sep\",\"\\t\").option('header', 'true').save(path)\n",
    "    print('Words saved to: \"{}\"'.format(path))\n",
    "    list_words = list(map(lambda row: row.asDict(), qdf.collect()))\n",
    "    word_to_vec_map = {item['word']: item['vec'] for item in list_words}\n",
    "    words_to_index = {item['word']:item[\"id\"] for item in list_words}\n",
    "    index_to_words = {item[\"id\"]: item['word'] for item in list_words}\n",
    "    return words_to_index, index_to_words, word_to_vec_map\n",
    "\n",
    "\n",
    "def prepare_df(path, const, words_dct):\n",
    "    rdd = sc.textFile(path)\n",
    "    row = Row(\"review\")\n",
    "    df = rdd.map(row).toDF()\n",
    "    # Clean text\n",
    "    df_clean = df.select(F.lower(F.regexp_replace(F.col('review'), \"n't\", \" n't\")).alias('review'))\n",
    "    df_clean = df_clean.select(F.lower(F.regexp_replace(F.col('review'), \n",
    "                                                        \"[^0-9a-zA-Z\\\\s]\", \"\")).alias('review'))\n",
    "    # Tokenize text\n",
    "    tokenizer = Tokenizer(inputCol='review', outputCol='words_token')\n",
    "    df_words_token = tokenizer.transform(df_clean).select('words_token')\n",
    "    df_cutted = df_words_token.withColumn('length', F.size(F.col('words_token')))\n",
    "    # Replace word with it's index\n",
    "    word_udf = F.udf(lambda row: [words_to_index[w] if w in words_to_index.keys() else words_to_index[\"unk\"] for w in row],\n",
    "                 ArrayType(IntegerType()))\n",
    "    df_stemmed = df_cutted.withColumn('words_stemmed', word_udf(F.col('words_token')))\n",
    "    return df_stemmed.withColumn(\"class\", F.lit(const))\n",
    "\n",
    "\n",
    "def save_dataset(df_pos, df_neg, path):\n",
    "    df = df_pos.union(df_neg)\n",
    "    w = Window.orderBy([\"words_stemmed\"])\n",
    "    df = df.withColumn(\"review_id\", F.row_number().over(w)).withColumn('int_seq',\n",
    "                                                                       F.concat_ws(',', 'words_stemmed'))\n",
    "    qdf = df.select(['review_id', 'int_seq', 'class'])\n",
    "    qdf.coalesce(1).write.format('csv').option('header', 'true').save(path)\n",
    "\n",
    "    \n",
    "if __name__ == '__main__':\n",
    "    parser = argparse.ArgumentParser()\n",
    "    parser.add_argument('--train_path', type=str, help=\"train positive reviews path\")\n",
    "    parser.add_argument('--test_path', type=str, help=\"test positive reviews path\")\n",
    "    parser.add_argument('--word_embeds', type=str, help=\"Path to glove word embeddings\")\n",
    "    parser.add_argument('--output_path', type=str, help=\"Sequences output path\")\n",
    "    \n",
    "\n",
    "    args, d = parser.parse_known_args()\n",
    "    output_path = args.output_path\n",
    "    SparkContext.setSystemProperty('spark.sql.broadcastTimeout', '36000')\n",
    "    sc = SparkContext(appName=\"word_tokenizer\").getOrCreate()\n",
    "    sql = SQLContext(sc)\n",
    "\n",
    "    words_to_index, index_to_words, word_to_vec_map = read_glove_vecs(args.word_embeds, output_path)\n",
    "    reviews_filter = '999*.txt'\n",
    "    df_pos = prepare_df(f\"{args.train_path}/pos/{reviews_filter}\", 1, words_to_index)\n",
    "    df_neg = prepare_df(f\"{args.train_path}/neg/{reviews_filter}\", 0, words_to_index)\n",
    "    train_path = '{}/train'.format(output_path)\n",
    "    save_dataset(df_pos, df_neg, train_path)\n",
    "    print('Train saved to: \"{}\"'.format(train_path))\n",
    "\n",
    "    df_pos = prepare_df(f\"{args.test_path}/pos/{reviews_filter}\", 1, words_to_index)\n",
    "    df_neg = prepare_df(f\"{args.test_path}/neg/{reviews_filter}\", 0, words_to_index)\n",
    "    test_path = '{}/test'.format(output_path)\n",
    "    save_dataset(df_pos, df_neg, test_path)\n",
    "    print('Test saved to: \"{}\"'.format(test_path))"
   ]
  },
  {
   "cell_type": "code",
   "execution_count": 2,
   "metadata": {},
   "outputs": [],
   "source": [
    "platform = Platform.GCP\n",
    "profile = PySparkJobProfile(root_path='demo/scripts',\n",
    "                                  bucket='ai4ops',\n",
    "                                  project='gd-gcp-techlead-experiments',\n",
    "                                  cluster='ai4ops',\n",
    "                                  region='global',\n",
    "                                  ai_region='us-central1-a',\n",
    "                                  job_prefix='demo_job',\n",
    "                                  job_async=False)\n",
    "profile.args=profile.load_profile_data(\"demo/spark_job_args_gcp.json\")\n",
    "PySparkJobProfile.set('JobProfile', profile)"
   ]
  },
  {
   "cell_type": "code",
   "execution_count": 15,
   "metadata": {},
   "outputs": [
    {
     "name": "stdout",
     "output_type": "stream",
     "text": [
      "Parameters string = <<<-n text_tokenizer.py -p JobProfile -pm 1 -o gs://ai4ops/mldsl/data>>>\n"
     ]
    },
    {
     "data": {
      "text/html": [
       "<a href=\"https://console.cloud.google.com/dataproc/jobs/demo_job_1592575205?project=gd-gcp-techlead-experiments&region=global\">demo_job_1592575205</a>"
      ],
      "text/plain": [
       "<IPython.core.display.HTML object>"
      ]
     },
     "metadata": {},
     "output_type": "display_data"
    },
    {
     "name": "stdout",
     "output_type": "stream",
     "text": [
      "Job with id demo_job_1592575205 was submitted to the cluster ai4ops\n",
      "Job STATUS was set to DONE at 2020-06-19 14:01:42\n"
     ]
    },
    {
     "data": {
      "text/html": [
       "<a href=\"https://console.cloud.google.com/storage/browser/ai4ops/mldsl/data/demo_job_1592575205?project=gd-gcp-techlead-experiments\">Output Data demo_job_1592575205</a>"
      ],
      "text/plain": [
       "<IPython.core.display.HTML object>"
      ]
     },
     "metadata": {},
     "output_type": "display_data"
    },
    {
     "data": {
      "application/json": {
       "driver_control_files_uri": "gs://ai4ops/google-cloud-dataproc-metainfo/2d057403-a13f-40fa-b785-43cf3d7e2bc3/jobs/demo_job_1592575205/",
       "driver_output_resource_uri": "gs://ai4ops/google-cloud-dataproc-metainfo/2d057403-a13f-40fa-b785-43cf3d7e2bc3/jobs/demo_job_1592575205/driveroutput",
       "labels": {},
       "placement": {
        "cluster_name": "ai4ops"
       },
       "pyspark_job": {
        "archive_uris": [],
        "args": [
         "--output_path",
         "gs://ai4ops/mldsl/data/demo_job_1592575205",
         "--train_path",
         "gs://ai4ops/mldsl/data/aclImdb/train",
         "--test_path",
         "gs://ai4ops/mldsl/data/aclImdb/test",
         "--word_embeds",
         "gs://ai4ops/mldsl/data/glove.6B.50d.txt"
        ],
        "file_uris": [],
        "jar_file_uris": [],
        "logging_config": {
         "driver_log_levels": {}
        },
        "main_python_file_uri": "gs://ai4ops/jobs-root/demo_job_1592575205/text_tokenizer.py",
        "properties": {},
        "python_file_uris": [
         "gs://ai4ops/jobs-root/demo_job_1592575205/text_tokenizer.py"
        ]
       },
       "reference": {
        "job_id": "demo_job_1592575205",
        "project_id": "gd-gcp-techlead-experiments"
       },
       "scheduling": {
        "max_failures_per_hour": 0
       },
       "start_time": "2020-06-19T14:01:42.000000",
       "status": "DONE",
       "yarn_applications": [
        {
         "name": "word_tokenizer",
         "progress": 1,
         "state": "FINISHED",
         "trackingUrl": "http://ai4ops-m:8088/proxy/application_1590766736446_0008/"
        }
       ]
      },
      "text/plain": [
       "<IPython.core.display.JSON object>"
      ]
     },
     "metadata": {
      "application/json": {
       "expanded": false,
       "root": "root"
      }
     },
     "output_type": "display_data"
    }
   ],
   "source": [
    "%py_data -n text_tokenizer.py -p JobProfile -pm $platform -o gs://ai4ops/mldsl/data"
   ]
  },
  {
   "cell_type": "code",
   "execution_count": null,
   "metadata": {},
   "outputs": [],
   "source": [
    "#Use job_demo_job_1592575205 instance to browse job properties.\n",
    "#job_demo_job_1592575205 = job_tracker['demo_job_1592575205']"
   ]
  },
  {
   "cell_type": "markdown",
   "metadata": {},
   "source": [
    "# ML Model to Predict Positive or Negative Review"
   ]
  },
  {
   "cell_type": "markdown",
   "metadata": {},
   "source": [
    "### Configure Additional Dependencies"
   ]
  },
  {
   "cell_type": "markdown",
   "metadata": {},
   "source": [
    "### LSTM Train Script"
   ]
  },
  {
   "cell_type": "code",
   "execution_count": 2,
   "metadata": {},
   "outputs": [
    {
     "name": "stdout",
     "output_type": "stream",
     "text": [
      "Temporary path: /home/jovyan/work/data/.mldsl/mr_model.py\n"
     ]
    },
    {
     "data": {
      "text/plain": [
       "<com.griddynamics.dsl.ml.py_script.PyScript at 0x7f73bb3ef550>"
      ]
     },
     "execution_count": 2,
     "metadata": {},
     "output_type": "execute_result"
    }
   ],
   "source": [
    "%%py_script -n mr_model.py -p demo/model/words/trainer -o dev/models --epochs 3 --train_path gs://ai4ops/mldsl/data/demo_job_1590767199/train --word_embeds gs://ai4ops/mldsl/data/demo_job_1590767199/words --seq_len 150\n",
    "#!/usr/bin/python\n",
    "\n",
    "import warnings\n",
    "with warnings.catch_warnings():\n",
    "    warnings.simplefilter(\"ignore\")\n",
    "    import pandas as pd\n",
    "    import numpy as np\n",
    "    from tensorflow.python.lib.io import file_io\n",
    "    from tensorflow.keras.layers import Dense, Input, LSTM, Embedding, Dropout, Activation\n",
    "    from tensorflow.keras.models import Model\n",
    "    from tensorflow.keras.callbacks import Callback\n",
    "    from tensorflow.keras.optimizers import Adam\n",
    "    import tensorflow as tf\n",
    "    import os\n",
    "\n",
    "    from uuid import uuid4\n",
    "    import argparse\n",
    "    import matplotlib\n",
    "    if matplotlib.get_backend() in ['TkAgg', 'TkCairo']:\n",
    "        matplotlib.use('agg')\n",
    "    import matplotlib.pyplot as plt\n",
    "    import seaborn as sns\n",
    "\n",
    "class MetricCallback(Callback):\n",
    "    def on_train_begin(self,logs={}):\n",
    "        self.losses = []\n",
    "        self.accuracies = []\n",
    "\n",
    "    def on_batch_end(self, batch, logs={}):\n",
    "        self.losses.append(logs.get('loss'))\n",
    "        self.accuracies.append(logs.get('acc'))\n",
    "\n",
    "\n",
    "def read_glove_vectors(glove_file):\n",
    "    files = file_io.get_matching_files('{}/part*'.format(glove_file))\n",
    "    for file in files:\n",
    "        with file_io.FileIO(file, 'r') as f:\n",
    "            word_to_vec_map = {}\n",
    "            words_to_index = {}\n",
    "        fl = f.readline()\n",
    "        for line in f:\n",
    "            line = line.strip().split('\\t')\n",
    "            word_to_vec_map[line[0]] = np.array(line[1].split(','), dtype=np.float64)\n",
    "            words_to_index[line[0]] = int(line[2])\n",
    "    return words_to_index, word_to_vec_map\n",
    "\n",
    "\n",
    "def read_csv(path):\n",
    "    files = file_io.get_matching_files('{}/part*'.format(path))\n",
    "    pdf = []\n",
    "    for file in files:\n",
    "        with file_io.FileIO(file, 'r') as f:\n",
    "            df = pd.read_csv(f)\n",
    "            if df is not None and len(df) != 0:\n",
    "                pdf.append(df)\n",
    "    if len(pdf) == 0:\n",
    "        return None\n",
    "    return pd.concat(pdf, axis=0, ignore_index=True).reset_index()\n",
    "\n",
    "\n",
    "def pretrained_embed_layer(word_to_vec_map, word_to_index, emb_dim):\n",
    "    emb_matrix = np.zeros((len(word_to_index)+1, emb_dim))\n",
    "    for word, idx in word_to_index.items():\n",
    "        emb_matrix[idx, :] = word_to_vec_map[word]\n",
    "    \n",
    "    return emb_matrix\n",
    "\n",
    "\n",
    "def define_model(input_shape, emb_matrix, vocab_len, emb_dim, rnn_units, dropout=0.5):\n",
    "    sentence_indices = Input(input_shape, dtype=\"int32\")\n",
    "    # Create the embedding layer pretrained with GloVe Vectors\n",
    "    embedding_layer = Embedding(input_dim=vocab_len, trainable=False, output_dim=emb_dim)\n",
    "    embedding_layer.build((None,))\n",
    "    embedding_layer.set_weights([emb_matrix])\n",
    "    # Propagate sentence_indices through your embedding layer\n",
    "    embeddings = embedding_layer(sentence_indices)\n",
    "    X = LSTM(units=rnn_units, return_sequences=False)(embeddings)\n",
    "    # Add dropout with a probability \n",
    "    X = Dropout(dropout)(X)\n",
    "    # Propagate X through a Dense layer\n",
    "    X = Dense(2)(X)\n",
    "    # Add a softmax activation\n",
    "    X = Activation(\"softmax\")(X)\n",
    "    # Create Model instance which converts sentence_indices into X.\n",
    "    model = Model(inputs=sentence_indices, outputs=X)\n",
    "    return model\n",
    "\n",
    "\n",
    "def convert_to_one_hot(Y, C=2):\n",
    "    Y = np.eye(C)[Y.reshape(-1)]\n",
    "    return Y\n",
    "\n",
    "def prepare_dataset(path, N, word_to_index):\n",
    "    data = read_csv(path)\n",
    "    data.dropna(inplace=True)\n",
    "    data['int_seq'] = data['int_seq'].apply(lambda x: [int(i) for i in x.split(',')])\n",
    "    l = data['int_seq'].apply(lambda x: len(x))\n",
    "    print(\"Max sequence is set to {}\".format(N))\n",
    "    data['int_seq'] = data['int_seq'].apply(lambda x: (x + [word_to_index[\"unk\"]] * N)[:N])\n",
    "    ds_x = np.asarray(list(data[\"int_seq\"]))\n",
    "    ds_y = data[\"class\"].values\n",
    "    return ds_x, ds_y, l\n",
    "\n",
    "\n",
    "def plot_metrics(callback, dir_to_save):\n",
    "    f, axes = plt.subplots(1, 2, figsize=(18, 5))\n",
    "    plt.style.use('seaborn')\n",
    "    plt.rcParams['axes.titlesize'] = 16\n",
    "    sns.lineplot(x=range(len(callback.losses)), y=callback.losses, ax=axes[0])\n",
    "    axes[0].title.set_text(\"Loss\")\n",
    "    sns.lineplot(x=range(len(callback.accuracies)), y=callback.accuracies, ax=axes[1])\n",
    "    axes[1].title.set_text(\"Accuracy\")\n",
    "    plt.tight_layout(.5)\n",
    "    plt.savefig('{}'.format(dir_to_save))\n",
    "    plt.show()\n",
    "\n",
    "\n",
    "if __name__ == '__main__':\n",
    "    parser = argparse.ArgumentParser()\n",
    "    parser.add_argument('--train_path', type=str, help=\"Train files path\")\n",
    "    parser.add_argument('--output_path', type=str, help=\"Models output path\")\n",
    "    parser.add_argument('--word_embeds', type=str, help=\"Models output path\")\n",
    "    parser.add_argument('--seq_len', type=int, help=\"Length of input sequence\")\n",
    "    parser.add_argument('--epochs', type=int, help=\"Number of epochs\")\n",
    "    args, d = parser.parse_known_args()\n",
    "\n",
    "    word_to_index, word_to_vec_map = read_glove_vectors(args.word_embeds)\n",
    "    N = args.seq_len\n",
    "    train_x, train_y, l = prepare_dataset(args.train_path, N, word_to_index)\n",
    "    train_y = convert_to_one_hot(train_y, C=2)\n",
    "    NUM_EPOCS = args.epochs\n",
    "    RNN_STATE_DIM = 32\n",
    "    LEARNING_RATE = 0.01\n",
    "    vocab_len = len(word_to_index) + 1\n",
    "    emb_dim = word_to_vec_map[\"cucumber\"].shape[0]\n",
    "    emb_matrix = pretrained_embed_layer(word_to_vec_map, word_to_index, emb_dim)\n",
    "\n",
    "    model = define_model((N, ), emb_matrix, vocab_len, emb_dim, RNN_STATE_DIM)\n",
    "    print(model.summary())\n",
    "    model.compile(loss='binary_crossentropy', optimizer=Adam(lr=LEARNING_RATE), metrics=['accuracy'])\n",
    "    # fit model\n",
    "    metrics = MetricCallback()\n",
    "    a = model.fit(train_x, train_y, batch_size=1024, epochs=NUM_EPOCS, callbacks=[metrics], \n",
    "                  shuffle=True)\n",
    "\n",
    "    tf.get_logger().setLevel('ERROR')\n",
    "    # save the model to file\n",
    "    local_dir = uuid4().hex\n",
    "    file_io.recursive_create_dir(local_dir)\n",
    "    local_path = f'{local_dir}/saved_model'\n",
    "    tf.saved_model.save(model, local_path)\n",
    "    local_path_chart = '{}/metrics.png'.format(local_dir)\n",
    "    plot_metrics(metrics, local_path_chart)\n",
    "    \n",
    "    remote_dir = args.output_path\n",
    "    remote_path = f'{remote_dir}/saved_model'\n",
    "    remote_path_chart = f'{remote_dir}/metrics.png'\n",
    "    if not remote_dir.startswith('gs://'):\n",
    "        file_io.recursive_create_dir(remote_dir)\n",
    "    file_io.copy(local_path_chart, remote_path_chart)\n",
    "    tf.saved_model.save(model, remote_path)\n",
    "    \n",
    "    file_io.delete_recursively(local_dir)"
   ]
  },
  {
   "cell_type": "code",
   "execution_count": 3,
   "metadata": {},
   "outputs": [],
   "source": [
    "platform = Platform.GCP\n",
    "profile = AIProfile(bucket='ai4ops', cluster='ai4ops', region='global', job_prefix='train',\n",
    "                    root_path='demo/model/words', \n",
    "                    project='gd-gcp-techlead-experiments',\n",
    "                    ai_region='us-central1', job_async=False,\n",
    "                    package_name='trainer', package_dst='mldsl/packages',\n",
    "                    scale_tier='BASIC', runtime_version='1.15', python_version='3.7')\n",
    "profile.arguments = profile.load_profile_data(\"demo/train_args.json\")\n",
    "AIProfile.set('AIProfile', profile)"
   ]
  },
  {
   "cell_type": "code",
   "execution_count": 4,
   "metadata": {},
   "outputs": [
    {
     "name": "stdout",
     "output_type": "stream",
     "text": [
      "Temporary path: /home/jovyan/work/data/.mldsl/setup.py\n"
     ]
    },
    {
     "data": {
      "text/plain": [
       "<com.griddynamics.dsl.ml.py_script.PyScript at 0x7f73b898b9e8>"
      ]
     },
     "execution_count": 4,
     "metadata": {},
     "output_type": "execute_result"
    }
   ],
   "source": [
    "%%py_script --name setup.py --path demo/model/words\n",
    "# %py_load demo/model/words/setup.py\n",
    "#!/usr/bin/python\n",
    "from setuptools import setup, find_packages\n",
    "\n",
    "REQUIRED_PACKAGES = ['Keras==2.0.4','matplotlib==2.2.4','seaborn==0.9.0']\n",
    "\n",
    "setup(\n",
    "    name='trainer',\n",
    "    version='1.0',\n",
    "    packages=find_packages(),\n",
    "    install_requires=REQUIRED_PACKAGES,\n",
    "    author='Grid Dynamics ML Engineer',\n",
    "    author_email='griddynamics@griddynamics.com',\n",
    "    url='https://griddynamics.com'\n",
    ")\n"
   ]
  },
  {
   "cell_type": "code",
   "execution_count": 5,
   "metadata": {},
   "outputs": [
    {
     "data": {
      "text/html": [
       "<a href=\"https://console.cloud.google.com/ai-platform/jobs/train_1593085765/charts/cpu?project=gd-gcp-techlead-experiments\">train_1593085765</a>"
      ],
      "text/plain": [
       "<IPython.core.display.HTML object>"
      ]
     },
     "metadata": {},
     "output_type": "display_data"
    },
    {
     "name": "stdout",
     "output_type": "stream",
     "text": [
      "running sdist\n",
      "running egg_info\n",
      "writing trainer.egg-info/PKG-INFO\n",
      "writing dependency_links to trainer.egg-info/dependency_links.txt\n",
      "writing requirements to trainer.egg-info/requires.txt\n",
      "writing top-level names to trainer.egg-info/top_level.txt\n",
      "reading manifest file 'trainer.egg-info/SOURCES.txt'\n",
      "writing manifest file 'trainer.egg-info/SOURCES.txt'\n",
      "running check\n",
      "creating trainer-1.0\n",
      "creating trainer-1.0/trainer\n",
      "creating trainer-1.0/trainer.egg-info\n",
      "copying files to trainer-1.0...\n",
      "copying README.md -> trainer-1.0\n",
      "copying setup.py -> trainer-1.0\n",
      "copying trainer/__init__.py -> trainer-1.0/trainer\n",
      "copying trainer/mr_model.py -> trainer-1.0/trainer\n",
      "copying trainer.egg-info/PKG-INFO -> trainer-1.0/trainer.egg-info\n",
      "copying trainer.egg-info/SOURCES.txt -> trainer-1.0/trainer.egg-info\n",
      "copying trainer.egg-info/dependency_links.txt -> trainer-1.0/trainer.egg-info\n",
      "copying trainer.egg-info/requires.txt -> trainer-1.0/trainer.egg-info\n",
      "copying trainer.egg-info/top_level.txt -> trainer-1.0/trainer.egg-info\n",
      "Writing trainer-1.0/setup.cfg\n",
      "Creating tar archive\n",
      "removing 'trainer-1.0' (and everything under it)\n",
      "Uploading custom package demo/model/words/dist/trainer-1.0.tar.gz to dir gs://ai4ops/mldsl/packages/train_1593085765/trainer-1.0.tar.gz\n"
     ]
    },
    {
     "data": {
      "text/html": [
       "<a href=\"https://console.cloud.google.com/storage/browser/ai4ops/mldsl/train_1593085765?project=gd-gcp-techlead-experiments\">Output Data train_1593085765</a>"
      ],
      "text/plain": [
       "<IPython.core.display.HTML object>"
      ]
     },
     "metadata": {},
     "output_type": "display_data"
    },
    {
     "data": {
      "application/json": {
       "createTime": "2020-06-25T11:49:26Z",
       "endTime": "2020-06-25T12:01:48Z",
       "etag": "OM3W4sCz8J8=",
       "jobId": "train_1593085765",
       "startTime": "2020-06-25T11:50:12Z",
       "state": "SUCCEEDED",
       "trainingInput": {
        "args": [
         "--train_path",
         "gs://ai4ops/mldsl/data/demo_job_1590767199/train",
         "--word_embeds",
         "gs://ai4ops/mldsl/data/demo_job_1590767199/words",
         "--seq_len",
         "150",
         "--epochs",
         "40",
         "-s",
         "demo/model/words",
         "--output_path",
         "gs://ai4ops/mldsl/train_1593085765"
        ],
        "jobDir": "gs://ai4ops/mldsl/train_1593085765",
        "packageUris": [
         "gs://ai4ops/mldsl/packages/train_1593085765/trainer-1.0.tar.gz"
        ],
        "pythonModule": "trainer.mr_model",
        "pythonVersion": "3.7",
        "region": "us-central1",
        "runtimeVersion": "1.15"
       },
       "trainingOutput": {
        "consumedMLUnits": 0.06
       }
      },
      "text/plain": [
       "<IPython.core.display.JSON object>"
      ]
     },
     "metadata": {
      "application/json": {
       "expanded": false,
       "root": "root"
      }
     },
     "output_type": "display_data"
    }
   ],
   "source": [
    "%py_train -n mr_model.py -s demo/model/words -p AIProfile -pm $platform -o gs://ai4ops/mldsl"
   ]
  },
  {
   "cell_type": "markdown",
   "metadata": {},
   "source": [
    "## Deployment of model"
   ]
  },
  {
   "cell_type": "markdown",
   "metadata": {},
   "source": [
    "##### Parameters of deployment: name of model, version, artifacts (models saved as .joblib, .h5 etc), custom code"
   ]
  },
  {
   "cell_type": "code",
   "execution_count": 8,
   "metadata": {},
   "outputs": [],
   "source": [
    "platform = Platform.GCP\n",
    "profile = DeployAIProfile(bucket='ai4ops', cluster='ai4ops', region='global', \n",
    "                          job_prefix='deploy',\n",
    "                          root_path='demo/deploy', \n",
    "                          project='gd-gcp-techlead-experiments',\n",
    "                          ai_region='us-central1', job_async=False,\n",
    "                          package_name='', package_dst='staging',\n",
    "                          scale_tier='BASIC', runtime_version='1.15', python_version='3.7',\n",
    "                          model_name = 'mldsl_demo', version_name='v3', is_new_model=False,\n",
    "                          path_to_saved_model='gs://ai4ops/mldsl/train_1592767608/saved_model/')\n",
    "profile.arguments = {\n",
    "    \"framework\": \"TENSORFLOW\"\n",
    "}\n",
    "DeployAIProfile.set('AIProfile', profile)"
   ]
  },
  {
   "cell_type": "code",
   "execution_count": 9,
   "metadata": {},
   "outputs": [
    {
     "data": {
      "text/html": [
       "<a href=\"https://console.cloud.google.com/storage/browser/ai4ops/mldsl/train_1592767608/saved_model/?project=gd-gcp-techlead-experiments\">Deploy model path deploy_1593087893_predictor</a>"
      ],
      "text/plain": [
       "<IPython.core.display.HTML object>"
      ]
     },
     "metadata": {},
     "output_type": "display_data"
    },
    {
     "data": {
      "application/json": {
       "createTime": "2020-06-25T12:24:53Z",
       "deploymentUri": "gs://ai4ops/mldsl/train_1592767608/saved_model/",
       "etag": "jycagzWIEbI=",
       "framework": "TENSORFLOW",
       "machineType": "mls1-c1-m2",
       "name": "projects/gd-gcp-techlead-experiments/models/mldsl_demo/versions/v3",
       "pythonVersion": "3.7",
       "runtimeVersion": "1.15",
       "state": "READY"
      },
      "text/plain": [
       "<IPython.core.display.JSON object>"
      ]
     },
     "metadata": {
      "application/json": {
       "expanded": false,
       "root": "root"
      }
     },
     "output_type": "display_data"
    }
   ],
   "source": [
    "%py_deploy -n mldsl_demo -p AIProfile -s demo/deploy  -pm $platform"
   ]
  },
  {
   "cell_type": "code",
   "execution_count": null,
   "metadata": {},
   "outputs": [],
   "source": [
    "#Use job_deploy_1593087893_predictor instance to browse job properties.\n",
    "#job_tracker['deploy_1593087893_predictor']"
   ]
  },
  {
   "cell_type": "markdown",
   "metadata": {},
   "source": [
    "## Prediction"
   ]
  },
  {
   "cell_type": "code",
   "execution_count": 10,
   "metadata": {},
   "outputs": [
    {
     "name": "stdout",
     "output_type": "stream",
     "text": [
      "Max sequence is set to 150\n"
     ]
    }
   ],
   "source": [
    "import warnings\n",
    "with warnings.catch_warnings():\n",
    "    warnings.simplefilter(\"ignore\")\n",
    "    from utils import *\n",
    "\n",
    "word_to_index, word_to_vec_map = read_glove_vectors(\"gs://ai4ops/mldsl/data/demo_job_1590767199/words\")\n",
    "df_x, df_y, l = prepare_dataset('gs://ai4ops/mldsl/data/demo_job_1590767199/test', 150, word_to_index)"
   ]
  },
  {
   "cell_type": "code",
   "execution_count": 40,
   "metadata": {},
   "outputs": [],
   "source": [
    "ints = np.random.choice(len(df_y), 100)\n",
    "\n",
    "test_x = df_x[ints]\n",
    "test_y = df_y[ints]\n",
    "test = test_x.tolist()"
   ]
  },
  {
   "cell_type": "code",
   "execution_count": 41,
   "metadata": {},
   "outputs": [],
   "source": [
    "%py_test -p AIProfile -pm $platform -t $test"
   ]
  },
  {
   "cell_type": "code",
   "execution_count": 42,
   "metadata": {},
   "outputs": [],
   "source": [
    "activation=[[0.005022858269512653, 0.9949771761894226], [0.994297206401825, 0.005702780559659004], [0.024897441267967224, 0.9751024842262268], [0.6122013330459595, 0.3877986669540405], [0.9788565635681152, 0.02114345133304596], [0.7551652789115906, 0.24483469128608704], [0.004766944330185652, 0.9952329993247986], [0.00460806954652071, 0.9953919649124146], [0.0789569541811943, 0.9210430979728699], [0.44163456559181213, 0.5583654046058655], [0.4346894919872284, 0.5653104782104492], [0.9913881421089172, 0.008611908182501793], [0.005784950684756041, 0.9942150712013245], [0.9849119186401367, 0.015088082291185856], [0.9941532015800476, 0.005846777930855751], [0.022840572521090508, 0.9771594405174255], [0.9892716407775879, 0.01072835922241211], [0.5312209129333496, 0.4687790870666504], [0.04839837923645973, 0.9516016244888306], [0.7188137769699097, 0.28118619322776794], [0.8846437931060791, 0.11535627394914627], [0.6533820629119873, 0.3466179668903351], [0.004454226698726416, 0.9955457448959351], [0.4588315188884735, 0.5411685109138489], [0.8531135320663452, 0.14688652753829956], [0.9680118560791016, 0.03198812156915665], [0.912461519241333, 0.0875384658575058], [0.032918550074100494, 0.9670814871788025], [0.8984456062316895, 0.10155437141656876], [0.014043488539755344, 0.9859565496444702], [0.007096915505826473, 0.9929030537605286], [0.0548531748354435, 0.9451467990875244], [0.15695634484291077, 0.8430436253547668], [0.08713091909885406, 0.9128690958023071], [0.9239422082901001, 0.07605782896280289], [0.9703736901283264, 0.02962624654173851], [0.9707064032554626, 0.029293589293956757], [0.3395649194717407, 0.6604350209236145], [0.9223914742469788, 0.07760851085186005], [0.08611839264631271, 0.9138815999031067], [0.5392720103263855, 0.4607279598712921], [0.007602936588227749, 0.9923970103263855], [0.00476504024118185, 0.995235025882721], [0.9242520928382874, 0.07574797421693802], [0.10028301924467087, 0.8997170329093933], [0.9906811118125916, 0.009318931959569454], [0.9909495711326599, 0.009050387889146805], [0.01052855048328638, 0.989471435546875], [0.6703076362609863, 0.3296923339366913], [0.961143434047699, 0.038856618106365204], [0.007493801414966583, 0.992506206035614], [0.7146213054656982, 0.28537869453430176], [0.8525673747062683, 0.1474325954914093], [0.9864434003829956, 0.013556639663875103], [0.8598613739013672, 0.14013858139514923], [0.014265764504671097, 0.985734224319458], [0.8823258280754089, 0.11767417937517166], [0.4513905644416809, 0.5486094951629639], [0.30976831912994385, 0.6902316808700562], [0.00549042783677578, 0.9945096373558044], [0.9132829308509827, 0.08671699464321136], [0.91953045129776, 0.0804695263504982], [0.9958735108375549, 0.004126507323235273], [0.694841742515564, 0.3051583170890808], [0.09678053855895996, 0.9032194018363953], [0.009560469537973404, 0.9904395341873169], [0.0063007245771586895, 0.993699312210083], [0.7262361645698547, 0.27376386523246765], [0.005171929486095905, 0.9948280453681946], [0.9607115983963013, 0.03928838297724724], [0.04900142177939415, 0.9509985446929932], [0.9967467784881592, 0.003253225702792406], [0.993237316608429, 0.006762684788554907], [0.2871783375740051, 0.7128216624259949], [0.030403319746255875, 0.9695966839790344], [0.9946823716163635, 0.005317650269716978], [0.9214650988578796, 0.07853496819734573], [0.006156535353511572, 0.9938434362411499], [0.3041273057460785, 0.6958727240562439], [0.981560230255127, 0.01843978650867939], [0.9331861138343811, 0.06681381911039352], [0.9910394549369812, 0.00896055530756712], [0.9469582438468933, 0.0530417338013649], [0.9907490611076355, 0.009250926785171032], [0.9891146421432495, 0.010885351337492466], [0.00433361018076539, 0.9956663846969604], [0.005022927187383175, 0.9949770569801331], [0.9925978183746338, 0.007402180228382349], [0.9952936768531799, 0.004706341773271561], [0.006854699458926916, 0.9931453466415405], [0.9905097484588623, 0.009490257129073143], [0.008863430470228195, 0.9911365509033203], [0.7327256202697754, 0.267274409532547], [0.006164477206766605, 0.9938355088233948], [0.010335982777178288, 0.9896640181541443], [0.800434410572052, 0.19956554472446442], [0.9927355051040649, 0.007264483254402876], [0.5715990662574768, 0.4284009635448456], [0.9897329211235046, 0.010267086327075958], [0.007083625067025423, 0.9929163455963135]]"
   ]
  },
  {
   "cell_type": "code",
   "execution_count": 43,
   "metadata": {},
   "outputs": [
    {
     "data": {
      "image/png": "[encoded data removed]",
      "text/plain": [
       "<Figure size 576x432 with 2 Axes>"
      ]
     },
     "metadata": {
      "needs_background": "light"
     },
     "output_type": "display_data"
    }
   ],
   "source": [
    "preds=np.array(activation).argmax(axis=1)\n",
    "conf_mat = confusion_matrix(test_y, preds)\n",
    "fig, ax = plt.subplots(figsize=(8,6))\n",
    "classes=['Negative', 'Positive']\n",
    "sns.heatmap(conf_mat, annot=True, fmt='d',xticklabels=classes, yticklabels=classes, cmap=plt.cm.BuGn)\n",
    "plt.ylabel('Actual')\n",
    "plt.xlabel('Predicted')\n",
    "plt.show()"
   ]
  },
  {
   "cell_type": "code",
   "execution_count": 44,
   "metadata": {},
   "outputs": [
    {
     "name": "stdout",
     "output_type": "stream",
     "text": [
      "                 precision    recall  f1-score   support\n",
      "\n",
      "negative review       0.89      0.94      0.92        52\n",
      "positive review       0.93      0.88      0.90        48\n",
      "\n",
      "       accuracy                           0.91       100\n",
      "      macro avg       0.91      0.91      0.91       100\n",
      "   weighted avg       0.91      0.91      0.91       100\n",
      "\n"
     ]
    }
   ],
   "source": [
    "target_names = ['negative review', 'positive review']\n",
    "print(classification_report(test_y, preds, target_names=target_names))"
   ]
  },
  {
   "cell_type": "code",
   "execution_count": null,
   "metadata": {},
   "outputs": [],
   "source": []
  }
 ],
 "metadata": {
  "kernelspec": {
   "display_name": "Python 3",
   "language": "python",
   "name": "python3"
  },
  "language_info": {
   "codemirror_mode": {
    "name": "ipython",
    "version": 3
   },
   "file_extension": ".py",
   "mimetype": "text/x-python",
   "name": "python",
   "nbconvert_exporter": "python",
   "pygments_lexer": "ipython3",
   "version": "3.6.10"
  }
 },
 "nbformat": 4,
 "nbformat_minor": 4
}
