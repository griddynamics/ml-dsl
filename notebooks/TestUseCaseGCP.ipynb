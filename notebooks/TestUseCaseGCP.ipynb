{
 "cells": [
  {
   "cell_type": "markdown",
   "metadata": {},
   "source": [
    "<h1><center>ML DSL in Action</center></h1>\n",
    "\n",
    "Google Cloud Platform: \n",
    "1. Google Dataproc\n",
    "2. Google Cloud Storage\n",
    "3. Google AI Platform"
   ]
  },
  {
   "cell_type": "code",
   "execution_count": 1,
   "metadata": {},
   "outputs": [],
   "source": [
    "import com.griddynamics.dsl.ml.mldsl as mldsl\n",
    "from com.griddynamics.dsl.ml.settings.profiles import PySparkJobProfile, AIProfile, DeployAIProfile\n",
    "from com.griddynamics.dsl.ml.settings.description import Platform\n",
    "\n",
    "import importlib\n",
    "import os\n",
    "from datetime import datetime\n",
    "from sklearn.metrics import classification_report, confusion_matrix\n",
    "import matplotlib\n",
    "import seaborn as sns\n",
    "import matplotlib.pyplot as plt\n",
    "import pandas as pd\n",
    "%matplotlib inline"
   ]
  },
  {
   "cell_type": "markdown",
   "metadata": {},
   "source": [
    "## Prepare Sequences from Original Text"
   ]
  },
  {
   "cell_type": "markdown",
   "metadata": {},
   "source": [
    "### Text Sample"
   ]
  },
  {
   "cell_type": "code",
   "execution_count": 10,
   "metadata": {},
   "outputs": [
    {
     "name": "stdout",
     "output_type": "stream",
     "text": [
      "E0529 15:46:05.474034247    3336 backup_poller.cc:132]       Run client channel backup poller: {\"created\":\"@1590767165.473908703\",\"description\":\"pollset_work\",\"file\":\"src/core/lib/iomgr/ev_epoll1_linux.cc\",\"file_line\":242,\"referenced_errors\":[{\"created\":\"@1590767165.473898852\",\"description\":\"Bad file descriptor\",\"errno\":9,\"file\":\"src/core/lib/iomgr/ev_epoll1_linux.cc\",\"file_line\":730,\"os_error\":\"Bad file descriptor\",\"syscall\":\"epoll_wait\"}]}\n",
      "I went and saw this movie last night after being coaxed to by a few friends of mine. I'll admit that I was reluctant to see it because from what I knew of Ashton Kutcher he was only able to do comedy. I was wrong. Kutcher played the character of Jake Fischer very well, and Kevin Costner played Ben Randall with such professionalism. The sign of a good movie is that it can toy with our emotions. This one did exactly that. The entire theater (which was sold out) was overcome by laughter during the first half of the movie, and were moved to tears during the second half. While exiting the theater I not only saw many women in tears, but many full grown men as well, trying desperately not to let anyone see them crying. This movie was great, and I suggest that you go see it before you judge."
     ]
    }
   ],
   "source": [
    "!head -n 20 dev/aclImdb/test/pos/0_10.txt"
   ]
  },
  {
   "cell_type": "markdown",
   "metadata": {},
   "source": [
    "### Tokenizer to Create Sequences "
   ]
  },
  {
   "cell_type": "markdown",
   "metadata": {},
   "source": [
    "### Execute Tokenizer on ML Platform"
   ]
  },
  {
   "cell_type": "code",
   "execution_count": 11,
   "metadata": {},
   "outputs": [
    {
     "name": "stdout",
     "output_type": "stream",
     "text": [
      "Temporary path: /home/jovyan/work/data/.mldsl/ml_text_tokenizer.py\n"
     ]
    },
    {
     "data": {
      "text/plain": [
       "<com.griddynamics.dsl.ml.py_script.PyScript at 0x7f94271c2b70>"
      ]
     },
     "execution_count": 11,
     "metadata": {},
     "output_type": "execute_result"
    }
   ],
   "source": [
    "%py_script_open -n text_tokenizer.py -p demo/scripts -o dev"
   ]
  },
  {
   "cell_type": "code",
   "execution_count": 13,
   "metadata": {},
   "outputs": [],
   "source": [
    "platform = Platform.GCP\n",
    "profile = PySparkJobProfile(root_path='demo/scripts',\n",
    "                                  bucket='{name_of_bucket_on_GCP}',\n",
    "                                  project='{name_of_project_on_GCP}',\n",
    "                                  cluster='{name_of_cluster_on_GCP}',\n",
    "                                  region='global',\n",
    "                                  ai_region='us-central1-a',\n",
    "                                  job_prefix='demo_job',\n",
    "                                  job_async=False)\n",
    "profile.args=profile.load_profile_data(\"demo/spark_job_args.json\")\n",
    "PySparkJobProfile.set('JobProfile', profile)"
   ]
  },
  {
   "cell_type": "code",
   "execution_count": 15,
   "metadata": {},
   "outputs": [
    {
     "name": "stdout",
     "output_type": "stream",
     "text": [
      "Parameters string = <<<-n ml_text_tokenizer.py -p JobProfile -pm 1 -o gs://ai4ops/mldsl/data>>>\n"
     ]
    },
    {
     "data": {
      "text/html": [
       "<a href=\"https://console.cloud.google.com/dataproc/jobs/demo_job_1590767199?project=gd-gcp-techlead-experiments&region=global\">demo_job_1590767199</a>"
      ],
      "text/plain": [
       "<IPython.core.display.HTML object>"
      ]
     },
     "metadata": {},
     "output_type": "display_data"
    },
    {
     "name": "stdout",
     "output_type": "stream",
     "text": [
      "Job with id demo_job_1590767199 was submitted to the cluster ai4ops\n",
      "Job STATUS was set to PENDING at 2020-05-29 15:46:39\n",
      "Job STATUS was set to SETUP_DONE at 2020-05-29 15:46:39\n",
      "      Yarn APP ml_text_tokenizer.py with STATUS ACCEPTED has PROGRESS 0\n",
      "      Yarn APP ml_text_tokenizer.py with STATUS RUNNING has PROGRESS 10\n",
      "Job STATUS was set to RUNNING at 2020-05-29 15:46:39\n",
      "      Yarn APP ml_text_tokenizer.py with STATUS FINISHED has PROGRESS 100\n",
      "Job STATUS was set to DONE at 2020-05-29 16:25:10\n"
     ]
    },
    {
     "data": {
      "text/html": [
       "<a href=\"https://console.cloud.google.com/storage/browser/ai4ops/mldsl/data/demo_job_1590767199?project=gd-gcp-techlead-experiments\">Output Data demo_job_1590767199</a>"
      ],
      "text/plain": [
       "<IPython.core.display.HTML object>"
      ]
     },
     "metadata": {},
     "output_type": "display_data"
    },
    {
     "data": {
      "application/json": {
       "driver_control_files_uri": "gs://ai4ops/google-cloud-dataproc-metainfo/2d057403-a13f-40fa-b785-43cf3d7e2bc3/jobs/demo_job_1590767199/",
       "driver_output_resource_uri": "gs://ai4ops/google-cloud-dataproc-metainfo/2d057403-a13f-40fa-b785-43cf3d7e2bc3/jobs/demo_job_1590767199/driveroutput",
       "labels": {},
       "placement": {
        "cluster_name": "ai4ops"
       },
       "pyspark_job": {
        "archive_uris": [],
        "args": [
         "--output_path",
         "gs://ai4ops/mldsl/data/demo_job_1590767199",
         "--train_pos_path",
         "gs://ai4ops/mldsl/data/aclImdb/train/pos",
         "--train_neg_path",
         "gs://ai4ops/mldsl/data/aclImdb/train/neg",
         "--test_pos_path",
         "gs://ai4ops/mldsl/data/aclImdb/test/pos",
         "--test_neg_path",
         "gs://ai4ops/mldsl/data/aclImdb/test/neg",
         "--max_seq",
         "500",
         "--word_embeds",
         "gs://ai4ops/mldsl/data/glove.6B.50d.txt"
        ],
        "file_uris": [],
        "jar_file_uris": [],
        "logging_config": {
         "driver_log_levels": {}
        },
        "main_python_file_uri": "gs://ai4ops/jobs-root/demo_job_1590767199/ml_text_tokenizer.py",
        "properties": {},
        "python_file_uris": [
         "gs://ai4ops/jobs-root/demo_job_1590767199/ml_text_tokenizer.py"
        ]
       },
       "reference": {
        "job_id": "demo_job_1590767199",
        "project_id": "gd-gcp-techlead-experiments"
       },
       "scheduling": {
        "max_failures_per_hour": 0
       },
       "start_time": "2020-05-29T16:25:10.000000",
       "status": "DONE",
       "yarn_applications": [
        {
         "name": "word_tokenizer",
         "progress": 1,
         "state": "FINISHED",
         "trackingUrl": "http://ai4ops-m:8088/proxy/application_1590766736446_0002/"
        }
       ]
      },
      "text/plain": [
       "<IPython.core.display.JSON object>"
      ]
     },
     "metadata": {
      "application/json": {
       "expanded": false,
       "root": "root"
      }
     },
     "output_type": "display_data"
    }
   ],
   "source": [
    "%py_data -n text_tokenizer.py -p JobProfile -pm $platform -o gs://ai4ops/mldsl/data"
   ]
  },
  {
   "cell_type": "code",
   "execution_count": null,
   "metadata": {},
   "outputs": [],
   "source": [
    "#Use job_demo_job_1590767199 instance to browse job properties.\n",
    "#job_demo_job_1590767199 = job_tracker['demo_job_1590767199']"
   ]
  },
  {
   "cell_type": "markdown",
   "metadata": {},
   "source": [
    "### Reading logs of dataproc job"
   ]
  },
  {
   "cell_type": "code",
   "execution_count": 16,
   "metadata": {},
   "outputs": [],
   "source": [
    "project_id = \"{name_of_project_on_GCP}\"\n",
    "\n",
    "filters = \"\"\"resource.type:cloud_dataproc_cluster\n",
    "AND timestamp>2020-02-16\n",
    "AND resource.labels.cluster_name:{name_of_cluster_on_GCP}\n",
    "AND jsonPayload.application:application_1590766736446_0002\"\"\""
   ]
  },
  {
   "cell_type": "code",
   "execution_count": 17,
   "metadata": {},
   "outputs": [
    {
     "name": "stdout",
     "output_type": "stream",
     "text": [
      "05/29/2020, 15:46:49\tClass path contains multiple SLF4J bindings.\n",
      "05/29/2020, 15:46:49\tFound binding in [jar:file:/usr/lib/spark/jars/slf4j-log4j12-1.7.16.jar!/org/slf4j/impl/StaticLoggerBinder.class]\n",
      "05/29/2020, 15:46:49\tFound binding in [jar:file:/usr/lib/hadoop/lib/slf4j-log4j12-1.7.25.jar!/org/slf4j/impl/StaticLoggerBinder.class]\n",
      "05/29/2020, 15:46:49\tSee http://www.slf4j.org/codes.html#multiple_bindings for an explanation.\n",
      "05/29/2020, 15:46:49\tActual binding is of type [org.slf4j.impl.Log4jLoggerFactory]\n",
      "05/29/2020, 15:46:49\tSetting up env variables\n",
      "05/29/2020, 15:46:49\tSetting up job resources\n",
      "05/29/2020, 15:46:49\tLaunching container\n",
      "05/29/2020, 15:46:50\tConnecting to ResourceManager at ai4ops-m/10.128.15.216:8030\n",
      "05/29/2020, 15:46:52\tSetting up env variables\n",
      "05/29/2020, 15:46:52\tSetting up job resources\n",
      "05/29/2020, 15:46:52\tLaunching container\n",
      "05/29/2020, 15:46:52\tClass path contains multiple SLF4J bindings.\n",
      "05/29/2020, 15:46:52\tFound binding in [jar:file:/usr/lib/spark/jars/slf4j-log4j12-1.7.16.jar!/org/slf4j/impl/StaticLoggerBinder.class]\n",
      "05/29/2020, 15:46:52\tFound binding in [jar:file:/usr/lib/hadoop/lib/slf4j-log4j12-1.7.25.jar!/org/slf4j/impl/StaticLoggerBinder.class]\n",
      "05/29/2020, 15:46:52\tSee http://www.slf4j.org/codes.html#multiple_bindings for an explanation.\n",
      "05/29/2020, 15:46:52\tActual binding is of type [org.slf4j.impl.Log4jLoggerFactory]\n",
      "05/29/2020, 15:46:53\tSetting up env variables\n",
      "05/29/2020, 15:46:53\tSetting up job resources\n",
      "05/29/2020, 15:46:53\tLaunching container\n",
      "05/29/2020, 15:46:53\tClass path contains multiple SLF4J bindings.\n",
      "05/29/2020, 15:46:53\tFound binding in [jar:file:/usr/lib/spark/jars/slf4j-log4j12-1.7.16.jar!/org/slf4j/impl/StaticLoggerBinder.class]\n",
      "05/29/2020, 15:46:53\tFound binding in [jar:file:/usr/lib/hadoop/lib/slf4j-log4j12-1.7.25.jar!/org/slf4j/impl/StaticLoggerBinder.class]\n",
      "05/29/2020, 15:46:53\tSee http://www.slf4j.org/codes.html#multiple_bindings for an explanation.\n",
      "05/29/2020, 15:46:53\tActual binding is of type [org.slf4j.impl.Log4jLoggerFactory]\n",
      "05/29/2020, 15:46:53\tSetting up env variables\n",
      "05/29/2020, 15:46:53\tSetting up job resources\n",
      "05/29/2020, 15:46:53\tLaunching container\n",
      "05/29/2020, 15:46:54\tClass path contains multiple SLF4J bindings.\n",
      "05/29/2020, 15:46:54\tFound binding in [jar:file:/usr/lib/spark/jars/slf4j-log4j12-1.7.16.jar!/org/slf4j/impl/StaticLoggerBinder.class]\n",
      "05/29/2020, 15:46:54\tFound binding in [jar:file:/usr/lib/hadoop/lib/slf4j-log4j12-1.7.25.jar!/org/slf4j/impl/StaticLoggerBinder.class]\n",
      "05/29/2020, 15:46:54\tSee http://www.slf4j.org/codes.html#multiple_bindings for an explanation.\n",
      "05/29/2020, 15:46:54\tActual binding is of type [org.slf4j.impl.Log4jLoggerFactory]\n",
      "05/29/2020, 15:46:56\tFailed read retry #1/10 for 'gs://ai4ops/mldsl/data/glove.6B.50d.txt'. Sleeping...\n",
      "05/29/2020, 15:46:56\tInterrupted while sleeping before retry. Giving up after 1/10 retries for 'gs://ai4ops/mldsl/data/glove.6B.50d.txt'\n",
      "05/29/2020, 15:46:56\tjava.nio.channels.ClosedByInterruptException\n",
      "05/29/2020, 15:46:56\t\tat java.nio.channels.spi.AbstractInterruptibleChannel.end(AbstractInterruptibleChannel.java:202)\n",
      "05/29/2020, 15:46:56\t\tat java.nio.channels.Channels$ReadableByteChannelImpl.read(Channels.java:387)\n",
      "05/29/2020, 15:46:56\t\tat com.google.cloud.hadoop.repackaged.gcs.com.google.cloud.hadoop.gcsio.GoogleCloudStorageReadChannel.read(GoogleCloudStorageReadChannel.java:370)\n",
      "05/29/2020, 15:46:56\t\tat com.google.cloud.hadoop.fs.gcs.GoogleHadoopFSInputStream.read(GoogleHadoopFSInputStream.java:130)\n",
      "05/29/2020, 15:46:56\t\tat java.io.DataInputStream.read(DataInputStream.java:149)\n",
      "05/29/2020, 15:46:56\t\tat org.apache.hadoop.mapreduce.lib.input.UncompressedSplitLineReader.fillBuffer(UncompressedSplitLineReader.java:62)\n",
      "05/29/2020, 15:46:56\t\tat org.apache.hadoop.util.LineReader.readDefaultLine(LineReader.java:218)\n",
      "05/29/2020, 15:46:56\t\tat org.apache.hadoop.util.LineReader.readLine(LineReader.java:176)\n",
      "05/29/2020, 15:46:56\t\tat org.apache.hadoop.mapreduce.lib.input.UncompressedSplitLineReader.readLine(UncompressedSplitLineReader.java:94)\n",
      "05/29/2020, 15:46:56\t\tat org.apache.hadoop.mapred.LineRecordReader.next(LineRecordReader.java:255)\n",
      "05/29/2020, 15:46:56\t\tat org.apache.hadoop.mapred.LineRecordReader.next(LineRecordReader.java:48)\n",
      "05/29/2020, 15:46:56\t\tat org.apache.spark.rdd.HadoopRDD$$anon$1.getNext(HadoopRDD.scala:293)\n",
      "05/29/2020, 15:46:56\t\tat org.apache.spark.rdd.HadoopRDD$$anon$1.getNext(HadoopRDD.scala:224)\n",
      "05/29/2020, 15:46:56\t\tat org.apache.spark.util.NextIterator.hasNext(NextIterator.scala:73)\n",
      "05/29/2020, 15:46:56\t\tat org.apache.spark.InterruptibleIterator.hasNext(InterruptibleIterator.scala:37)\n",
      "05/29/2020, 15:46:56\t\tat scala.collection.Iterator$$anon$11.hasNext(Iterator.scala:409)\n",
      "05/29/2020, 15:46:56\t\tat scala.collection.Iterator$class.foreach(Iterator.scala:891)\n",
      "05/29/2020, 15:46:56\t\tat scala.collection.AbstractIterator.foreach(Iterator.scala:1334)\n",
      "05/29/2020, 15:46:56\t\tat org.apache.spark.api.python.PythonRDD$.writeIteratorToStream(PythonRDD.scala:224)\n",
      "05/29/2020, 15:46:56\t\tat org.apache.spark.api.python.PythonRunner$$anon$2.writeIteratorToStream(PythonRunner.scala:561)\n",
      "05/29/2020, 15:46:56\t\tat org.apache.spark.api.python.BasePythonRunner$WriterThread$$anonfun$run$1.apply(PythonRunner.scala:346)\n",
      "05/29/2020, 15:46:56\t\tat org.apache.spark.util.Utils$.logUncaughtExceptions(Utils.scala:1945)\n",
      "05/29/2020, 15:46:56\t\tat org.apache.spark.api.python.BasePythonRunner$WriterThread.run(PythonRunner.scala:195)\n",
      "05/29/2020, 15:47:59\tSetting up env variables\n",
      "05/29/2020, 15:47:59\tSetting up job resources\n",
      "05/29/2020, 15:47:59\tLaunching container\n",
      "05/29/2020, 15:48:00\tSetting up env variables\n",
      "05/29/2020, 15:48:00\tSetting up job resources\n",
      "05/29/2020, 15:48:00\tLaunching container\n",
      "05/29/2020, 15:48:01\tClass path contains multiple SLF4J bindings.\n",
      "05/29/2020, 15:48:01\tFound binding in [jar:file:/usr/lib/spark/jars/slf4j-log4j12-1.7.16.jar!/org/slf4j/impl/StaticLoggerBinder.class]\n",
      "05/29/2020, 15:48:01\tFound binding in [jar:file:/usr/lib/hadoop/lib/slf4j-log4j12-1.7.25.jar!/org/slf4j/impl/StaticLoggerBinder.class]\n",
      "05/29/2020, 15:48:01\tSee http://www.slf4j.org/codes.html#multiple_bindings for an explanation.\n",
      "05/29/2020, 15:48:01\tActual binding is of type [org.slf4j.impl.Log4jLoggerFactory]\n",
      "05/29/2020, 15:48:02\tSetting up env variables\n",
      "05/29/2020, 15:48:02\tSetting up job resources\n",
      "05/29/2020, 15:48:02\tLaunching container\n",
      "05/29/2020, 15:48:02\tSetting up env variables\n",
      "05/29/2020, 15:48:02\tSetting up job resources\n",
      "05/29/2020, 15:48:02\tLaunching container\n",
      "05/29/2020, 15:48:02\tClass path contains multiple SLF4J bindings.\n",
      "05/29/2020, 15:48:02\tFound binding in [jar:file:/usr/lib/spark/jars/slf4j-log4j12-1.7.16.jar!/org/slf4j/impl/StaticLoggerBinder.class]\n",
      "05/29/2020, 15:48:02\tFound binding in [jar:file:/usr/lib/hadoop/lib/slf4j-log4j12-1.7.25.jar!/org/slf4j/impl/StaticLoggerBinder.class]\n",
      "05/29/2020, 15:48:02\tSee http://www.slf4j.org/codes.html#multiple_bindings for an explanation.\n",
      "05/29/2020, 15:48:02\tActual binding is of type [org.slf4j.impl.Log4jLoggerFactory]\n",
      "05/29/2020, 15:48:03\tClass path contains multiple SLF4J bindings.\n",
      "05/29/2020, 15:48:03\tFound binding in [jar:file:/usr/lib/spark/jars/slf4j-log4j12-1.7.16.jar!/org/slf4j/impl/StaticLoggerBinder.class]\n",
      "05/29/2020, 15:48:03\tFound binding in [jar:file:/usr/lib/hadoop/lib/slf4j-log4j12-1.7.25.jar!/org/slf4j/impl/StaticLoggerBinder.class]\n",
      "05/29/2020, 15:48:03\tSee http://www.slf4j.org/codes.html#multiple_bindings for an explanation.\n",
      "05/29/2020, 15:48:03\tActual binding is of type [org.slf4j.impl.Log4jLoggerFactory]\n",
      "05/29/2020, 15:48:04\tClass path contains multiple SLF4J bindings.\n",
      "05/29/2020, 15:48:04\tFound binding in [jar:file:/usr/lib/spark/jars/slf4j-log4j12-1.7.16.jar!/org/slf4j/impl/StaticLoggerBinder.class]\n",
      "05/29/2020, 15:48:04\tFound binding in [jar:file:/usr/lib/hadoop/lib/slf4j-log4j12-1.7.25.jar!/org/slf4j/impl/StaticLoggerBinder.class]\n",
      "05/29/2020, 15:48:04\tSee http://www.slf4j.org/codes.html#multiple_bindings for an explanation.\n",
      "05/29/2020, 15:48:04\tActual binding is of type [org.slf4j.impl.Log4jLoggerFactory]\n",
      "05/29/2020, 16:25:09\tWaiting for application to be successfully unregistered.\n"
     ]
    }
   ],
   "source": [
    "%logging -p $project_id -f $filters"
   ]
  },
  {
   "cell_type": "markdown",
   "metadata": {},
   "source": [
    "# ML Model to Predict Positive or Negative Review"
   ]
  },
  {
   "cell_type": "markdown",
   "metadata": {},
   "source": [
    "### Configure Additional Dependencies"
   ]
  },
  {
   "cell_type": "markdown",
   "metadata": {},
   "source": [
    "### LSTM Train Script"
   ]
  },
  {
   "cell_type": "code",
   "execution_count": 2,
   "metadata": {},
   "outputs": [
    {
     "name": "stdout",
     "output_type": "stream",
     "text": [
      "Max sequence is set to 150\n",
      "WARNING:tensorflow:From /opt/conda/lib/python3.7/site-packages/tensorflow_core/python/keras/initializers.py:119: calling RandomUniform.__init__ (from tensorflow.python.ops.init_ops) with dtype is deprecated and will be removed in a future version.\n",
      "Instructions for updating:\n",
      "Call initializer instance with the dtype argument instead of passing it to the constructor\n",
      "WARNING:tensorflow:From /opt/conda/lib/python3.7/site-packages/tensorflow_core/python/ops/resource_variable_ops.py:1630: calling BaseResourceVariable.__init__ (from tensorflow.python.ops.resource_variable_ops) with constraint is deprecated and will be removed in a future version.\n",
      "Instructions for updating:\n",
      "If using Keras pass *_constraint arguments to layers.\n",
      "Model: \"model\"\n",
      "_________________________________________________________________\n",
      "Layer (type)                 Output Shape              Param #   \n",
      "=================================================================\n",
      "input_1 (InputLayer)         [(None, 150)]             0         \n",
      "_________________________________________________________________\n",
      "embedding (Embedding)        (None, 150, 50)           20000050  \n",
      "_________________________________________________________________\n",
      "lstm (LSTM)                  (None, 32)                10624     \n",
      "_________________________________________________________________\n",
      "dropout (Dropout)            (None, 32)                0         \n",
      "_________________________________________________________________\n",
      "dense (Dense)                (None, 2)                 66        \n",
      "_________________________________________________________________\n",
      "activation (Activation)      (None, 2)                 0         \n",
      "=================================================================\n",
      "Total params: 20,010,740\n",
      "Trainable params: 10,690\n",
      "Non-trainable params: 20,000,050\n",
      "_________________________________________________________________\n",
      "None\n",
      "WARNING:tensorflow:From /opt/conda/lib/python3.7/site-packages/tensorflow_core/python/ops/math_grad.py:1424: where (from tensorflow.python.ops.array_ops) is deprecated and will be removed in a future version.\n",
      "Instructions for updating:\n",
      "Use tf.where in 2.0, which has the same broadcast rule as np.where\n",
      "Train on 25000 samples\n",
      "Epoch 1/3\n",
      "25000/25000 [==============================] - 18s 735us/sample - loss: 0.7034 - acc: 0.5226\n",
      "Epoch 2/3\n",
      "25000/25000 [==============================] - 18s 704us/sample - loss: 0.6771 - acc: 0.5733\n",
      "Epoch 3/3\n",
      "25000/25000 [==============================] - 17s 697us/sample - loss: 0.6575 - acc: 0.6239\n"
     ]
    },
    {
     "data": {
      "image/png": "[encoded data removed]",
      "text/plain": [
       "<Figure size 1296x360 with 2 Axes>"
      ]
     },
     "metadata": {
      "needs_background": "light"
     },
     "output_type": "display_data"
    },
    {
     "name": "stdout",
     "output_type": "stream",
     "text": [
      "Temporary path: /home/jovyan/work/data/.mldsl/mr_model.py\n"
     ]
    },
    {
     "data": {
      "text/plain": [
       "<com.griddynamics.dsl.ml.py_script.PyScript at 0x7fe296945e80>"
      ]
     },
     "execution_count": 2,
     "metadata": {},
     "output_type": "execute_result"
    }
   ],
   "source": [
    "%%py_script -e -n mr_model.py -p demo/model/words/trainer -o dev/models --epochs 3 --seq_len 150\n",
    "#!/usr/bin/python\n",
    "\n",
    "import warnings\n",
    "with warnings.catch_warnings():\n",
    "    warnings.simplefilter(\"ignore\")\n",
    "    import pandas as pd\n",
    "    import numpy as np\n",
    "    from tensorflow.python.lib.io import file_io\n",
    "    from tensorflow.keras.layers import Dense, Input, LSTM, Embedding, Dropout, Activation\n",
    "    from tensorflow.keras.models import Model\n",
    "    from tensorflow.keras.callbacks import Callback\n",
    "    from tensorflow.keras.optimizers import Adam\n",
    "    import tensorflow as tf\n",
    "    import os\n",
    "\n",
    "    from uuid import uuid4\n",
    "    import argparse\n",
    "    import matplotlib\n",
    "    if matplotlib.get_backend() in ['TkAgg', 'TkCairo']:\n",
    "        matplotlib.use('agg')\n",
    "    import matplotlib.pyplot as plt\n",
    "    import seaborn as sns\n",
    "\n",
    "class MetricCallback(Callback):\n",
    "    def on_train_begin(self,logs={}):\n",
    "        self.losses = []\n",
    "        self.accuracies = []\n",
    "\n",
    "    def on_batch_end(self, batch, logs={}):\n",
    "        self.losses.append(logs.get('loss'))\n",
    "        self.accuracies.append(logs.get('acc'))\n",
    "\n",
    "\n",
    "def read_glove_vectors(glove_file):\n",
    "    files = file_io.get_matching_files('{}/part*'.format(glove_file))\n",
    "    for file in files:\n",
    "        with file_io.FileIO(file, 'r') as f:\n",
    "            word_to_vec_map = {}\n",
    "            words_to_index = {}\n",
    "        fl = f.readline()\n",
    "        for line in f:\n",
    "            line = line.strip().split('\\t')\n",
    "            word_to_vec_map[line[0]] = np.array(line[1].split(','), dtype=np.float64)\n",
    "            words_to_index[line[0]] = int(line[2])\n",
    "    return words_to_index, word_to_vec_map\n",
    "\n",
    "\n",
    "def read_csv(path):\n",
    "    files = file_io.get_matching_files('{}/part*'.format(path))\n",
    "    pdf = []\n",
    "    for file in files:\n",
    "        with file_io.FileIO(file, 'r') as f:\n",
    "            df = pd.read_csv(f)\n",
    "            if df is not None and len(df) != 0:\n",
    "                pdf.append(df)\n",
    "    if len(pdf) == 0:\n",
    "        return None\n",
    "    return pd.concat(pdf, axis=0, ignore_index=True).reset_index()\n",
    "\n",
    "\n",
    "def pretrained_embed_layer(word_to_vec_map, word_to_index, emb_dim):\n",
    "    emb_matrix = np.zeros((len(word_to_index)+1, emb_dim))\n",
    "    for word, idx in word_to_index.items():\n",
    "        emb_matrix[idx, :] = word_to_vec_map[word]\n",
    "    \n",
    "    return emb_matrix\n",
    "\n",
    "\n",
    "def define_model(input_shape, emb_matrix, vocab_len, emb_dim, rnn_units, dropout=0.5):\n",
    "    sentence_indices = Input(input_shape, dtype=\"int32\")\n",
    "    # Create the embedding layer pretrained with GloVe Vectors\n",
    "    embedding_layer = Embedding(input_dim=vocab_len, trainable=False, output_dim=emb_dim)\n",
    "    embedding_layer.build((None,))\n",
    "    embedding_layer.set_weights([emb_matrix])\n",
    "    # Propagate sentence_indices through your embedding layer\n",
    "    embeddings = embedding_layer(sentence_indices)\n",
    "    X = LSTM(units=rnn_units, return_sequences=False)(embeddings)\n",
    "    # Add dropout with a probability \n",
    "    X = Dropout(dropout)(X)\n",
    "    # Propagate X through a Dense layer\n",
    "    X = Dense(2)(X)\n",
    "    # Add a softmax activation\n",
    "    X = Activation(\"softmax\")(X)\n",
    "    # Create Model instance which converts sentence_indices into X.\n",
    "    model = Model(inputs=sentence_indices, outputs=X)\n",
    "    return model\n",
    "\n",
    "\n",
    "def convert_to_one_hot(Y, C=2):\n",
    "    Y = np.eye(C)[Y.reshape(-1)]\n",
    "    return Y\n",
    "\n",
    "def prepare_dataset(path, N, word_to_index):\n",
    "    data = read_csv(path)\n",
    "    data.dropna(inplace=True)\n",
    "    data['int_seq'] = data['int_seq'].apply(lambda x: [int(i) for i in x.split(',')])\n",
    "    l = data['int_seq'].apply(lambda x: len(x))\n",
    "    print(\"Max sequence is set to {}\".format(N))\n",
    "    data['int_seq'] = data['int_seq'].apply(lambda x: (x + [word_to_index[\"unk\"]] * N)[:N])\n",
    "    ds_x = np.asarray(list(data[\"int_seq\"]))\n",
    "    ds_y = data[\"class\"].values\n",
    "    return ds_x, ds_y, l\n",
    "\n",
    "\n",
    "def plot_metrics(callback, dir_to_save):\n",
    "    f, axes = plt.subplots(1, 2, figsize=(18, 5))\n",
    "    plt.style.use('seaborn')\n",
    "    plt.rcParams['axes.titlesize'] = 16\n",
    "    sns.lineplot(x=range(len(callback.losses)), y=callback.losses, ax=axes[0])\n",
    "    axes[0].title.set_text(\"Loss\")\n",
    "    sns.lineplot(x=range(len(callback.accuracies)), y=callback.accuracies, ax=axes[1])\n",
    "    axes[1].title.set_text(\"Accuracy\")\n",
    "    plt.tight_layout(.5)\n",
    "    plt.savefig('{}'.format(dir_to_save))\n",
    "    plt.show()\n",
    "\n",
    "\n",
    "if __name__ == '__main__':\n",
    "    parser = argparse.ArgumentParser()\n",
    "    parser.add_argument('--train_path', type=str, help=\"Train files path\")\n",
    "    parser.add_argument('--output_path', type=str, help=\"Models output path\")\n",
    "    parser.add_argument('--word_embeds', type=str, help=\"Models output path\")\n",
    "    parser.add_argument('--seq_len', type=int, help=\"Length of input sequence\")\n",
    "    parser.add_argument('--epochs', type=int, help=\"Number of epochs\")\n",
    "    args, d = parser.parse_known_args()\n",
    "\n",
    "    word_to_index, word_to_vec_map = read_glove_vectors(args.word_embeds)\n",
    "    N = args.seq_len\n",
    "    train_x, train_y, l = prepare_dataset(args.train_path, N, word_to_index)\n",
    "    train_y = convert_to_one_hot(train_y, C=2)\n",
    "    NUM_EPOCS = args.epochs\n",
    "    RNN_STATE_DIM = 32\n",
    "    LEARNING_RATE = 0.01\n",
    "    vocab_len = len(word_to_index) + 1\n",
    "    emb_dim = word_to_vec_map[\"cucumber\"].shape[0]\n",
    "    emb_matrix = pretrained_embed_layer(word_to_vec_map, word_to_index, emb_dim)\n",
    "\n",
    "    model = define_model((N, ), emb_matrix, vocab_len, emb_dim, RNN_STATE_DIM)\n",
    "    print(model.summary())\n",
    "    model.compile(loss='binary_crossentropy', optimizer=Adam(lr=LEARNING_RATE), metrics=['accuracy'])\n",
    "    # fit model\n",
    "    metrics = MetricCallback()\n",
    "    a = model.fit(train_x, train_y, batch_size=1024, epochs=NUM_EPOCS, callbacks=[metrics], \n",
    "                  shuffle=True)\n",
    "\n",
    "    tf.get_logger().setLevel('ERROR')\n",
    "    # save the model to file\n",
    "    local_dir = uuid4().hex\n",
    "    file_io.recursive_create_dir(local_dir)\n",
    "    local_path = f'{local_dir}/saved_model'\n",
    "    tf.saved_model.save(model, local_path)\n",
    "    local_path_chart = '{}/metrics.png'.format(local_dir)\n",
    "    plot_metrics(metrics, local_path_chart)\n",
    "    \n",
    "    remote_dir = args.output_path\n",
    "    remote_path = f'{remote_dir}/saved_model'\n",
    "    remote_path_chart = f'{remote_dir}/metrics.png'\n",
    "    if not remote_dir.startswith('gs://'):\n",
    "        file_io.recursive_create_dir(remote_dir)\n",
    "    file_io.copy(local_path_chart, remote_path_chart)\n",
    "    tf.saved_model.save(model, remote_path)\n",
    "    \n",
    "    file_io.delete_recursively(local_dir)"
   ]
  },
  {
   "cell_type": "code",
   "execution_count": 8,
   "metadata": {},
   "outputs": [],
   "source": [
    "platform = Platform.GCP\n",
    "profile = AIProfile(bucket='{name_of_bucket_on_GCP}', cluster='{name_of_cluster_on_GCP}', region='global', job_prefix='train',\n",
    "                    root_path='/demo/scripts', \n",
    "                    project='{name_of_project_on_GCP}',\n",
    "                    ai_region='us-central1', job_async=False,\n",
    "                    package_name='trainer', package_dst='mldsl/packages',\n",
    "                    scale_tier='BASIC', runtime_version='1.15', python_version='3.7')\n",
    "profile.arguments = profile.load_profile_data(\"demo/train_args.json\")\n",
    "AIProfile.set('AIProfile', profile)"
   ]
  },
  {
   "cell_type": "code",
   "execution_count": 9,
   "metadata": {},
   "outputs": [
    {
     "data": {
      "text/html": [
       "<a href=\"https://console.cloud.google.com/ai-platform/jobs/train_1591004612/charts/cpu?project=gd-gcp-techlead-experiments\">train_1591004612</a>"
      ],
      "text/plain": [
       "<IPython.core.display.HTML object>"
      ]
     },
     "metadata": {},
     "output_type": "display_data"
    },
    {
     "name": "stdout",
     "output_type": "stream",
     "text": [
      "running sdist\n",
      "running egg_info\n",
      "writing trainer.egg-info/PKG-INFO\n",
      "writing dependency_links to trainer.egg-info/dependency_links.txt\n",
      "writing requirements to trainer.egg-info/requires.txt\n",
      "writing top-level names to trainer.egg-info/top_level.txt\n",
      "reading manifest file 'trainer.egg-info/SOURCES.txt'\n",
      "writing manifest file 'trainer.egg-info/SOURCES.txt'\n",
      "running check\n",
      "creating trainer-1.0\n",
      "creating trainer-1.0/trainer\n",
      "creating trainer-1.0/trainer.egg-info\n",
      "copying files to trainer-1.0...\n",
      "copying README.md -> trainer-1.0\n",
      "copying setup.py -> trainer-1.0\n",
      "copying trainer/__init__.py -> trainer-1.0/trainer\n",
      "copying trainer/mr_model.py -> trainer-1.0/trainer\n",
      "copying trainer.egg-info/PKG-INFO -> trainer-1.0/trainer.egg-info\n",
      "copying trainer.egg-info/SOURCES.txt -> trainer-1.0/trainer.egg-info\n",
      "copying trainer.egg-info/dependency_links.txt -> trainer-1.0/trainer.egg-info\n",
      "copying trainer.egg-info/requires.txt -> trainer-1.0/trainer.egg-info\n",
      "copying trainer.egg-info/top_level.txt -> trainer-1.0/trainer.egg-info\n",
      "Writing trainer-1.0/setup.cfg\n",
      "Creating tar archive\n",
      "removing 'trainer-1.0' (and everything under it)\n",
      "Uploading custom package demo/model/words/dist/trainer-1.0.tar.gz to dir gs://ai4ops/mldsl/packages/train_1591004612/trainer-1.0.tar.gz\n"
     ]
    },
    {
     "data": {
      "text/html": [
       "<a href=\"https://console.cloud.google.com/storage/browser/ai4ops/mldsl/train_1591004612?project=gd-gcp-techlead-experiments\">Output Data train_1591004612</a>"
      ],
      "text/plain": [
       "<IPython.core.display.HTML object>"
      ]
     },
     "metadata": {},
     "output_type": "display_data"
    },
    {
     "data": {
      "image/png": "[encoded data removed]",
      "text/plain": [
       "<IPython.core.display.Image object>"
      ]
     },
     "metadata": {},
     "output_type": "display_data"
    },
    {
     "data": {
      "application/json": {
       "createTime": "2020-06-01T09:43:33Z",
       "endTime": "2020-06-01T09:53:23Z",
       "etag": "lzqNJZ4GlEc=",
       "jobId": "train_1591004612",
       "startTime": "2020-06-01T09:44:17Z",
       "state": "SUCCEEDED",
       "trainingInput": {
        "args": [
         "--train_path",
         "gs://ai4ops/mldsl/data/demo_job_1590767199/train",
         "--word_embeds",
         "gs://ai4ops/mldsl/data/demo_job_1590767199/words",
         "--seq_len",
         "150",
         "--epochs",
         "20",
         "--output_path",
         "gs://ai4ops/mldsl/train_1591004612"
        ],
        "jobDir": "gs://ai4ops/mldsl/train_1591004612",
        "packageUris": [
         "gs://ai4ops/mldsl/packages/train_1591004612/trainer-1.0.tar.gz"
        ],
        "pythonModule": "trainer.mr_model",
        "pythonVersion": "3.7",
        "region": "us-central1",
        "runtimeVersion": "1.15"
       },
       "trainingOutput": {
        "consumedMLUnits": 0.06
       }
      },
      "text/plain": [
       "<IPython.core.display.JSON object>"
      ]
     },
     "metadata": {
      "application/json": {
       "expanded": false,
       "root": "root"
      }
     },
     "output_type": "display_data"
    }
   ],
   "source": [
    "%py_train -n mr_model.py -s demo/model/words -p AIProfile -pm $platform -o gs://{bucket}/mldsl"
   ]
  },
  {
   "cell_type": "code",
   "execution_count": null,
   "metadata": {},
   "outputs": [],
   "source": [
    "#Use job_train_1591004612 instance to browse job properties.\n",
    "#job_train_1591004612 = job_tracker['train_1591004612']"
   ]
  },
  {
   "cell_type": "markdown",
   "metadata": {},
   "source": [
    "## Deployment of model"
   ]
  },
  {
   "cell_type": "markdown",
   "metadata": {},
   "source": [
    "##### Parameters of deployment: name of model, version, artifacts (models saved as .joblib, .h5 etc), custom code"
   ]
  },
  {
   "cell_type": "code",
   "execution_count": 7,
   "metadata": {},
   "outputs": [],
   "source": [
    "platform = Platform.GCP\n",
    "profile = DeployAIProfile(bucket='{name_of_bucket_on_GCP}', cluster='{name_of_cluster_on_GCP}', region='global', \n",
    "                          job_prefix='deploy',\n",
    "                          root_path='demo/deploy', \n",
    "                          project='{name_of_project_on_GCP}',\n",
    "                          ai_region='us-central1', job_async=False,\n",
    "                          package_name='', package_dst='staging',\n",
    "                          scale_tier='BASIC', runtime_version='1.15', python_version='3.7',\n",
    "                          model_name = 'mldsl', version_name='v1', is_new_model=False,\n",
    "                          path_to_saved_model='gs://{bucket}/mldsl/train_1591004612/saved_model/')\n",
    "profile.arguments = {\n",
    "    \"framework\": \"TENSORFLOW\"\n",
    "}\n",
    "DeployAIProfile.set('AIProfile', profile)"
   ]
  },
  {
   "cell_type": "code",
   "execution_count": 8,
   "metadata": {},
   "outputs": [
    {
     "name": "stdout",
     "output_type": "stream",
     "text": [
      "Temporary path: /home/jovyan/work/data/.mldsl/setup.py\n"
     ]
    },
    {
     "data": {
      "text/plain": [
       "<com.griddynamics.dsl.ml.py_script.PyScript at 0x7f1c91dc5240>"
      ]
     },
     "execution_count": 8,
     "metadata": {},
     "output_type": "execute_result"
    }
   ],
   "source": [
    "%%py_script -n setup.py -p ./demo/deploy\n",
    "#!/usr/bin/python\n",
    "\n",
    "from setuptools import setup, find_packages\n",
    "setup(\n",
    "    name='predictor',\n",
    "    version='1.0',\n",
    "    author='Grid Dynamics ML Engineer',\n",
    "    author_email='griddynamics@griddynamics.com',\n",
    "    url='https://griddynamics.com',\n",
    ")"
   ]
  },
  {
   "cell_type": "code",
   "execution_count": 9,
   "metadata": {},
   "outputs": [
    {
     "name": "stdout",
     "output_type": "stream",
     "text": [
      "running sdist\n",
      "running egg_info\n",
      "writing predictor.egg-info/PKG-INFO\n",
      "writing dependency_links to predictor.egg-info/dependency_links.txt\n",
      "writing top-level names to predictor.egg-info/top_level.txt\n",
      "reading manifest file 'predictor.egg-info/SOURCES.txt'\n",
      "writing manifest file 'predictor.egg-info/SOURCES.txt'\n",
      "running check\n",
      "creating predictor-1.0\n",
      "creating predictor-1.0/predictor.egg-info\n",
      "copying files to predictor-1.0...\n",
      "copying README.md -> predictor-1.0\n",
      "copying predictor.py -> predictor-1.0\n",
      "copying setup.py -> predictor-1.0\n",
      "copying predictor.egg-info/PKG-INFO -> predictor-1.0/predictor.egg-info\n",
      "copying predictor.egg-info/SOURCES.txt -> predictor-1.0/predictor.egg-info\n",
      "copying predictor.egg-info/dependency_links.txt -> predictor-1.0/predictor.egg-info\n",
      "copying predictor.egg-info/top_level.txt -> predictor-1.0/predictor.egg-info\n",
      "Writing predictor-1.0/setup.cfg\n",
      "Creating tar archive\n",
      "removing 'predictor-1.0' (and everything under it)\n",
      "Uploading custom package demo/deploy/dist/predictor-1.0.tar.gz to dir gs://ai4ops/staging/predictor-1.0.tar.gz\n"
     ]
    },
    {
     "data": {
      "text/html": [
       "<a href=\"https://console.cloud.google.com/storage/browser/ai4ops/mldsl/train_1591004612/saved_model/?project=gd-gcp-techlead-experiments\">Deploy model path deploy_1591005934_predictor</a>"
      ],
      "text/plain": [
       "<IPython.core.display.HTML object>"
      ]
     },
     "metadata": {},
     "output_type": "display_data"
    },
    {
     "data": {
      "application/json": {
       "createTime": "2020-06-01T10:05:35Z",
       "deploymentUri": "gs://ai4ops/mldsl/train_1591004612/saved_model/",
       "etag": "2UMXd9Fmr70=",
       "framework": "TENSORFLOW",
       "isDefault": true,
       "machineType": "mls1-c1-m2",
       "name": "projects/gd-gcp-techlead-experiments/models/mldsl/versions/v1",
       "packageUris": [
        "gs://ai4ops/staging/predictor-1.0.tar.gz"
       ],
       "pythonVersion": "3.7",
       "runtimeVersion": "1.15",
       "state": "READY"
      },
      "text/plain": [
       "<IPython.core.display.JSON object>"
      ]
     },
     "metadata": {
      "application/json": {
       "expanded": false,
       "root": "root"
      }
     },
     "output_type": "display_data"
    }
   ],
   "source": [
    "%py_deploy -n mldsl -p AIProfile -s demo/deploy  -pm $platform"
   ]
  },
  {
   "cell_type": "code",
   "execution_count": null,
   "metadata": {},
   "outputs": [],
   "source": [
    "#Use job_deploy_1591005934_predictor instance to browse job properties.\n",
    "#job_tracker['deploy_1591005934_predictor']"
   ]
  },
  {
   "cell_type": "markdown",
   "metadata": {},
   "source": [
    "## Prediction"
   ]
  },
  {
   "cell_type": "code",
   "execution_count": 23,
   "metadata": {},
   "outputs": [
    {
     "name": "stdout",
     "output_type": "stream",
     "text": [
      "Max sequence is set to 150\n"
     ]
    }
   ],
   "source": [
    "import warnings\n",
    "with warnings.catch_warnings():\n",
    "    warnings.simplefilter(\"ignore\")\n",
    "    from utils import *\n",
    "\n",
    "word_to_index, word_to_vec_map = read_glove_vectors(\"gs://{bucket}/mldsl/data/demo_job_1590767199/words\")\n",
    "df_x, df_y, l = prepare_dataset('gs://{bucket}/mldsl/data/demo_job_1590767199/train', 150, word_to_index)"
   ]
  },
  {
   "cell_type": "code",
   "execution_count": null,
   "metadata": {},
   "outputs": [],
   "source": [
    "ints = np.random.choice(len(df_y), 100)\n",
    "\n",
    "test_x = df_x[ints]\n",
    "test_y = df_y[ints]\n",
    "test = test_x.tolist()"
   ]
  },
  {
   "cell_type": "code",
   "execution_count": 24,
   "metadata": {},
   "outputs": [],
   "source": [
    "%py_test -p AIProfile -pm $platform -t $test"
   ]
  },
  {
   "cell_type": "code",
   "execution_count": 25,
   "metadata": {},
   "outputs": [],
   "source": [
    "activation=[[0.0763, 0.9236], [0.7479, 0.2520], [0.1149, 0.8851], [0.9632, 0.0367], [0.9794, 0.0205], [0.1600, 0.8399], [0.0756, 0.9243], [0.9110, 0.0889], [0.6029, 0.3970584571361542], [0.14225800335407257, 0.8577420115470886], [0.06333357840776443, 0.9366663694381714], [0.9743743538856506, 0.025625616312026978], [0.9681770205497742, 0.03182300180196762], [0.03512100502848625, 0.964879035949707], [0.04376760870218277, 0.9562323689460754], [0.26621484756469727, 0.7337852120399475], [0.06679192185401917, 0.9332080483436584], [0.051758527755737305, 0.9482414722442627], [0.49746036529541016, 0.5025395750999451], [0.8411456942558289, 0.15885433554649353], [0.922367513179779, 0.07763243466615677], [0.9244933128356934, 0.0755067691206932], [0.5253538489341736, 0.4746461510658264], [0.7071253657341003, 0.29287463426589966], [0.27401697635650635, 0.7259830832481384], [0.9571094512939453, 0.042890556156635284], [0.5961024165153503, 0.4038976728916168], [0.5080382227897644, 0.4919617474079132], [0.9678243398666382, 0.03217558562755585], [0.021934354677796364, 0.9780656695365906], [0.7710021734237671, 0.22899776697158813], [0.5068738460540771, 0.49312618374824524], [0.0422273650765419, 0.9577726721763611], [0.03476165235042572, 0.9652382731437683], [0.967062771320343, 0.03293726593255997], [0.034166060388088226, 0.9658339619636536], [0.661314070224762, 0.3386859595775604], [0.3476886451244354, 0.652311384677887], [0.7019909620285034, 0.29800909757614136], [0.8247133493423462, 0.17528663575649261], [0.1573668122291565, 0.8426331877708435], [0.8963391780853271, 0.10366085171699524], [0.8273537755012512, 0.1726461946964264], [0.7638925313949585, 0.2361074835062027], [0.900901198387146, 0.099098801612854], [0.9743297696113586, 0.025670241564512253], [0.8769267201423645, 0.12307330965995789], [0.8166378736495972, 0.18336212635040283], [0.463306188583374, 0.536693811416626], [0.4359602928161621, 0.5640397667884827], [0.5380293130874634, 0.461970716714859], [0.9322284460067749, 0.0677715539932251], [0.015885164961218834, 0.9841148853302002], [0.015447582118213177, 0.9845523834228516], [0.32493576407432556, 0.675064206123352], [0.24269424378871918, 0.7573058009147644], [0.03912725672125816, 0.9608727097511292], [0.9620856046676636, 0.0379144586622715], [0.3279300928115845, 0.6720698475837708], [0.22086356580257416, 0.7791364192962646], [0.979588508605957, 0.02041146717965603], [0.018100405111908913, 0.981899619102478], [0.9595947861671448, 0.04040520638227463], [0.031090833246707916, 0.9689091444015503], [0.0270834993571043, 0.9729165434837341], [0.02446497417986393, 0.9755350351333618], [0.31624892354011536, 0.683751106262207], [0.9466636180877686, 0.053336307406425476], [0.9621150493621826, 0.03788500651717186], [0.9578911066055298, 0.04210885986685753], [0.10958409309387207, 0.8904159069061279], [0.27653148770332336, 0.7234686017036438], [0.9519773125648499, 0.04802265390753746], [0.837381899356842, 0.16261810064315796], [0.9448645710945129, 0.055135395377874374], [0.4114502966403961, 0.5885497331619263], [0.1889467090368271, 0.8110532760620117], [0.4810349941253662, 0.5189650058746338], [0.966179370880127, 0.03382059186697006], [0.8989152908325195, 0.10108472406864166], [0.06208815425634384, 0.937911868095398], [0.34143736958503723, 0.6585626006126404], [0.30845364928245544, 0.6915463805198669], [0.6908578276634216, 0.309142142534256], [0.9637742042541504, 0.03622574731707573], [0.7071535587310791, 0.2928463816642761], [0.1965351402759552, 0.8034648895263672], [0.9730255603790283, 0.02697441168129444], [0.18395622074604034, 0.8160437941551208], [0.8521286845207214, 0.14787133038043976], [0.13567009568214417, 0.8643299341201782], [0.675934910774231, 0.32406508922576904], [0.9746203422546387, 0.025379672646522522], [0.2150145173072815, 0.7849855422973633], [0.9751496911048889, 0.024850372225046158], [0.6916557550430298, 0.3083442449569702], [0.9558643102645874, 0.044135682284832], [0.9390143752098083, 0.060985635966062546], [0.9467990398406982, 0.05320099741220474], [0.8948332667350769, 0.10516678541898727]]"
   ]
  },
  {
   "cell_type": "code",
   "execution_count": 26,
   "metadata": {},
   "outputs": [],
   "source": [
    "dense=np.array(activation).argmax(axis=1)"
   ]
  },
  {
   "cell_type": "code",
   "execution_count": 27,
   "metadata": {},
   "outputs": [
    {
     "data": {
      "image/png": "[encoded data removed]",
      "text/plain": [
       "<Figure size 576x432 with 2 Axes>"
      ]
     },
     "metadata": {
      "needs_background": "light"
     },
     "output_type": "display_data"
    }
   ],
   "source": [
    "conf_mat = confusion_matrix(test_y, dense)\n",
    "fig, ax = plt.subplots(figsize=(8,6))\n",
    "classes=['Negative', 'Positive']\n",
    "sns.heatmap(conf_mat, annot=True, fmt='d',xticklabels=classes, yticklabels=classes, cmap=plt.cm.BuGn)\n",
    "plt.ylabel('Actual')\n",
    "plt.xlabel('Predicted')\n",
    "plt.show()"
   ]
  },
  {
   "cell_type": "code",
   "execution_count": 28,
   "metadata": {},
   "outputs": [
    {
     "name": "stdout",
     "output_type": "stream",
     "text": [
      "                 precision    recall  f1-score   support\n",
      "\n",
      "negative review       0.80      0.92      0.85        48\n",
      "positive review       0.91      0.79      0.85        52\n",
      "\n",
      "       accuracy                           0.85       100\n",
      "      macro avg       0.86      0.85      0.85       100\n",
      "   weighted avg       0.86      0.85      0.85       100\n",
      "\n"
     ]
    }
   ],
   "source": [
    "target_names = ['negative review', 'positive review']\n",
    "print(classification_report(test_y, dense, target_names=target_names))"
   ]
  },
  {
   "cell_type": "code",
   "execution_count": null,
   "metadata": {},
   "outputs": [],
   "source": []
  }
 ],
 "metadata": {
  "kernelspec": {
   "display_name": "Python 3",
   "language": "python",
   "name": "python3"
  },
  "language_info": {
   "codemirror_mode": {
    "name": "ipython",
    "version": 3
   },
   "file_extension": ".py",
   "mimetype": "text/x-python",
   "name": "python",
   "nbconvert_exporter": "python",
   "pygments_lexer": "ipython3",
   "version": "3.6.10"
  }
 },
 "nbformat": 4,
 "nbformat_minor": 4
}
