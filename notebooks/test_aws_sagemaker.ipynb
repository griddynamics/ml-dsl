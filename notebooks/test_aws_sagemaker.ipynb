{
 "cells": [
  {
   "cell_type": "markdown",
   "metadata": {},
   "source": [
    "<h1><center> ML DSL in Action </center></h1>\n",
    "\n",
    "Amazon AWS: \n",
    "1. Amazon EMR\n",
    "2. Amazon S3\n",
    "3. Amazon SageMaker"
   ]
  },
  {
   "cell_type": "code",
   "execution_count": 1,
   "metadata": {},
   "outputs": [],
   "source": [
    "import logging\n",
    "import boto3\n",
    "from botocore.exceptions import ClientError\n",
    "import os\n",
    "import numpy as np\n",
    "\n",
    "import com.griddynamics.dsl.ml.mldsl as mldsl\n",
    "from com.griddynamics.dsl.ml.mldsl import job_tracker\n",
    "from com.griddynamics.dsl.ml.settings.profiles import SageMakerProfile, Profile\n",
    "from com.griddynamics.dsl.ml.settings.description import Platform"
   ]
  },
  {
   "cell_type": "markdown",
   "metadata": {},
   "source": [
    "# ML Model to Predict Positive or Negative Review"
   ]
  },
  {
   "cell_type": "code",
   "execution_count": 2,
   "metadata": {},
   "outputs": [],
   "source": [
    "#Set some env variables to run script locally\n",
    "os.environ['SM_MODEL_DIR'] = 'demo/model/'\n",
    "os.environ['SM_CHANNEL_TRAINING'] = 'demo/data/'"
   ]
  },
  {
   "cell_type": "markdown",
   "metadata": {},
   "source": [
    "#### LSTM Train Script"
   ]
  },
  {
   "cell_type": "code",
   "execution_count": 3,
   "metadata": {},
   "outputs": [
    {
     "name": "stdout",
     "output_type": "stream",
     "text": [
      "Positive examples are 2518.0\n",
      "Negative examples are 2482.0\n"
     ]
    },
    {
     "name": "stderr",
     "output_type": "stream",
     "text": [
      "/home/ec2-user/anaconda3/envs/pytorch_p36/lib/python3.6/site-packages/ipykernel/__main__.py:55: UserWarning: Implicit dimension choice for softmax has been deprecated. Change the call to include dim=X as an argument.\n"
     ]
    },
    {
     "name": "stdout",
     "output_type": "stream",
     "text": [
      "Epoch 1/3..  Train loss: 0.425..  Accuracy: 0.529..  Time: 5.59\n",
      "Epoch 2/3..  Train loss: 0.421..  Accuracy: 0.527..  Time: 9.61\n",
      "Epoch 3/3..  Train loss: 0.420..  Accuracy: 0.492..  Time: 17.26\n",
      "Temporary path: /home/ec2-user/SageMaker/.mldsl/pytorch_model.py\n"
     ]
    },
    {
     "data": {
      "text/plain": [
       "<com.griddynamics.dsl.ml.py_script.PyScript at 0x7fe714b45c50>"
      ]
     },
     "execution_count": 3,
     "metadata": {},
     "output_type": "execute_result"
    }
   ],
   "source": [
    "%%py_script -e --name pytorch_model.py --path demo/scripts --epochs 3\n",
    "# %py_load scripts/pytorch_model.py\n",
    "#!/usr/bin/python\n",
    "import torch\n",
    "import torch.nn as nn\n",
    "import torch.nn.functional as F\n",
    "import time\n",
    "import numpy as np\n",
    "import itertools\n",
    "import os\n",
    "import argparse\n",
    "import json\n",
    "from shutil import copy2\n",
    "import boto3\n",
    "import io\n",
    "\n",
    "\n",
    "def pretrained_embedding_layer(word_to_vec_map, word_to_index):\n",
    "    vocab_len = len(word_to_index)\n",
    "    emb_dim = word_to_vec_map.item().get(\"apple\").shape[0]\n",
    "    emb_matrix = np.zeros((vocab_len, emb_dim))\n",
    "    for word, idx in word_to_index.items():\n",
    "        emb_matrix[idx, :] = np.float32(word_to_vec_map.item().get(word))\n",
    "    return emb_matrix\n",
    "\n",
    "\n",
    "def accuracy(a, b):\n",
    "    a = torch.argmax(a, dim=1)\n",
    "    b = torch.argmax(b, dim=1)\n",
    "    return torch.sum(torch.eq(a, b)).float() / list(a.size())[0]\n",
    "\n",
    "\n",
    "class LSTMModel(nn.Module):\n",
    "    # predict steps is output_dim lstm_size is hidden dim of LSTM cell\n",
    "    def __init__(self, word_to_vec_map, word_to_index, lstm_size=32, input_len=200):\n",
    "        super(LSTMModel, self).__init__()\n",
    "        torch.manual_seed(1)\n",
    "        self.lstm_size = lstm_size\n",
    "        self.input_len = input_len\n",
    "        emb_matrix = pretrained_embedding_layer(word_to_vec_map, word_to_index)\n",
    "        self.vocab_len = len(word_to_index)\n",
    "        self.emb_dim = word_to_vec_map.item().get(\"apple\").shape[0]\n",
    "\n",
    "        self.embedding = nn.Embedding(self.vocab_len, self.emb_dim)\n",
    "        self.embedding.weight = nn.Parameter(torch.from_numpy(emb_matrix))\n",
    "        self.embedding.weight.requires_grad = False\n",
    "\n",
    "        self.lstm = nn.LSTM(self.emb_dim, self.lstm_size, 2, dropout=0.5, batch_first=True)\n",
    "        self.out = nn.Linear(self.lstm_size, 2)\n",
    "\n",
    "    def forward(self, data):\n",
    "        x = self.embedding(data.long())\n",
    "        x, _ = self.lstm(x.view(len(data), -1, self.emb_dim))\n",
    "        x = x[:, -1, :]\n",
    "        x = self.out(x)\n",
    "        x = F.softmax(x)\n",
    "        return x\n",
    "\n",
    "\n",
    "def model_fn(model_dir):\n",
    "    device = torch.device(\"cuda\" if torch.cuda.is_available() else \"cpu\")\n",
    "    bucket = 'mldsl-test'\n",
    "    s3 = boto3.resource('s3')\n",
    "    \n",
    "    content_object = s3.Object(bucket, 'movie/word_to_index.json')\n",
    "    file_content = content_object.get()['Body'].read().decode('utf-8')\n",
    "    word_to_index = json.loads(file_content)\n",
    "    \n",
    "    obj = s3.Object(bucket, 'movie/word_to_vec_map.npy')\n",
    "    with io.BytesIO(obj.get()[\"Body\"].read()) as f:\n",
    "        word_to_vec_map = np.load(f, allow_pickle=True)\n",
    "    \n",
    "    model = LSTMModel(word_to_vec_map, word_to_index)\n",
    "    with open(os.path.join(model_dir, 'movie.pth'), 'rb') as f:\n",
    "        model.load_state_dict(torch.load(f))\n",
    "    model = model.float()\n",
    "    return model.to(device)\n",
    "\n",
    "\n",
    "if __name__ =='__main__':\n",
    "    parser = argparse.ArgumentParser()\n",
    "    # hyperparameters sent by the client are passed as command-line arguments to the script.\n",
    "    parser.add_argument('--epochs', type=int, default=20)\n",
    "    parser.add_argument('--batch_size', type=int, default=1024)\n",
    "    parser.add_argument('--learning_rate', type=float, default=0.03)\n",
    "    # Data, model, and output directories\n",
    "    parser.add_argument('--model_dir', type=str, default=os.environ['SM_MODEL_DIR'])\n",
    "    parser.add_argument('--train', type=str, default=os.environ['SM_CHANNEL_TRAINING'])\n",
    "    args, _ = parser.parse_known_args()\n",
    "\n",
    "    np.random.seed(1)\n",
    "    device = torch.device(\"cuda\" if torch.cuda.is_available() else \"cpu\")\n",
    "\n",
    "    with open(os.path.join(args.train, \"word_to_index.json\"), 'r') as f:\n",
    "        word_to_index = json.load(f)\n",
    "    word_to_vec_map = np.load(os.path.join(args.train,\"word_to_vec_map.npy\"), allow_pickle=True)\n",
    "\n",
    "    model = LSTMModel(word_to_vec_map, word_to_index, lstm_size=32, input_len=150)\n",
    "    model = model.float()\n",
    "    parameters = itertools.filterfalse(lambda p: not p.requires_grad, model.parameters())\n",
    "    # Optimizer\n",
    "    criterion = torch.nn.BCELoss()\n",
    "    optimizer = torch.optim.Adam(parameters, lr=args.learning_rate)\n",
    "    model.to(device)\n",
    "\n",
    "    x_train = np.load(os.path.join(args.train,'data_train.npy'), allow_pickle=True)\n",
    "    y_train = np.load(os.path.join(args.train,'label_train.npy'), allow_pickle=True)\n",
    "\n",
    "    x_train = np.float32(x_train)\n",
    "    y_train = np.float32(y_train)\n",
    "    \n",
    "    tensor_x = torch.tensor(x_train[:, :150]).float()\n",
    "    tensor_y = torch.tensor(y_train).float()\n",
    "    \n",
    "    print(\"Positive examples are {}\".format(sum(tensor_y[:, 0])))\n",
    "    print(\"Negative examples are {}\".format(sum(tensor_y[:, 1])))\n",
    "    del x_train\n",
    "    del y_train\n",
    "\n",
    "    traindataset = torch.utils.data.TensorDataset(tensor_x, tensor_y)\n",
    "    trainloader = torch.utils.data.DataLoader(traindataset, shuffle=True, batch_size=args.batch_size)\n",
    "\n",
    "    epochs = args.epochs\n",
    "    running_loss = 0\n",
    "    train_losses = []\n",
    "\n",
    "    for epoch in range(epochs):\n",
    "        start = time.time()\n",
    "        for inputs, label in trainloader:\n",
    "            inputs, label = inputs.to(device), label.to(device)\n",
    "            optimizer.zero_grad()\n",
    "            logps = model.forward(inputs)\n",
    "            loss = criterion(logps, label)\n",
    "            running_loss += loss.item()\n",
    "            loss.backward()\n",
    "            optimizer.step()\n",
    "            train_losses.append(running_loss / len(trainloader))\n",
    "            model.train()\n",
    "        print(f\"\"\"Epoch {epoch+1}/{epochs}..  Train loss: {np.mean(train_losses):.3f}..  Accuracy: {accuracy(label, logps):.3f}..  Time: {(time.time() - start):.2f}\"\"\")\n",
    "        running_loss = 0\n",
    "    copy2(os.path.join(args.train, \"word_to_index.json\"), os.path.join(args.model_dir, \"word_to_index.json\"))\n",
    "    copy2(os.path.join(args.train, \"word_to_vec_map.npy\"), os.path.join(args.model_dir, \"word_to_vec_map.npy\"))\n",
    "    \n",
    "    with open(os.path.join(args.model_dir, 'movie.pth'), 'wb') as f:\n",
    "        torch.save(model.state_dict(), f)\n"
   ]
  },
  {
   "cell_type": "code",
   "execution_count": 4,
   "metadata": {},
   "outputs": [],
   "source": [
    "from sagemaker.pytorch import PyTorch\n",
    "\n",
    "platform = Platform.AWS\n",
    "profile = SageMakerProfile(bucket='mldsl-test', cluster='ai4ops', region='us-east-1', job_prefix='mldsl_test',\n",
    "                           container=PyTorch, framework_version='1.4.0', instance_type='ml.m4.xlarge')\n",
    "\n",
    "Profile.set('SageMakerProfile', profile)"
   ]
  },
  {
   "cell_type": "code",
   "execution_count": 5,
   "metadata": {},
   "outputs": [
    {
     "name": "stdout",
     "output_type": "stream",
     "text": [
      "2020-05-27 09:21:11 Starting - Starting the training job...\n",
      "2020-05-27 09:21:13 Starting - Launching requested ML instances.........\n",
      "2020-05-27 09:22:56 Starting - Preparing the instances for training......\n",
      "2020-05-27 09:23:52 Downloading - Downloading input data......\n",
      "2020-05-27 09:25:07 Training - Downloading the training image...\n",
      "2020-05-27 09:25:35 Training - Training image download completed. Training in progress.\u001b[34mbash: cannot set terminal process group (-1): Inappropriate ioctl for device\u001b[0m\n",
      "\u001b[34mbash: no job control in this shell\u001b[0m\n",
      "\u001b[34m2020-05-27 09:25:27,700 sagemaker-containers INFO     Imported framework sagemaker_pytorch_container.training\u001b[0m\n",
      "\u001b[34m2020-05-27 09:25:27,703 sagemaker-containers INFO     No GPUs detected (normal if no gpus installed)\u001b[0m\n",
      "\u001b[34m2020-05-27 09:25:27,716 sagemaker_pytorch_container.training INFO     Block until all host DNS lookups succeed.\u001b[0m\n",
      "\u001b[34m2020-05-27 09:25:30,739 sagemaker_pytorch_container.training INFO     Invoking user training script.\u001b[0m\n",
      "\u001b[34m2020-05-27 09:26:31,363 sagemaker-containers INFO     Module default_user_module_name does not provide a setup.py. \u001b[0m\n",
      "\u001b[34mGenerating setup.py\u001b[0m\n",
      "\u001b[34m2020-05-27 09:26:31,363 sagemaker-containers INFO     Generating setup.cfg\u001b[0m\n",
      "\u001b[34m2020-05-27 09:26:31,364 sagemaker-containers INFO     Generating MANIFEST.in\u001b[0m\n",
      "\u001b[34m2020-05-27 09:26:31,364 sagemaker-containers INFO     Installing module with the following command:\u001b[0m\n",
      "\u001b[34m/opt/conda/bin/python -m pip install . \u001b[0m\n",
      "\u001b[34mProcessing /tmp/tmpkea8ffxy/module_dir\u001b[0m\n",
      "\u001b[34mBuilding wheels for collected packages: default-user-module-name\n",
      "  Building wheel for default-user-module-name (setup.py): started\n",
      "  Building wheel for default-user-module-name (setup.py): finished with status 'done'\n",
      "  Created wheel for default-user-module-name: filename=default_user_module_name-1.0.0-py2.py3-none-any.whl size=8529 sha256=9d3353a485f97c02d0b9a40867a36731a2af59fdc6913629590eb0e4f597edd4\n",
      "  Stored in directory: /tmp/pip-ephem-wheel-cache-yqw4b5oo/wheels/eb/df/3f/6c0d0e2368bff01d8c7f58cf713162268bbe9ae90557f7eeca\u001b[0m\n",
      "\u001b[34mSuccessfully built default-user-module-name\u001b[0m\n",
      "\u001b[34mInstalling collected packages: default-user-module-name\u001b[0m\n",
      "\u001b[34mSuccessfully installed default-user-module-name-1.0.0\u001b[0m\n",
      "\u001b[34m2020-05-27 09:26:34,008 sagemaker-containers INFO     No GPUs detected (normal if no gpus installed)\u001b[0m\n",
      "\u001b[34m2020-05-27 09:26:34,024 sagemaker-containers INFO     No GPUs detected (normal if no gpus installed)\u001b[0m\n",
      "\u001b[34m2020-05-27 09:26:34,040 sagemaker-containers INFO     No GPUs detected (normal if no gpus installed)\u001b[0m\n",
      "\u001b[34m2020-05-27 09:26:34,054 sagemaker-containers INFO     Invoking user script\n",
      "\u001b[0m\n",
      "\u001b[34mTraining Env:\n",
      "\u001b[0m\n",
      "\u001b[34m{\n",
      "    \"additional_framework_parameters\": {},\n",
      "    \"channel_input_dirs\": {\n",
      "        \"training\": \"/opt/ml/input/data/training\"\n",
      "    },\n",
      "    \"current_host\": \"algo-1\",\n",
      "    \"framework_module\": \"sagemaker_pytorch_container.training:main\",\n",
      "    \"hosts\": [\n",
      "        \"algo-1\"\n",
      "    ],\n",
      "    \"hyperparameters\": {},\n",
      "    \"input_config_dir\": \"/opt/ml/input/config\",\n",
      "    \"input_data_config\": {\n",
      "        \"training\": {\n",
      "            \"TrainingInputMode\": \"File\",\n",
      "            \"S3DistributionType\": \"FullyReplicated\",\n",
      "            \"RecordWrapperType\": \"None\"\n",
      "        }\n",
      "    },\n",
      "    \"input_dir\": \"/opt/ml/input\",\n",
      "    \"is_master\": true,\n",
      "    \"job_name\": \"pytorch-training-2020-05-27-09-21-11-059\",\n",
      "    \"log_level\": 20,\n",
      "    \"master_hostname\": \"algo-1\",\n",
      "    \"model_dir\": \"/opt/ml/model\",\n",
      "    \"module_dir\": \"s3://sagemaker-us-east-1-592068120969/pytorch-training-2020-05-27-09-21-11-059/source/sourcedir.tar.gz\",\n",
      "    \"module_name\": \"pytorch_model\",\n",
      "    \"network_interface_name\": \"eth0\",\n",
      "    \"num_cpus\": 4,\n",
      "    \"num_gpus\": 0,\n",
      "    \"output_data_dir\": \"/opt/ml/output/data\",\n",
      "    \"output_dir\": \"/opt/ml/output\",\n",
      "    \"output_intermediate_dir\": \"/opt/ml/output/intermediate\",\n",
      "    \"resource_config\": {\n",
      "        \"current_host\": \"algo-1\",\n",
      "        \"hosts\": [\n",
      "            \"algo-1\"\n",
      "        ],\n",
      "        \"network_interface_name\": \"eth0\"\n",
      "    },\n",
      "    \"user_entry_point\": \"pytorch_model.py\"\u001b[0m\n",
      "\u001b[34m}\n",
      "\u001b[0m\n",
      "\u001b[34mEnvironment variables:\n",
      "\u001b[0m\n",
      "\u001b[34mSM_HOSTS=[\"algo-1\"]\u001b[0m\n",
      "\u001b[34mSM_NETWORK_INTERFACE_NAME=eth0\u001b[0m\n",
      "\u001b[34mSM_HPS={}\u001b[0m\n",
      "\u001b[34mSM_USER_ENTRY_POINT=pytorch_model.py\u001b[0m\n",
      "\u001b[34mSM_FRAMEWORK_PARAMS={}\u001b[0m\n",
      "\u001b[34mSM_RESOURCE_CONFIG={\"current_host\":\"algo-1\",\"hosts\":[\"algo-1\"],\"network_interface_name\":\"eth0\"}\u001b[0m\n",
      "\u001b[34mSM_INPUT_DATA_CONFIG={\"training\":{\"RecordWrapperType\":\"None\",\"S3DistributionType\":\"FullyReplicated\",\"TrainingInputMode\":\"File\"}}\u001b[0m\n",
      "\u001b[34mSM_OUTPUT_DATA_DIR=/opt/ml/output/data\u001b[0m\n",
      "\u001b[34mSM_CHANNELS=[\"training\"]\u001b[0m\n",
      "\u001b[34mSM_CURRENT_HOST=algo-1\u001b[0m\n",
      "\u001b[34mSM_MODULE_NAME=pytorch_model\u001b[0m\n",
      "\u001b[34mSM_LOG_LEVEL=20\u001b[0m\n",
      "\u001b[34mSM_FRAMEWORK_MODULE=sagemaker_pytorch_container.training:main\u001b[0m\n",
      "\u001b[34mSM_INPUT_DIR=/opt/ml/input\u001b[0m\n",
      "\u001b[34mSM_INPUT_CONFIG_DIR=/opt/ml/input/config\u001b[0m\n",
      "\u001b[34mSM_OUTPUT_DIR=/opt/ml/output\u001b[0m\n",
      "\u001b[34mSM_NUM_CPUS=4\u001b[0m\n",
      "\u001b[34mSM_NUM_GPUS=0\u001b[0m\n",
      "\u001b[34mSM_MODEL_DIR=/opt/ml/model\u001b[0m\n",
      "\u001b[34mSM_MODULE_DIR=s3://sagemaker-us-east-1-592068120969/pytorch-training-2020-05-27-09-21-11-059/source/sourcedir.tar.gz\u001b[0m\n",
      "\u001b[34mSM_TRAINING_ENV={\"additional_framework_parameters\":{},\"channel_input_dirs\":{\"training\":\"/opt/ml/input/data/training\"},\"current_host\":\"algo-1\",\"framework_module\":\"sagemaker_pytorch_container.training:main\",\"hosts\":[\"algo-1\"],\"hyperparameters\":{},\"input_config_dir\":\"/opt/ml/input/config\",\"input_data_config\":{\"training\":{\"RecordWrapperType\":\"None\",\"S3DistributionType\":\"FullyReplicated\",\"TrainingInputMode\":\"File\"}},\"input_dir\":\"/opt/ml/input\",\"is_master\":true,\"job_name\":\"pytorch-training-2020-05-27-09-21-11-059\",\"log_level\":20,\"master_hostname\":\"algo-1\",\"model_dir\":\"/opt/ml/model\",\"module_dir\":\"s3://sagemaker-us-east-1-592068120969/pytorch-training-2020-05-27-09-21-11-059/source/sourcedir.tar.gz\",\"module_name\":\"pytorch_model\",\"network_interface_name\":\"eth0\",\"num_cpus\":4,\"num_gpus\":0,\"output_data_dir\":\"/opt/ml/output/data\",\"output_dir\":\"/opt/ml/output\",\"output_intermediate_dir\":\"/opt/ml/output/intermediate\",\"resource_config\":{\"current_host\":\"algo-1\",\"hosts\":[\"algo-1\"],\"network_interface_name\":\"eth0\"},\"user_entry_point\":\"pytorch_model.py\"}\u001b[0m\n",
      "\u001b[34mSM_USER_ARGS=[]\u001b[0m\n",
      "\u001b[34mSM_OUTPUT_INTERMEDIATE_DIR=/opt/ml/output/intermediate\u001b[0m\n",
      "\u001b[34mSM_CHANNEL_TRAINING=/opt/ml/input/data/training\u001b[0m\n",
      "\u001b[34mPYTHONPATH=/opt/ml/code:/opt/conda/bin:/opt/conda/lib/python36.zip:/opt/conda/lib/python3.6:/opt/conda/lib/python3.6/lib-dynload:/opt/conda/lib/python3.6/site-packages\n",
      "\u001b[0m\n",
      "\u001b[34mInvoking script with the following command:\n",
      "\u001b[0m\n",
      "\u001b[34m/opt/conda/bin/python pytorch_model.py\n",
      "\n",
      "\u001b[0m\n",
      "\u001b[34mPositive examples are 22482.0\u001b[0m\n",
      "\u001b[34mNegative examples are 22518.0\u001b[0m\n",
      "\u001b[34mEpoch 1/2..  Train loss: 0.355..  Accuracy: 0.481..  Time: 135.15\u001b[0m\n",
      "\n",
      "2020-05-27 09:30:39 Uploading - Uploading generated training model\u001b[34mEpoch 2/2..  Train loss: 0.354..  Accuracy: 0.517..  Time: 93.15\u001b[0m\n",
      "\u001b[34m2020-05-27 09:30:34,357 sagemaker-containers INFO     Reporting training SUCCESS\u001b[0m\n",
      "\n",
      "2020-05-27 09:31:35 Completed - Training job completed\n",
      "Training seconds: 463\n",
      "Billable seconds: 463\n"
     ]
    },
    {
     "data": {
      "text/html": [
       "<a href=\"s3://sagemaker-us-east-1-592068120969/pytorch-training-2020-05-27-09-21-11-059/output/model.tar.gz\">s3://sagemaker-us-east-1-592068120969/pytorch-training-2020-05-27-09-21-11-059/output/model.tar.gz</a>"
      ],
      "text/plain": [
       "<IPython.core.display.HTML object>"
      ]
     },
     "metadata": {},
     "output_type": "display_data"
    },
    {
     "data": {
      "application/json": {
       "entry_point": "demo/scripts/pytorch_model.py",
       "instance_count": 1,
       "instance_type": "ml.m4.xlarge",
       "model_data": "s3://sagemaker-us-east-1-592068120969/pytorch-training-2020-05-27-09-21-11-059/output/model.tar.gz",
       "output_path": "s3://sagemaker-us-east-1-592068120969/"
      },
      "text/plain": [
       "<IPython.core.display.JSON object>"
      ]
     },
     "metadata": {
      "application/json": {
       "expanded": false
      }
     },
     "output_type": "display_data"
    }
   ],
   "source": [
    "%py_train -n pytorch_model.py -s demo/scripts -p SageMakerProfile -pm $platform -o s3://mldsl-test/movie/ \\\n",
    "--training s3://mldsl-test/movie/"
   ]
  },
  {
   "cell_type": "code",
   "execution_count": 6,
   "metadata": {},
   "outputs": [],
   "source": [
    "#Use job_mldsl_test_1590571270 instance to browse job properties.\n",
    "job_mldsl_test_1590571270 = job_tracker['mldsl_test_1590571270']"
   ]
  },
  {
   "cell_type": "markdown",
   "metadata": {},
   "source": [
    "### Deployment of model"
   ]
  },
  {
   "cell_type": "code",
   "execution_count": 8,
   "metadata": {},
   "outputs": [
    {
     "name": "stderr",
     "output_type": "stream",
     "text": [
      "Using already existing model: pytorch-training-2020-05-27-09-21-11-059\n"
     ]
    },
    {
     "name": "stdout",
     "output_type": "stream",
     "text": [
      "---------------!"
     ]
    }
   ],
   "source": [
    "predictor = job_mldsl_test_1590571270.deploy(initial_instance_count=1, instance_type='ml.m4.xlarge',\n",
    "                                             endpoint_name='mldsl-pytorch')"
   ]
  },
  {
   "cell_type": "code",
   "execution_count": 12,
   "metadata": {},
   "outputs": [],
   "source": [
    "x_train = np.load('demo/data/data_train.npy', allow_pickle=True)\n",
    "y_train = np.load('demo/data/label_train.npy', allow_pickle=True)\n",
    "y = y_train.argmax(axis=1)\n",
    "target_names = ['negative review', 'positive review']\n",
    "\n",
    "preds = predictor.predict(x_train[:, :150])\n",
    "prediction = preds.argmax(axis=1)"
   ]
  },
  {
   "cell_type": "code",
   "execution_count": 10,
   "metadata": {},
   "outputs": [
    {
     "data": {
      "image/png": "[encoded data removed]",
      "text/plain": [
       "<Figure size 576x432 with 2 Axes>"
      ]
     },
     "metadata": {},
     "output_type": "display_data"
    }
   ],
   "source": [
    "%matplotlib inline\n",
    "from sklearn.metrics import classification_report, confusion_matrix\n",
    "import matplotlib.pyplot as plt\n",
    "import seaborn as sns\n",
    "conf_mat = confusion_matrix(y, prediction)\n",
    "fig, ax = plt.subplots(figsize=(8,6))\n",
    "classes=['Negative', 'Positive']\n",
    "sns.heatmap(conf_mat, annot=True, fmt='d',xticklabels=classes, yticklabels=classes, cmap=plt.cm.BuGn)\n",
    "plt.ylabel('Actual')\n",
    "plt.xlabel('Predicted')\n",
    "plt.show()"
   ]
  },
  {
   "cell_type": "markdown",
   "metadata": {},
   "source": [
    "### Deployment of model trained outside"
   ]
  },
  {
   "cell_type": "code",
   "execution_count": 8,
   "metadata": {},
   "outputs": [],
   "source": [
    "from sagemaker.pytorch import PyTorchModel\n",
    "profile.model_data = 's3://sagemaker-us-east-1-592068120969/pytorch-training-2020-05-17-15-33-13-034/model.tar.gz'\n",
    "profile.container = PyTorchModel\n",
    "Profile.set('TestDeploySMProfile', profile)"
   ]
  },
  {
   "cell_type": "code",
   "execution_count": 9,
   "metadata": {},
   "outputs": [
    {
     "name": "stdout",
     "output_type": "stream",
     "text": [
      "-----------------------!"
     ]
    },
    {
     "data": {
      "application/json": {
       "endpoint_name": "pytorch-inference-2020-05-27-10-54-22-109",
       "entry_point": "demo/scripts/pytorch_model.py",
       "model_data": "s3://sagemaker-us-east-1-592068120969/pytorch-training-2020-05-17-15-33-13-034/model.tar.gz",
       "name": "pytorch-inference-2020-05-27-10-54-22-109"
      },
      "text/plain": [
       "<IPython.core.display.JSON object>"
      ]
     },
     "metadata": {
      "application/json": {
       "expanded": false
      }
     },
     "output_type": "display_data"
    }
   ],
   "source": [
    "%py_deploy -n pytorch_model.py -s demo/scripts -p TestDeploySMProfile -pm $platform"
   ]
  },
  {
   "cell_type": "code",
   "execution_count": 10,
   "metadata": {},
   "outputs": [],
   "source": [
    "#Use job_mldsl_test_1590576828_predictor instance to browse job properties.\n",
    "predictor=job_tracker['mldsl_test_1590576828_predictor']"
   ]
  },
  {
   "cell_type": "markdown",
   "metadata": {},
   "source": [
    "## PREDICTION"
   ]
  },
  {
   "cell_type": "code",
   "execution_count": 14,
   "metadata": {},
   "outputs": [],
   "source": [
    "preds = predictor.predict(x_train[:, :150])\n",
    "prediction = preds.argmax(axis=1)\n",
    "y_train = np.load('demo/data/label_train.npy', allow_pickle=True)\n",
    "n_samples=500\n",
    "y = y_train[:].argmax(axis=1)\n",
    "target_names = ['negative review', 'positive review']"
   ]
  },
  {
   "cell_type": "code",
   "execution_count": 15,
   "metadata": {},
   "outputs": [
    {
     "data": {
      "image/png": "[encoded data removed]",
      "text/plain": [
       "<Figure size 576x432 with 2 Axes>"
      ]
     },
     "metadata": {},
     "output_type": "display_data"
    }
   ],
   "source": [
    "%matplotlib inline\n",
    "from sklearn.metrics import classification_report, confusion_matrix\n",
    "import matplotlib.pyplot as plt\n",
    "import seaborn as sns\n",
    "conf_mat = confusion_matrix(y, prediction)\n",
    "fig, ax = plt.subplots(figsize=(8,6))\n",
    "classes=['Negative', 'Positive']\n",
    "sns.heatmap(conf_mat, annot=True, fmt='d',xticklabels=classes, yticklabels=classes, cmap=plt.cm.BuGn)\n",
    "plt.ylabel('Actual')\n",
    "plt.xlabel('Predicted')\n",
    "plt.show()"
   ]
  },
  {
   "cell_type": "code",
   "execution_count": 16,
   "metadata": {},
   "outputs": [
    {
     "name": "stdout",
     "output_type": "stream",
     "text": [
      "                 precision    recall  f1-score   support\n",
      "\n",
      "negative review       0.85      0.73      0.78      2518\n",
      "positive review       0.76      0.87      0.81      2482\n",
      "\n",
      "      micro avg       0.80      0.80      0.80      5000\n",
      "      macro avg       0.80      0.80      0.80      5000\n",
      "   weighted avg       0.80      0.80      0.80      5000\n",
      "\n"
     ]
    }
   ],
   "source": [
    "print(classification_report(y, prediction,target_names=target_names))"
   ]
  },
  {
   "cell_type": "code",
   "execution_count": null,
   "metadata": {},
   "outputs": [],
   "source": []
  }
 ],
 "metadata": {
  "kernelspec": {
   "display_name": "Python 3",
   "language": "python",
   "name": "python3"
  },
  "language_info": {
   "codemirror_mode": {
    "name": "ipython",
    "version": 3
   },
   "file_extension": ".py",
   "mimetype": "text/x-python",
   "name": "python",
   "nbconvert_exporter": "python",
   "pygments_lexer": "ipython3",
   "version": "3.6.10"
  }
 },
 "nbformat": 4,
 "nbformat_minor": 4
}
