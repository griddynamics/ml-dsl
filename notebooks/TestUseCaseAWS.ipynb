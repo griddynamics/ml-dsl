{
 "cells": [
  {
   "cell_type": "markdown",
   "metadata": {},
   "source": [
    "<h1><center> ML DSL in Action </center></h1>\n",
    "\n",
    "Amazon AWS: \n",
    "1. Amazon EMR\n",
    "2. Amazon S3\n",
    "3. Amazon SageMaker"
   ]
  },
  {
   "cell_type": "code",
   "execution_count": 2,
   "metadata": {},
   "outputs": [],
   "source": [
    "import logging\n",
    "import boto3\n",
    "from botocore.exceptions import ClientError\n",
    "import os\n",
    "import numpy as np\n",
    "\n",
    "import com.griddynamics.dsl.ml.mldsl as mldsl\n",
    "from com.griddynamics.dsl.ml.mldsl import job_tracker\n",
    "from com.griddynamics.dsl.ml.settings.profiles import SageMakerProfile, PySparkJobProfile\n",
    "from com.griddynamics.dsl.ml.settings.description import Platform"
   ]
  },
  {
   "cell_type": "markdown",
   "metadata": {},
   "source": [
    "## Prepare Sequences from Original Text"
   ]
  },
  {
   "cell_type": "markdown",
   "metadata": {},
   "source": [
    "### Tokenizer to Create Sequences "
   ]
  },
  {
   "cell_type": "markdown",
   "metadata": {},
   "source": [
    "### Execute Tokenizer on ML Platform"
   ]
  },
  {
   "cell_type": "code",
   "execution_count": 16,
   "metadata": {},
   "outputs": [
    {
     "name": "stdout",
     "output_type": "stream",
     "text": [
      "Temporary path: /Users/apolatovskaya/git/ml-dsl/.mldsl/text_tokenizer.py\n"
     ]
    },
    {
     "data": {
      "text/plain": [
       "<com.griddynamics.dsl.ml.py_script.PyScript at 0x7fb4413f4c88>"
      ]
     },
     "execution_count": 16,
     "metadata": {},
     "output_type": "execute_result"
    }
   ],
   "source": [
    "%%py_script --name text_tokenizer.py --path demo/scripts\n",
    "# %py_load demo/scripts/text_tokenizer.py\n",
    "#!/usr/bin/python\n",
    "from pyspark import SQLContext, SparkContext\n",
    "from pyspark.sql.window import Window\n",
    "import pyspark.sql.functions as F\n",
    "from pyspark.sql import Row\n",
    "from pyspark.sql.types import ArrayType, IntegerType, FloatType\n",
    "from pyspark.ml.feature import Tokenizer\n",
    "import argparse\n",
    "\n",
    "\n",
    "def read_glove_vecs(glove_file, output_path):\n",
    "    rdd = sc.textFile(glove_file)\n",
    "    row = Row(\"glovevec\")\n",
    "    df = rdd.map(row).toDF()\n",
    "    split_col = F.split(F.col('glovevec'), \" \")\n",
    "    df = df.withColumn('word', split_col.getItem(0))\n",
    "    df = df.withColumn('splitted', split_col)\n",
    "    vec_udf = F.udf(lambda row: [float(i) for i in row[1:]], ArrayType(FloatType()))\n",
    "    df = df.withColumn('vec', vec_udf(F.col('splitted')))\n",
    "    df = df.drop('splitted', \"glovevec\")\n",
    "    w = Window.orderBy([\"word\"])\n",
    "    qdf = df.withColumn('vec', F.concat_ws(',', 'vec')).withColumn(\"id\", F.row_number().over(w))\n",
    "    \n",
    "    path = '{}/words'.format(output_path)\n",
    "    qdf.coalesce(1).write.format('csv').option(\"sep\",\"\\t\").option('header', 'true').save(path)\n",
    "    print('Words saved to: \"{}\"'.format(path))\n",
    "    list_words = list(map(lambda row: row.asDict(), qdf.collect()))\n",
    "    word_to_vec_map = {item['word']: item['vec'] for item in list_words}\n",
    "    words_to_index = {item['word']:item[\"id\"] for item in list_words}\n",
    "    index_to_words = {item[\"id\"]: item['word'] for item in list_words}\n",
    "    return words_to_index, index_to_words, word_to_vec_map\n",
    "\n",
    "\n",
    "def prepare_df(path, const, words_to_index):\n",
    "    rdd = sc.textFile(path)\n",
    "    row = Row(\"review\")\n",
    "    df = rdd.map(row).toDF()\n",
    "    # Clean text\n",
    "    df_clean = df.select(F.lower(F.regexp_replace(F.col('review'), \"n't\", \" n't\")).alias('review'))\n",
    "    df_clean = df_clean.select(F.lower(F.regexp_replace(F.col('review'), \"[^0-9a-zA-Z\\\\s]\", \"\")).alias('review'))\n",
    "    # Tokenize text\n",
    "    tokenizer = Tokenizer(inputCol='review', outputCol='words_token')\n",
    "    df_words_token = tokenizer.transform(df_clean).select('words_token')\n",
    "    df_cutted = df_words_token.withColumn('length', F.size(F.col('words_token')))\n",
    "    # Replace word with it's index\n",
    "    word_udf = F.udf(lambda row: [words_to_index[w] if w in words_to_index.keys()\n",
    "                                  else words_to_index[\"unk\"] for w in row],\n",
    "                 ArrayType(IntegerType()))\n",
    "    df_stemmed = df_cutted.withColumn('words_stemmed', word_udf(F.col('words_token')))\n",
    "    return df_stemmed.withColumn(\"class\", F.lit(const))\n",
    "\n",
    "\n",
    "def save_dataset(df_pos, df_neg, path):\n",
    "    df = df_pos.union(df_neg)\n",
    "    w = Window.orderBy([\"words_stemmed\"])\n",
    "    df = df.withColumn(\"review_id\", F.row_number().over(w)).withColumn('int_seq',\n",
    "                                                                       F.concat_ws(',', 'words_stemmed'))\n",
    "    qdf = df.select(['review_id', 'int_seq', 'class'])\n",
    "    qdf.coalesce(1).write.format('csv').option('header', 'true').save(path)\n",
    "\n",
    "    \n",
    "if __name__ == '__main__':\n",
    "    parser = argparse.ArgumentParser()\n",
    "    parser.add_argument('--train_path', type=str, help=\"train positive reviews path\")\n",
    "    parser.add_argument('--test_path', type=str, help=\"test positive reviews path\")\n",
    "    parser.add_argument('--word_embeds', type=str, help=\"Path to glove word embeddings\")\n",
    "    parser.add_argument('--output_path', type=str, help=\"Sequences output path\")\n",
    "    reviews_filter = '*.txt'\n",
    "\n",
    "    args, d = parser.parse_known_args()\n",
    "    output_path = args.output_path\n",
    "    SparkContext.setSystemProperty('spark.sql.broadcastTimeout', '36000')\n",
    "    sc = SparkContext(appName=\"word_tokenizer\").getOrCreate()\n",
    "    sql = SQLContext(sc)\n",
    "\n",
    "    words_to_index, index_to_words, word_to_vec_map = read_glove_vecs(args.word_embeds, output_path)\n",
    "    \n",
    "    df_pos = prepare_df(f\"{args.train_path}/pos/{reviews_filter}\", 1, words_to_index)\n",
    "    df_neg = prepare_df(f\"{args.train_path}/neg/{reviews_filter}\", 0, words_to_index)\n",
    "    train_path = '{}/train'.format(output_path)\n",
    "    save_dataset(df_pos, df_neg, train_path)\n",
    "    print('Train saved to: \"{}\"'.format(train_path))\n",
    "\n",
    "    df_pos = prepare_df(f\"{args.test_path}/pos/{reviews_filter}\", 1, words_to_index)\n",
    "    df_neg = prepare_df(f\"{args.test_path}/neg/{reviews_filter}\", 0, words_to_index)\n",
    "    test_path = '{}/test'.format(output_path)\n",
    "    save_dataset(df_pos, df_neg, test_path)\n",
    "    print('Test saved to: \"{}\"'.format(test_path))"
   ]
  },
  {
   "cell_type": "code",
   "execution_count": 17,
   "metadata": {},
   "outputs": [],
   "source": [
    "platform = Platform.AWS\n",
    "profile = PySparkJobProfile(bucket='mldsl-test', \n",
    "                            cluster='j-IUSED1D1H8F6',\n",
    "                            region='global',\n",
    "                            job_prefix='movie_review_job',\n",
    "                            root_path='demo/scripts', project=None, ai_region='us-east-1', \n",
    "                            job_async=False,\n",
    "                            use_cloud_engine_credentials='SageMakerRoleMlDsl')\n",
    "profile.args=profile.load_profile_data(\"demo/spark_job_args_aws.json\")\n",
    "profile.packages=[\"com.amazonaws:aws-java-sdk-pom:1.10.34\", \"org.apache.hadoop:hadoop-aws:2.6.0\"]\n",
    "PySparkJobProfile.set('JobProfile', profile)"
   ]
  },
  {
   "cell_type": "code",
   "execution_count": 18,
   "metadata": {},
   "outputs": [
    {
     "name": "stdout",
     "output_type": "stream",
     "text": [
      "Parameters string = <<<-n text_tokenizer.py -p JobProfile -pm 2 -o s3://mldsl-test/movie>>>\n",
      "mldsl-test\n",
      "Uploaded text_tokenizer.py to s3://mldsl-test/emr/j-IUSED1D1H8F6/movie_review_job_1593105239/text_tokenizer.py\n",
      "Submitting movie_review_job_1593105239 to cluster j-IUSED1D1H8F6\n",
      "Step movie_review_job_1593105239 change state to PENDING\n",
      "Step movie_review_job_1593105239 change state to RUNNING\n",
      "Throttling Exception Occured.\n",
      "Retrying.....\n",
      "Throttling Exception Occured.\n",
      "Retrying.....\n",
      "Throttling Exception Occured.\n",
      "Retrying.....\n",
      "Throttling Exception Occured.\n",
      "Retrying.....\n",
      "Throttling Exception Occured.\n",
      "Retrying.....\n",
      "Throttling Exception Occured.\n",
      "Retrying.....\n",
      "Throttling Exception Occured.\n",
      "Retrying.....\n",
      "Throttling Exception Occured.\n",
      "Retrying.....\n",
      "Step movie_review_job_1593105239 change state to COMPLETED\n"
     ]
    },
    {
     "data": {
      "text/html": [
       "<a href=\"https://console.aws.amazon.com/s3/buckets/mldsl-test/emr/j-IUSED1D1H8F6/steps/s-27ZW9WD91GD2V/?region=global\">Output Data movie_review_job_1593105239</a>"
      ],
      "text/plain": [
       "<IPython.core.display.HTML object>"
      ]
     },
     "metadata": {},
     "output_type": "display_data"
    },
    {
     "data": {
      "application/json": {
       "labels": {},
       "output_resource_uri": "s3n://aws-logs-592068120969-us-east-1/elasticmapreduce/j-IUSED1D1H8F6/steps/s-27ZW9WD91GD2V",
       "placement": {
        "cluster_id": "j-IUSED1D1H8F6",
        "step_id": "s-27ZW9WD91GD2V"
       },
       "pyspark_job": {
        "archive_uris": [],
        "args": [
         "--output_path",
         "s3://mldsl-test/movie/movie_review_job_1593105239",
         "--train_path",
         "s3://mldsl-test/aclImdb/train",
         "--test_path",
         "s3://mldsl-test/aclImdb/test",
         "--word_embeds",
         "s3://mldsl-test/movie/glove.6B.50d.txt"
        ],
        "file_uris": [],
        "jar_file_uris": [],
        "logging_config": {
         "driver_log_levels": {}
        },
        "main_python_file_uri": "s3://mldsl-test/emr/j-IUSED1D1H8F6/movie_review_job_1593105239/text_tokenizer.py",
        "properties": {},
        "python_file_uris": [
         "s3://mldsl-test/emr/j-IUSED1D1H8F6/movie_review_job_1593105239/<com.griddynamics.dsl.ml.py_script.PyScript object at 0x7fb4413f4c88>"
        ]
       },
       "reference": {
        "job_id": "movie_review_job_1593105239"
       },
       "status": {
        "state": "COMPLETED",
        "state_start_time": "2020-06-25T20:14:09.146000"
       }
      },
      "text/plain": [
       "<IPython.core.display.JSON object>"
      ]
     },
     "metadata": {
      "application/json": {
       "expanded": false,
       "root": "root"
      }
     },
     "output_type": "display_data"
    }
   ],
   "source": [
    "%py_data -n text_tokenizer.py -p JobProfile -pm $platform -o s3://mldsl-test/movie"
   ]
  },
  {
   "cell_type": "code",
   "execution_count": null,
   "metadata": {},
   "outputs": [],
   "source": [
    "#Use job_movie_review_job_1593105239 instance to browse job properties.\n",
    "#job_movie_review_job_1593105239 = job_tracker['movie_review_job_1593105239']"
   ]
  },
  {
   "cell_type": "markdown",
   "metadata": {},
   "source": [
    "# ML Model to Predict Positive or Negative Review"
   ]
  },
  {
   "cell_type": "code",
   "execution_count": 20,
   "metadata": {},
   "outputs": [],
   "source": [
    "#Set some env variables to run script locally\n",
    "os.environ['SM_MODEL_DIR'] = 'notebooks/demo/model/'\n",
    "os.environ['SM_CHANNEL_TRAINING'] = 'notebooks/demo/data/'"
   ]
  },
  {
   "cell_type": "markdown",
   "metadata": {},
   "source": [
    "#### LSTM Train Script"
   ]
  },
  {
   "cell_type": "code",
   "execution_count": 25,
   "metadata": {},
   "outputs": [
    {
     "name": "stdout",
     "output_type": "stream",
     "text": [
      "Max sequence is set to 150\n",
      "Positive examples are 111.0\n",
      "Negative examples are 111.0\n"
     ]
    },
    {
     "name": "stderr",
     "output_type": "stream",
     "text": [
      "/Users/apolatovskaya/anaconda/lib/python3.6/site-packages/ipykernel_launcher.py:66: UserWarning: Implicit dimension choice for softmax has been deprecated. Change the call to include dim=X as an argument.\n"
     ]
    },
    {
     "name": "stdout",
     "output_type": "stream",
     "text": [
      "Epoch 1/3..  Train loss: 0.693..  Accuracy: 0.536..  Time: 0.46\n",
      "Epoch 2/3..  Train loss: 0.711..  Accuracy: 0.500..  Time: 0.92\n",
      "Epoch 3/3..  Train loss: 0.704..  Accuracy: 0.532..  Time: 0.91\n",
      "[Errno 2] No such file or directory: 'notebooks/demo/model/word_to_index.json'\n",
      "Temporary path: /Users/apolatovskaya/git/ml-dsl/.mldsl/pytorch_model.py\n"
     ]
    },
    {
     "data": {
      "text/plain": [
       "<com.griddynamics.dsl.ml.py_script.PyScript at 0x7fb439a734e0>"
      ]
     },
     "execution_count": 25,
     "metadata": {},
     "output_type": "execute_result"
    }
   ],
   "source": [
    "%%py_script -e --name pytorch_model.py --path notebooks/demo/scripts --epochs 3\n",
    "# %py_load scripts/pytorch_model.py\n",
    "#!/usr/bin/python\n",
    "import torch\n",
    "import torch.nn as nn\n",
    "import torch.nn.functional as F\n",
    "import time\n",
    "import numpy as np\n",
    "import itertools\n",
    "import os\n",
    "import argparse\n",
    "import json\n",
    "from shutil import copy2\n",
    "import boto3\n",
    "import io\n",
    "import pandas as pd\n",
    "\n",
    "def pretrained_embedding_layer(word_to_vec_map, word_to_index):\n",
    "    vocab_len = len(word_to_index)\n",
    "    emb_dim = word_to_vec_map.item().get(\"apple\").shape[0]\n",
    "    emb_matrix = np.zeros((vocab_len, emb_dim))\n",
    "    for word, idx in word_to_index.items():\n",
    "        emb_matrix[idx, :] = np.float32(word_to_vec_map.item().get(word))\n",
    "    return emb_matrix\n",
    "\n",
    "def accuracy(a, b):\n",
    "    a = torch.argmax(a, dim=1)\n",
    "    b = torch.argmax(b, dim=1)\n",
    "    return torch.sum(torch.eq(a, b)).float() / list(a.size())[0]\n",
    "\n",
    "def convert_to_one_hot(Y, C=2):\n",
    "    Y = np.eye(C)[Y.reshape(-1)]\n",
    "    return Y\n",
    "\n",
    "def prepare_dataset(data, N, word_to_index):\n",
    "    data['int_seq'] = data['int_seq'].apply(lambda x: [float(i) for i in x.split(',')])\n",
    "    print(\"Max sequence is set to {}\".format(N))\n",
    "    data['int_seq'] = data['int_seq'].apply(lambda x: (x + [word_to_index[\"unk\"]] * N)[:N])\n",
    "    ds_x = np.asarray(list(data[\"int_seq\"]))\n",
    "    ds_y = data[\"class\"].values\n",
    "    ds_y = convert_to_one_hot(ds_y)\n",
    "    return ds_x, ds_y\n",
    "\n",
    "class LSTMModel(nn.Module):\n",
    "    # predict steps is output_dim lstm_size is hidden dim of LSTM cell\n",
    "    def __init__(self, word_to_vec_map, word_to_index, lstm_size=32, input_len=200):\n",
    "        super(LSTMModel, self).__init__()\n",
    "        torch.manual_seed(1)\n",
    "        self.lstm_size = lstm_size\n",
    "        self.input_len = input_len\n",
    "        emb_matrix = pretrained_embedding_layer(word_to_vec_map, word_to_index)\n",
    "        self.vocab_len = len(word_to_index)\n",
    "        self.emb_dim = word_to_vec_map.item().get(\"apple\").shape[0]\n",
    "\n",
    "        self.embedding = nn.Embedding(self.vocab_len, self.emb_dim)\n",
    "        self.embedding.weight = nn.Parameter(torch.from_numpy(emb_matrix))\n",
    "        self.embedding.weight.requires_grad = False\n",
    "\n",
    "        self.lstm = nn.LSTM(self.emb_dim, self.lstm_size, 2, dropout=0.5, batch_first=True)\n",
    "        self.out = nn.Linear(self.lstm_size, 2)\n",
    "\n",
    "    def forward(self, data):\n",
    "        x = self.embedding(data.long())\n",
    "        x, _ = self.lstm(x.view(len(data), -1, self.emb_dim))\n",
    "        x = x[:, -1, :]\n",
    "        x = self.out(x)\n",
    "        x = F.softmax(x)\n",
    "        return x\n",
    "\n",
    "def model_fn(model_dir):\n",
    "    device = torch.device(\"cuda\" if torch.cuda.is_available() else \"cpu\")\n",
    "    bucket = 'mldsl-test'\n",
    "    s3 = boto3.resource('s3')\n",
    "    \n",
    "    content_object = s3.Object(bucket, 'movie/word_to_index.json')\n",
    "    file_content = content_object.get()['Body'].read().decode('utf-8')\n",
    "    word_to_index = json.loads(file_content)\n",
    "    \n",
    "    obj = s3.Object(bucket, 'movie/word_to_vec_map.npy')\n",
    "    with io.BytesIO(obj.get()[\"Body\"].read()) as f:\n",
    "        word_to_vec_map = np.load(f, allow_pickle=True)\n",
    "    \n",
    "    model = LSTMModel(word_to_vec_map, word_to_index)\n",
    "    with open(os.path.join(model_dir, 'movie.pth'), 'rb') as f:\n",
    "        model.load_state_dict(torch.load(f))\n",
    "    model = model.float()\n",
    "    return model.to(device)\n",
    "\n",
    "\n",
    "if __name__ =='__main__':\n",
    "    parser = argparse.ArgumentParser()\n",
    "    # hyperparameters sent by the client are passed as command-line arguments to the script.\n",
    "    parser.add_argument('--epochs', type=int, default=20)\n",
    "    parser.add_argument('--batch_size', type=int, default=1024)\n",
    "    parser.add_argument('--learning_rate', type=float, default=0.03)\n",
    "    # Data, model, and output directories\n",
    "    parser.add_argument('--model_dir', type=str, default=os.environ['SM_MODEL_DIR'])\n",
    "    parser.add_argument('--train', type=str, default=os.environ['SM_CHANNEL_TRAINING'])\n",
    "    args, _ = parser.parse_known_args()\n",
    "\n",
    "    np.random.seed(1)\n",
    "    device = torch.device(\"cuda\" if torch.cuda.is_available() else \"cpu\")\n",
    "\n",
    "    with open(os.path.join(args.train, \"word_to_index.json\"), 'r') as f:\n",
    "        word_to_index = json.load(f)\n",
    "    word_to_vec_map = np.load(os.path.join(args.train, \"word_to_vec_map.npy\"), allow_pickle=True)\n",
    "\n",
    "    model = LSTMModel(word_to_vec_map, word_to_index, lstm_size=32, input_len=150)\n",
    "    model = model.float()\n",
    "    parameters = itertools.filterfalse(lambda p: not p.requires_grad, model.parameters())\n",
    "    # Optimizer\n",
    "    criterion = torch.nn.BCELoss()\n",
    "    optimizer = torch.optim.Adam(parameters, lr=args.learning_rate)\n",
    "    model.to(device)\n",
    "    \n",
    "    train_path = os.path.join(args.train, 'train/')\n",
    "    for file in os.listdir(train_path):\n",
    "        if file.endswith(\".csv\"):\n",
    "            df = pd.read_csv(os.path.join(train_path, file))\n",
    "\n",
    "    x_train, y_train = prepare_dataset(df, 150, word_to_index)\n",
    "    \n",
    "    tensor_x = torch.tensor(x_train).float()\n",
    "    tensor_y = torch.tensor(y_train).float()\n",
    "    \n",
    "    print(\"Positive examples are {}\".format(sum(tensor_y[:, 0])))\n",
    "    print(\"Negative examples are {}\".format(sum(tensor_y[:, 1])))\n",
    "    del x_train\n",
    "    del y_train\n",
    "\n",
    "    traindataset = torch.utils.data.TensorDataset(tensor_x, tensor_y)\n",
    "    trainloader = torch.utils.data.DataLoader(traindataset, shuffle=True, batch_size=args.batch_size)\n",
    "\n",
    "    epochs = args.epochs\n",
    "    running_loss = 0\n",
    "    train_losses = []\n",
    "\n",
    "    for epoch in range(epochs):\n",
    "        start = time.time()\n",
    "        for inputs, label in trainloader:\n",
    "            inputs, label = inputs.to(device), label.to(device)\n",
    "            optimizer.zero_grad()\n",
    "            logps = model.forward(inputs)\n",
    "            loss = criterion(logps, label)\n",
    "            running_loss += loss.item()\n",
    "            loss.backward()\n",
    "            optimizer.step()\n",
    "            train_losses.append(running_loss / len(trainloader))\n",
    "            model.train()\n",
    "        print(f\"\"\"Epoch {epoch+1}/{epochs}..  Train loss: {np.mean(train_losses):.3f}..  Accuracy: {accuracy(label, logps):.3f}..  Time: {(time.time() - start):.2f}\"\"\")\n",
    "        running_loss = 0\n",
    "    copy2(os.path.join(args.train, \"word_to_index.json\"), os.path.join(args.model_dir, \"word_to_index.json\"))\n",
    "    copy2(os.path.join(args.train, \"word_to_vec_map.npy\"), os.path.join(args.model_dir, \"word_to_vec_map.npy\"))\n",
    "    \n",
    "    with open(os.path.join(args.model_dir, 'movie.pth'), 'wb') as f:\n",
    "        torch.save(model.state_dict(), f)\n"
   ]
  },
  {
   "cell_type": "code",
   "execution_count": 26,
   "metadata": {},
   "outputs": [],
   "source": [
    "from sagemaker.pytorch import PyTorch\n",
    "\n",
    "platform = Platform.AWS\n",
    "profile = SageMakerProfile(bucket='mldsl-test', cluster='ai4ops', region='us-east-1', job_prefix='mldsl_test',\n",
    "                           container=PyTorch, root_path='notebooks/demo/scripts/', \n",
    "                           framework_version='1.4.0', instance_type='ml.m4.xlarge',\n",
    "                          use_cloud_engine_credentials='SageMakerRoleMlDsl')\n",
    "\n",
    "SageMakerProfile.set('SageMakerProfile', profile)"
   ]
  },
  {
   "cell_type": "code",
   "execution_count": 27,
   "metadata": {},
   "outputs": [
    {
     "name": "stdout",
     "output_type": "stream",
     "text": [
      "2020-06-25 18:22:39 Starting - Starting the training job...\n",
      "2020-06-25 18:22:42 Starting - Launching requested ML instances.........\n",
      "2020-06-25 18:24:28 Starting - Preparing the instances for training......\n",
      "2020-06-25 18:25:32 Downloading - Downloading input data...\n",
      "2020-06-25 18:26:02 Training - Downloading the training image..\u001b[34mbash: cannot set terminal process group (-1): Inappropriate ioctl for device\u001b[0m\n",
      "\u001b[34mbash: no job control in this shell\u001b[0m\n",
      "\u001b[34m2020-06-25 18:26:32,917 sagemaker-containers INFO     Imported framework sagemaker_pytorch_container.training\u001b[0m\n",
      "\u001b[34m2020-06-25 18:26:32,922 sagemaker-containers INFO     No GPUs detected (normal if no gpus installed)\u001b[0m\n",
      "\u001b[34m2020-06-25 18:26:32,933 sagemaker_pytorch_container.training INFO     Block until all host DNS lookups succeed.\u001b[0m\n",
      "\u001b[34m2020-06-25 18:26:35,962 sagemaker_pytorch_container.training INFO     Invoking user training script.\u001b[0m\n",
      "\u001b[34m2020-06-25 18:26:36,365 sagemaker-containers INFO     Module default_user_module_name does not provide a setup.py. \u001b[0m\n",
      "\u001b[34mGenerating setup.py\u001b[0m\n",
      "\u001b[34m2020-06-25 18:26:36,365 sagemaker-containers INFO     Generating setup.cfg\u001b[0m\n",
      "\u001b[34m2020-06-25 18:26:36,365 sagemaker-containers INFO     Generating MANIFEST.in\u001b[0m\n",
      "\u001b[34m2020-06-25 18:26:36,365 sagemaker-containers INFO     Installing module with the following command:\u001b[0m\n",
      "\u001b[34m/opt/conda/bin/python -m pip install . \u001b[0m\n",
      "\u001b[34mProcessing /tmp/tmp9ykzbgpb/module_dir\u001b[0m\n",
      "\u001b[34mBuilding wheels for collected packages: default-user-module-name\n",
      "  Building wheel for default-user-module-name (setup.py): started\u001b[0m\n",
      "\u001b[34m  Building wheel for default-user-module-name (setup.py): finished with status 'done'\n",
      "  Created wheel for default-user-module-name: filename=default_user_module_name-1.0.0-py2.py3-none-any.whl size=7485 sha256=60b79fccc0d9ce0147b6c24a241e2cc5fec19b7752c8f1a9050c000f9bfab006\n",
      "  Stored in directory: /tmp/pip-ephem-wheel-cache-ajoobfea/wheels/b6/1a/96/3814b7e3f2bd5e8356b792e701ee0817aae6bb021141e71930\u001b[0m\n",
      "\u001b[34mSuccessfully built default-user-module-name\u001b[0m\n",
      "\u001b[34mInstalling collected packages: default-user-module-name\u001b[0m\n",
      "\u001b[34mSuccessfully installed default-user-module-name-1.0.0\u001b[0m\n",
      "\u001b[34m2020-06-25 18:26:38,791 sagemaker-containers INFO     No GPUs detected (normal if no gpus installed)\u001b[0m\n",
      "\u001b[34m2020-06-25 18:26:38,805 sagemaker-containers INFO     No GPUs detected (normal if no gpus installed)\u001b[0m\n",
      "\u001b[34m2020-06-25 18:26:38,819 sagemaker-containers INFO     No GPUs detected (normal if no gpus installed)\u001b[0m\n",
      "\u001b[34m2020-06-25 18:26:38,830 sagemaker-containers INFO     Invoking user script\n",
      "\u001b[0m\n",
      "\u001b[34mTraining Env:\n",
      "\u001b[0m\n",
      "\u001b[34m{\n",
      "    \"additional_framework_parameters\": {},\n",
      "    \"channel_input_dirs\": {\n",
      "        \"training\": \"/opt/ml/input/data/training\"\n",
      "    },\n",
      "    \"current_host\": \"algo-1\",\n",
      "    \"framework_module\": \"sagemaker_pytorch_container.training:main\",\n",
      "    \"hosts\": [\n",
      "        \"algo-1\"\n",
      "    ],\n",
      "    \"hyperparameters\": {},\n",
      "    \"input_config_dir\": \"/opt/ml/input/config\",\n",
      "    \"input_data_config\": {\n",
      "        \"training\": {\n",
      "            \"TrainingInputMode\": \"File\",\n",
      "            \"S3DistributionType\": \"FullyReplicated\",\n",
      "            \"RecordWrapperType\": \"None\"\n",
      "        }\n",
      "    },\n",
      "    \"input_dir\": \"/opt/ml/input\",\n",
      "    \"is_master\": true,\n",
      "    \"job_name\": \"pytorch-training-2020-06-25-18-22-35-890\",\n",
      "    \"log_level\": 20,\n",
      "    \"master_hostname\": \"algo-1\",\n",
      "    \"model_dir\": \"/opt/ml/model\",\n",
      "    \"module_dir\": \"s3://sagemaker-us-east-1-592068120969/pytorch-training-2020-06-25-18-22-35-890/source/sourcedir.tar.gz\",\n",
      "    \"module_name\": \"pytorch_model\",\n",
      "    \"network_interface_name\": \"eth0\",\n",
      "    \"num_cpus\": 4,\n",
      "    \"num_gpus\": 0,\n",
      "    \"output_data_dir\": \"/opt/ml/output/data\",\n",
      "    \"output_dir\": \"/opt/ml/output\",\n",
      "    \"output_intermediate_dir\": \"/opt/ml/output/intermediate\",\n",
      "    \"resource_config\": {\n",
      "        \"current_host\": \"algo-1\",\n",
      "        \"hosts\": [\n",
      "            \"algo-1\"\n",
      "        ],\n",
      "        \"network_interface_name\": \"eth0\"\n",
      "    },\n",
      "    \"user_entry_point\": \"pytorch_model.py\"\u001b[0m\n",
      "\u001b[34m}\n",
      "\u001b[0m\n",
      "\u001b[34mEnvironment variables:\n",
      "\u001b[0m\n",
      "\u001b[34mSM_HOSTS=[\"algo-1\"]\u001b[0m\n",
      "\u001b[34mSM_NETWORK_INTERFACE_NAME=eth0\u001b[0m\n",
      "\u001b[34mSM_HPS={}\u001b[0m\n",
      "\u001b[34mSM_USER_ENTRY_POINT=pytorch_model.py\u001b[0m\n",
      "\u001b[34mSM_FRAMEWORK_PARAMS={}\u001b[0m\n",
      "\u001b[34mSM_RESOURCE_CONFIG={\"current_host\":\"algo-1\",\"hosts\":[\"algo-1\"],\"network_interface_name\":\"eth0\"}\u001b[0m\n",
      "\u001b[34mSM_INPUT_DATA_CONFIG={\"training\":{\"RecordWrapperType\":\"None\",\"S3DistributionType\":\"FullyReplicated\",\"TrainingInputMode\":\"File\"}}\u001b[0m\n",
      "\u001b[34mSM_OUTPUT_DATA_DIR=/opt/ml/output/data\u001b[0m\n",
      "\u001b[34mSM_CHANNELS=[\"training\"]\u001b[0m\n",
      "\u001b[34mSM_CURRENT_HOST=algo-1\u001b[0m\n",
      "\u001b[34mSM_MODULE_NAME=pytorch_model\u001b[0m\n",
      "\u001b[34mSM_LOG_LEVEL=20\u001b[0m\n",
      "\u001b[34mSM_FRAMEWORK_MODULE=sagemaker_pytorch_container.training:main\u001b[0m\n",
      "\u001b[34mSM_INPUT_DIR=/opt/ml/input\u001b[0m\n",
      "\u001b[34mSM_INPUT_CONFIG_DIR=/opt/ml/input/config\u001b[0m\n",
      "\u001b[34mSM_OUTPUT_DIR=/opt/ml/output\u001b[0m\n",
      "\u001b[34mSM_NUM_CPUS=4\u001b[0m\n",
      "\u001b[34mSM_NUM_GPUS=0\u001b[0m\n",
      "\u001b[34mSM_MODEL_DIR=/opt/ml/model\u001b[0m\n",
      "\u001b[34mSM_MODULE_DIR=s3://sagemaker-us-east-1-592068120969/pytorch-training-2020-06-25-18-22-35-890/source/sourcedir.tar.gz\u001b[0m\n",
      "\u001b[34mSM_TRAINING_ENV={\"additional_framework_parameters\":{},\"channel_input_dirs\":{\"training\":\"/opt/ml/input/data/training\"},\"current_host\":\"algo-1\",\"framework_module\":\"sagemaker_pytorch_container.training:main\",\"hosts\":[\"algo-1\"],\"hyperparameters\":{},\"input_config_dir\":\"/opt/ml/input/config\",\"input_data_config\":{\"training\":{\"RecordWrapperType\":\"None\",\"S3DistributionType\":\"FullyReplicated\",\"TrainingInputMode\":\"File\"}},\"input_dir\":\"/opt/ml/input\",\"is_master\":true,\"job_name\":\"pytorch-training-2020-06-25-18-22-35-890\",\"log_level\":20,\"master_hostname\":\"algo-1\",\"model_dir\":\"/opt/ml/model\",\"module_dir\":\"s3://sagemaker-us-east-1-592068120969/pytorch-training-2020-06-25-18-22-35-890/source/sourcedir.tar.gz\",\"module_name\":\"pytorch_model\",\"network_interface_name\":\"eth0\",\"num_cpus\":4,\"num_gpus\":0,\"output_data_dir\":\"/opt/ml/output/data\",\"output_dir\":\"/opt/ml/output\",\"output_intermediate_dir\":\"/opt/ml/output/intermediate\",\"resource_config\":{\"current_host\":\"algo-1\",\"hosts\":[\"algo-1\"],\"network_interface_name\":\"eth0\"},\"user_entry_point\":\"pytorch_model.py\"}\u001b[0m\n",
      "\u001b[34mSM_USER_ARGS=[]\u001b[0m\n",
      "\u001b[34mSM_OUTPUT_INTERMEDIATE_DIR=/opt/ml/output/intermediate\u001b[0m\n",
      "\u001b[34mSM_CHANNEL_TRAINING=/opt/ml/input/data/training\u001b[0m\n",
      "\u001b[34mPYTHONPATH=/opt/ml/code:/opt/conda/bin:/opt/conda/lib/python36.zip:/opt/conda/lib/python3.6:/opt/conda/lib/python3.6/lib-dynload:/opt/conda/lib/python3.6/site-packages\n",
      "\u001b[0m\n",
      "\u001b[34mInvoking script with the following command:\n",
      "\u001b[0m\n",
      "\u001b[34m/opt/conda/bin/python pytorch_model.py\n",
      "\n",
      "\u001b[0m\n",
      "\n",
      "2020-06-25 18:26:31 Training - Training image download completed. Training in progress.\u001b[34mMax sequence is set to 150\u001b[0m\n",
      "\u001b[34mPositive examples are 12500.0\u001b[0m\n",
      "\u001b[34mNegative examples are 12500.0\u001b[0m\n",
      "\u001b[34mEpoch 1/20..  Train loss: 0.363..  Accuracy: 0.495..  Time: 66.69\u001b[0m\n",
      "\u001b[34mEpoch 2/20..  Train loss: 0.362..  Accuracy: 0.474..  Time: 64.53\u001b[0m\n",
      "\u001b[34mEpoch 3/20..  Train loss: 0.361..  Accuracy: 0.542..  Time: 71.23\u001b[0m\n",
      "\u001b[34mEpoch 4/20..  Train loss: 0.360..  Accuracy: 0.507..  Time: 41.61\u001b[0m\n",
      "\u001b[34mEpoch 5/20..  Train loss: 0.360..  Accuracy: 0.469..  Time: 25.04\u001b[0m\n",
      "\u001b[34mEpoch 6/20..  Train loss: 0.360..  Accuracy: 0.517..  Time: 24.79\u001b[0m\n",
      "\u001b[34mEpoch 7/20..  Train loss: 0.360..  Accuracy: 0.531..  Time: 24.82\u001b[0m\n",
      "\u001b[34mEpoch 8/20..  Train loss: 0.360..  Accuracy: 0.526..  Time: 24.87\u001b[0m\n",
      "\u001b[34mEpoch 9/20..  Train loss: 0.359..  Accuracy: 0.597..  Time: 25.14\u001b[0m\n",
      "\u001b[34mEpoch 10/20..  Train loss: 0.356..  Accuracy: 0.693..  Time: 24.84\u001b[0m\n",
      "\u001b[34mEpoch 11/20..  Train loss: 0.351..  Accuracy: 0.729..  Time: 25.03\u001b[0m\n",
      "\u001b[34mEpoch 12/20..  Train loss: 0.346..  Accuracy: 0.755..  Time: 24.85\u001b[0m\n",
      "\u001b[34mEpoch 13/20..  Train loss: 0.339..  Accuracy: 0.771..  Time: 25.15\u001b[0m\n",
      "\u001b[34mEpoch 14/20..  Train loss: 0.333..  Accuracy: 0.797..  Time: 24.88\u001b[0m\n",
      "\u001b[34mEpoch 15/20..  Train loss: 0.327..  Accuracy: 0.785..  Time: 24.93\u001b[0m\n",
      "\u001b[34mEpoch 16/20..  Train loss: 0.321..  Accuracy: 0.797..  Time: 24.75\u001b[0m\n",
      "\u001b[34mEpoch 17/20..  Train loss: 0.315..  Accuracy: 0.814..  Time: 24.74\u001b[0m\n",
      "\u001b[34mEpoch 18/20..  Train loss: 0.309..  Accuracy: 0.788..  Time: 24.83\u001b[0m\n",
      "\u001b[34mEpoch 19/20..  Train loss: 0.303..  Accuracy: 0.835..  Time: 24.74\u001b[0m\n",
      "\u001b[34mEpoch 20/20..  Train loss: 0.297..  Accuracy: 0.849..  Time: 24.58\u001b[0m\n",
      "\u001b[34m2020-06-25 18:37:30,398 sagemaker-containers INFO     Reporting training SUCCESS\u001b[0m\n",
      "\n",
      "2020-06-25 18:37:34 Uploading - Uploading generated training model\n",
      "2020-06-25 18:38:26 Completed - Training job completed\n",
      "Training seconds: 774\n",
      "Billable seconds: 774\n"
     ]
    },
    {
     "data": {
      "text/html": [
       "<a href=\"s3://sagemaker-us-east-1-592068120969/pytorch-training-2020-06-25-18-22-35-890/output/model.tar.gz\">s3://sagemaker-us-east-1-592068120969/pytorch-training-2020-06-25-18-22-35-890/output/model.tar.gz</a>"
      ],
      "text/plain": [
       "<IPython.core.display.HTML object>"
      ]
     },
     "metadata": {},
     "output_type": "display_data"
    },
    {
     "data": {
      "application/json": {
       "entry_point": "notebooks/demo/scripts/pytorch_model.py",
       "instance_count": 1,
       "instance_type": "ml.m4.xlarge",
       "model_data": "s3://sagemaker-us-east-1-592068120969/pytorch-training-2020-06-25-18-22-35-890/output/model.tar.gz",
       "output_path": "s3://sagemaker-us-east-1-592068120969/"
      },
      "text/plain": [
       "<IPython.core.display.JSON object>"
      ]
     },
     "metadata": {
      "application/json": {
       "expanded": false,
       "root": "root"
      }
     },
     "output_type": "display_data"
    }
   ],
   "source": [
    "%py_train -n pytorch_model.py -p SageMakerProfile -pm $platform -o s3://mldsl-test/movie/ --training s3://mldsl-test/movie/movie_review_job_1591218321"
   ]
  },
  {
   "cell_type": "code",
   "execution_count": 30,
   "metadata": {},
   "outputs": [],
   "source": [
    "#Use job_mldsl_test_1593109354 instance to browse job properties.\n",
    "#\n",
    "job_mldsl_test_1593109354 = job_tracker['mldsl_test_1593109354']"
   ]
  },
  {
   "cell_type": "markdown",
   "metadata": {},
   "source": [
    "### Deployment of model"
   ]
  },
  {
   "cell_type": "code",
   "execution_count": 31,
   "metadata": {},
   "outputs": [
    {
     "name": "stdout",
     "output_type": "stream",
     "text": [
      "---------------!"
     ]
    }
   ],
   "source": [
    "predictor = job_mldsl_test_1593109354.deploy(initial_instance_count=1, instance_type='ml.m4.xlarge',\n",
    "                                             endpoint_name='mldsl-pytorch')"
   ]
  },
  {
   "cell_type": "code",
   "execution_count": 34,
   "metadata": {},
   "outputs": [
    {
     "name": "stdout",
     "output_type": "stream",
     "text": [
      "Max sequence is set to 150\n"
     ]
    }
   ],
   "source": [
    "def convert_to_one_hot(Y, C=2):\n",
    "    Y = np.eye(C)[Y.reshape(-1)]\n",
    "    return Y\n",
    "\n",
    "def prepare_dataset(data, N, word_to_index):\n",
    "    data['int_seq'] = data['int_seq'].apply(lambda x: [float(i) for i in x.split(',')])\n",
    "    print(\"Max sequence is set to {}\".format(N))\n",
    "    data['int_seq'] = data['int_seq'].apply(lambda x: (x + [word_to_index[\"unk\"]] * N)[:N])\n",
    "    ints = np.random.choice(len(data), 500)\n",
    "    ds_x = np.asarray(list(data.loc[ints, \"int_seq\"]))\n",
    "    ds_y = data.loc[ints, \"class\"].values\n",
    "    ds_y = convert_to_one_hot(ds_y)\n",
    "    return ds_x, ds_y\n",
    "\n",
    "data_key = \"movie/movie_review_job_1591218321/test\"\n",
    "bucket='mldsl-test'\n",
    "s3 = boto3.resource('s3')\n",
    "my_bucket = s3.Bucket(bucket)\n",
    "for obj in my_bucket.objects.filter(Prefix=data_key):\n",
    "    if obj.key.endswith(\"csv\"):\n",
    "        data_location = 's3://{}/{}'.format(obj.bucket_name, obj.key)\n",
    "        df = pd.read_csv(data_location)\n",
    "x_test, y_test = prepare_dataset(df, 150, word_to_index)\n",
    "y = y_test.argmax(axis=1)\n",
    "target_names = ['negative review', 'positive review']"
   ]
  },
  {
   "cell_type": "code",
   "execution_count": 35,
   "metadata": {},
   "outputs": [],
   "source": [
    "preds = predictor.predict(x_test)\n",
    "prediction = preds.argmax(axis=1)"
   ]
  },
  {
   "cell_type": "code",
   "execution_count": 36,
   "metadata": {},
   "outputs": [
    {
     "data": {
      "image/png": "[encoded data removed]",
      "text/plain": [
       "<Figure size 576x432 with 2 Axes>"
      ]
     },
     "metadata": {
      "needs_background": "light"
     },
     "output_type": "display_data"
    }
   ],
   "source": [
    "%matplotlib inline\n",
    "from sklearn.metrics import classification_report, confusion_matrix\n",
    "import matplotlib.pyplot as plt\n",
    "import seaborn as sns\n",
    "conf_mat = confusion_matrix(y, prediction)\n",
    "fig, ax = plt.subplots(figsize=(8,6))\n",
    "classes=['Negative', 'Positive']\n",
    "sns.heatmap(conf_mat, annot=True, fmt='d',xticklabels=classes, yticklabels=classes, cmap=plt.cm.BuGn)\n",
    "plt.ylabel('Actual')\n",
    "plt.xlabel('Predicted')\n",
    "plt.show()"
   ]
  },
  {
   "cell_type": "markdown",
   "metadata": {},
   "source": [
    "### Deployment of model trained outside"
   ]
  },
  {
   "cell_type": "code",
   "execution_count": 37,
   "metadata": {},
   "outputs": [],
   "source": [
    "from sagemaker.pytorch import PyTorchModel\n",
    "profile.model_data = 's3://sagemaker-us-east-1-592068120969/pytorch-training-2020-06-04-10-19-13-527/model.tar.gz'\n",
    "profile.container = PyTorchModel\n",
    "SageMakerProfile.set('TestDeploySMProfile', profile)"
   ]
  },
  {
   "cell_type": "code",
   "execution_count": 38,
   "metadata": {},
   "outputs": [
    {
     "name": "stdout",
     "output_type": "stream",
     "text": [
      "---------------!"
     ]
    },
    {
     "data": {
      "application/json": {
       "endpoint_name": "pytorch-inference-2020-06-26-06-40-28-484",
       "entry_point": "notebooks/demo/scripts/pytorch_model.py",
       "model_data": "s3://sagemaker-us-east-1-592068120969/pytorch-training-2020-06-04-10-19-13-527/model.tar.gz",
       "name": "pytorch-inference-2020-06-26-06-40-28-484"
      },
      "text/plain": [
       "<IPython.core.display.JSON object>"
      ]
     },
     "metadata": {
      "application/json": {
       "expanded": false,
       "root": "root"
      }
     },
     "output_type": "display_data"
    }
   ],
   "source": [
    "%py_deploy -n pytorch_model.py -p TestDeploySMProfile -pm $platform"
   ]
  },
  {
   "cell_type": "code",
   "execution_count": 39,
   "metadata": {},
   "outputs": [],
   "source": [
    "#Use job_mldsl_test_1593153514 instance to browse job properties.\n",
    "predictor=job_tracker['mldsl_test_1593153514']"
   ]
  },
  {
   "cell_type": "markdown",
   "metadata": {},
   "source": [
    "## PREDICTION"
   ]
  },
  {
   "cell_type": "code",
   "execution_count": 40,
   "metadata": {},
   "outputs": [],
   "source": [
    "preds = predictor.predict(x_test)\n",
    "prediction = preds.argmax(axis=1)\n",
    "target_names = ['negative review', 'positive review']"
   ]
  },
  {
   "cell_type": "code",
   "execution_count": 41,
   "metadata": {},
   "outputs": [
    {
     "data": {
      "image/png": "[encoded data removed]",
      "text/plain": [
       "<Figure size 576x432 with 2 Axes>"
      ]
     },
     "metadata": {
      "needs_background": "light"
     },
     "output_type": "display_data"
    }
   ],
   "source": [
    "%matplotlib inline\n",
    "from sklearn.metrics import classification_report, confusion_matrix\n",
    "import matplotlib.pyplot as plt\n",
    "import seaborn as sns\n",
    "conf_mat = confusion_matrix(y, prediction)\n",
    "fig, ax = plt.subplots(figsize=(8,6))\n",
    "classes=['Negative', 'Positive']\n",
    "sns.heatmap(conf_mat, annot=True, fmt='d',xticklabels=classes, yticklabels=classes, cmap=plt.cm.BuGn)\n",
    "plt.ylabel('Actual')\n",
    "plt.xlabel('Predicted')\n",
    "plt.show()"
   ]
  },
  {
   "cell_type": "code",
   "execution_count": 42,
   "metadata": {},
   "outputs": [
    {
     "name": "stdout",
     "output_type": "stream",
     "text": [
      "                 precision    recall  f1-score   support\n",
      "\n",
      "negative review       0.95      0.63      0.76       253\n",
      "positive review       0.72      0.96      0.82       247\n",
      "\n",
      "       accuracy                           0.80       500\n",
      "      macro avg       0.83      0.80      0.79       500\n",
      "   weighted avg       0.83      0.80      0.79       500\n",
      "\n"
     ]
    }
   ],
   "source": [
    "print(classification_report(y, prediction,target_names=target_names))"
   ]
  },
  {
   "cell_type": "code",
   "execution_count": null,
   "metadata": {},
   "outputs": [],
   "source": []
  }
 ],
 "metadata": {
  "kernelspec": {
   "display_name": "Python 3",
   "language": "python",
   "name": "python3"
  },
  "language_info": {
   "codemirror_mode": {
    "name": "ipython",
    "version": 3
   },
   "file_extension": ".py",
   "mimetype": "text/x-python",
   "name": "python",
   "nbconvert_exporter": "python",
   "pygments_lexer": "ipython3",
   "version": "3.6.10"
  }
 },
 "nbformat": 4,
 "nbformat_minor": 4
}
