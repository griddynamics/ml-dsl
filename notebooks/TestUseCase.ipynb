{
 "cells": [
  {
   "cell_type": "markdown",
   "metadata": {},
   "source": [
    "<h1><center>ML DSL in Action</center></h1>\n",
    "\n",
    "Google Cloud Platform: \n",
    "1. Google Dataproc\n",
    "2. Google Cloud Storage\n",
    "3. Google AI Platform"
   ]
  },
  {
   "cell_type": "code",
   "execution_count": 1,
   "metadata": {},
   "outputs": [],
   "source": [
    "import com.griddynamics.dsl.ml.mldsl as mldsl\n",
    "from com.griddynamics.dsl.ml.settings.profiles import PySparkJobProfile, Profile\n",
    "from com.griddynamics.dsl.ml.settings.description import Platform\n",
    "\n",
    "import importlib\n",
    "import os\n",
    "from datetime import datetime\n",
    "from sklearn.metrics import classification_report, confusion_matrix\n",
    "import matplotlib\n",
    "import seaborn as sns\n",
    "import matplotlib.pyplot as plt\n",
    "%matplotlib inline"
   ]
  },
  {
   "cell_type": "markdown",
   "metadata": {},
   "source": [
    "## Prepare Sequences from Original Text"
   ]
  },
  {
   "cell_type": "markdown",
   "metadata": {},
   "source": [
    "### Text Sample"
   ]
  },
  {
   "cell_type": "code",
   "execution_count": 2,
   "metadata": {},
   "outputs": [
    {
     "name": "stdout",
     "output_type": "stream",
     "text": [
      "I went and saw this movie last night after being coaxed to by a few friends of mine. I'll admit that I was reluctant to see it because from what I knew of Ashton Kutcher he was only able to do comedy. I was wrong. Kutcher played the character of Jake Fischer very well, and Kevin Costner played Ben Randall with such professionalism. The sign of a good movie is that it can toy with our emotions. This one did exactly that. The entire theater (which was sold out) was overcome by laughter during the first half of the movie, and were moved to tears during the second half. While exiting the theater I not only saw many women in tears, but many full grown men as well, trying desperately not to let anyone see them crying. This movie was great, and I suggest that you go see it before you judge."
     ]
    }
   ],
   "source": [
    "!head -n 20 dev/aclImdb/test/pos/0_10.txt"
   ]
  },
  {
   "cell_type": "markdown",
   "metadata": {},
   "source": [
    "### Tokenizer to Create Sequences "
   ]
  },
  {
   "cell_type": "code",
   "execution_count": 17,
   "metadata": {},
   "outputs": [
    {
     "name": "stdout",
     "output_type": "stream",
     "text": [
      "Words to: \"dev/20-02-17-08-35-02/words\"\n",
      "Train split to: \"dev/20-02-17-08-35-02/train\"\n",
      "Test split to: \"dev/20-02-17-08-35-02/test\"\n",
      "Local SparkContext has been stopped automatically\n"
     ]
    },
    {
     "data": {
      "text/plain": [
       "<com.griddynamics.dsl.ml.py_script.PyScript at 0x7ff350c053c8>"
      ]
     },
     "execution_count": 17,
     "metadata": {},
     "output_type": "execute_result"
    }
   ],
   "source": [
    "%%py_script -e -n mr_text_tokenizer.py -p demo/scripts -o dev --train_pos_path dev/aclImdb/train/pos --train_neg_path dev/aclImdb/train/neg --test_pos_path dev/aclImdb/test/pos --test_neg_path dev/aclImdb/test/neg --max_seq 500\n",
    "#!/usr/bin/python\n",
    "from pyspark import SQLContext, SparkContext\n",
    "from pyspark import StorageLevel\n",
    "from pyspark.sql.window import Window\n",
    "import pyspark.sql.functions as F\n",
    "from pyspark.sql import Row, SparkSession\n",
    "from pyspark.sql.types import StringType, ArrayType\n",
    "from pyspark.ml.feature import Tokenizer, StopWordsRemover\n",
    "import os\n",
    "import argparse\n",
    "\n",
    "def prepare_df(path, const, max_seq):\n",
    "    rdd = sc.textFile(path)\n",
    "    row = Row(\"review\")\n",
    "    df = rdd.map(row).toDF()\n",
    "    # Clean text\n",
    "    df_clean = df.select(F.lower(F.regexp_replace(F.col('review'), \"[^a-z\\\\s]\", \"\")).alias('review'))\n",
    "    # Tokenize text\n",
    "    tokenizer = Tokenizer(inputCol='review', outputCol='words_token')\n",
    "    df_words_token = tokenizer.transform(df_clean).select('words_token')\n",
    "    #Remove stop words\n",
    "    remover = StopWordsRemover(inputCol='words_token', outputCol='words_clean')\n",
    "    df_words_no_stopw = remover.transform(df_words_token).select('words_clean')\n",
    "    #Filter length word > 3\n",
    "    filter_length_udf = F.udf(lambda row: [x for x in row if len(x) >= 3], ArrayType(StringType()))\n",
    "    df_stemmed = df_words_no_stopw.withColumn('words_stemmed', filter_length_udf(F.col('words_clean')))\n",
    "    #Filter length of review < max_seq\n",
    "    filter_length_udf = F.udf(lambda row: row if len(row)<=max_seq else row[:max_seq], ArrayType(StringType()))\n",
    "    df_stemmed = df_words_no_stopw.withColumn('words_stemmed', filter_length_udf(F.col('words_clean')))\n",
    "    return df_stemmed.withColumn(\"class\", F.lit(const))\n",
    "\n",
    "def prepare_int_seq(words_df, exploded_df, path_to_save):\n",
    "    jdf = exploded_df.join(words_df.select(\"words_stemmed\", \"id\"), on=['words_stemmed'], how='left').fillna(0)\n",
    "    qdf=jdf.groupBy('review_id').agg(F.collect_list(\"id\").alias(\"int_seq\"), F.max(\"class\").alias(\"class\"))\n",
    "    qdf = qdf.withColumn('int_seq', F.concat_ws(',', 'int_seq'))\n",
    "    qdf.coalesce(1).write.format('csv').option('header', 'true').save(path_to_save)\n",
    "        \n",
    "if __name__ == '__main__':\n",
    "        parser = argparse.ArgumentParser()\n",
    "        parser.add_argument('--train_pos_path', type=str, help=\"train positive reviews path\")\n",
    "        parser.add_argument('--train_neg_path', type=str, help=\"train negative reviews path\")\n",
    "        parser.add_argument('--test_pos_path', type=str, help=\"test positive reviews path\")\n",
    "        parser.add_argument('--test_neg_path', type=str, help=\"test negative reviews path\")\n",
    "        parser.add_argument('--max_seq', type=int, help=\"Words sequence size\")\n",
    "        parser.add_argument('--output_path', type=str, help=\"Sequences output path\")\n",
    "        reviews_filter = '*.txt'\n",
    "\n",
    "        args, d = parser.parse_known_args()\n",
    "        output_path = args.output_path\n",
    "        SparkContext.setSystemProperty('spark.sql.broadcastTimeout', '36000')\n",
    "        sc = SparkContext(appName=\"word_tokenizer\").getOrCreate()\n",
    "        sql = SQLContext(sc)\n",
    "        \n",
    "        df_pos = prepare_df(f\"{args.train_pos_path}/{reviews_filter}\", 1, args.max_seq)  \n",
    "        df_neg = prepare_df(f\"{args.train_neg_path}/{reviews_filter}\", 0, args.max_seq)  \n",
    "        df = df_pos.union(df_neg)\n",
    "        w = Window.orderBy([\"words_stemmed\"]) \n",
    "        df = df.withColumn(\"review_id\", F.row_number().over(w))\n",
    "        exploded_df = df.select(\"review_id\", \"class\",\n",
    "                                F.explode(F.col('words_stemmed')).alias('words_stemmed'))\n",
    "        words_df=exploded_df.select(\"review_id\", \"words_stemmed\").groupBy('words_stemmed').count()\n",
    " \n",
    "        w = Window.orderBy([\"words_stemmed\"]) \n",
    "        words_df = words_df.withColumn(\"id\", F.row_number().over(w))\n",
    "        words_path = '{}/words'.format(output_path)\n",
    "        (words_df.select(F.col('id'), F.col('words_stemmed'), F.col(\"count\"))\n",
    "         .coalesce(1)\n",
    "         .write\n",
    "         .format('csv')\n",
    "         .option('header', 'true')\n",
    "         .save(words_path))\n",
    "        print('Words to: \"{}\"'.format(words_path))\n",
    "        \n",
    "        exploded_df.persist(StorageLevel.MEMORY_AND_DISK)\n",
    "        words_df.persist(StorageLevel.MEMORY_AND_DISK)\n",
    "        train_path = '{}/train'.format(output_path)\n",
    "        prepare_int_seq(words_df, exploded_df, train_path)\n",
    "        print('Train split to: \"{}\"'.format(train_path))\n",
    "        \n",
    "        df_pos = prepare_df(f\"{args.train_pos_path}/{reviews_filter}\", 1, args.max_seq)  \n",
    "        df_neg = prepare_df(f\"{args.train_neg_path}/{reviews_filter}\", 0, args.max_seq) \n",
    "        df = df_pos.union(df_neg)\n",
    "        df = df.withColumn(\"review_id\", F.row_number().over(w))\n",
    "        exploded_df_test = df.select(\"review_id\", \"class\", F.explode(F.col('words_stemmed')).alias('words_stemmed'))\n",
    "        exploded_df_test.persist(StorageLevel.MEMORY_AND_DISK)\n",
    "        test_path = '{}/test'.format(output_path)\n",
    "        prepare_int_seq(words_df, exploded_df_test, test_path)\n",
    "        print('Test split to: \"{}\"'.format(test_path))\n"
   ]
  },
  {
   "cell_type": "markdown",
   "metadata": {},
   "source": [
    "### Execute Tokenizer on ML Platform"
   ]
  },
  {
   "cell_type": "code",
   "execution_count": 2,
   "metadata": {},
   "outputs": [],
   "source": [
    "platform = Platform.GCP\n",
    "profile = PySparkJobProfile(root_path='/home/jovyan/work/data/demo/scripts',\n",
    "                                  bucket='ai4ops',\n",
    "                                  project='gd-gcp-techlead-experiments',\n",
    "                                  cluster='ai4ops',\n",
    "                                  region='global',\n",
    "                                  ai_region='us-central1',\n",
    "                                  job_prefix='demo_job',\n",
    "                                  job_async=False)\n",
    "Profile.set('CreateSequencesProfile', profile)"
   ]
  },
  {
   "cell_type": "code",
   "execution_count": 24,
   "metadata": {},
   "outputs": [
    {
     "data": {
      "text/html": [
       "<a href=\"https://console.cloud.google.com/dataproc/jobs/demo_job_1581932009?project=gd-gcp-techlead-experiments&region=global\">demo_job_1581932009</a>"
      ],
      "text/plain": [
       "<IPython.core.display.HTML object>"
      ]
     },
     "metadata": {},
     "output_type": "display_data"
    },
    {
     "name": "stdout",
     "output_type": "stream",
     "text": [
      "Job with id demo_job_1581932009 was submitted to the cluster ai4ops\n",
      "Job STATUS was set to PENDING at 2020-02-17 09:33:29\n",
      "Job STATUS was set to SETUP_DONE at 2020-02-17 09:33:29\n",
      "      Yarn APP mr_text_tokenizer.py with STATUS ACCEPTED has PROGRESS 0\n",
      "      Yarn APP mr_text_tokenizer.py with STATUS RUNNING has PROGRESS 10\n",
      "Job STATUS was set to RUNNING at 2020-02-17 09:33:30\n",
      "      Yarn APP mr_text_tokenizer.py with STATUS FINISHED has PROGRESS 100\n",
      "Job STATUS was set to DONE at 2020-02-17 09:46:51\n"
     ]
    },
    {
     "data": {
      "text/html": [
       "<a href=\"https://console.cloud.google.com/storage/browser/ai4ops/mldsl/data/demo_job_1581932009?project=gd-gcp-techlead-experiments\">Output Data demo_job_1581932009</a>"
      ],
      "text/plain": [
       "<IPython.core.display.HTML object>"
      ]
     },
     "metadata": {},
     "output_type": "display_data"
    },
    {
     "data": {
      "application/json": {
       "cluster_name": "ai4ops",
       "driver_control_files_uri": "gs://ai4ops/google-cloud-dataproc-metainfo/2d057403-a13f-40fa-b785-43cf3d7e2bc3/jobs/demo_job_1581932009/",
       "driver_output_resource_uri": "gs://ai4ops/google-cloud-dataproc-metainfo/2d057403-a13f-40fa-b785-43cf3d7e2bc3/jobs/demo_job_1581932009/driveroutput",
       "job_id": "demo_job_1581932009",
       "project_id": "gd-gcp-techlead-experiments",
       "pyspark_job": {
        "args": [
         "--train_pos_path",
         "gs://ai4ops/mldsl/data/aclImdb/train/pos",
         "--train_neg_path",
         "gs://ai4ops/mldsl/data/aclImdb/train/neg",
         "--test_pos_path",
         "gs://ai4ops/mldsl/data/aclImdb/test/pos",
         "--test_neg_path",
         "gs://ai4ops/mldsl/data/aclImdb/test/neg",
         "--max_seq",
         "500",
         "--output_path",
         "gs://ai4ops/mldsl/data/demo_job_1581932009"
        ],
        "main_python_file_uri": "gs://ai4ops/jobs-root/demo_job_1581932009/mr_text_tokenizer.py"
       },
       "start_time": "2020-02-17T09:46:51.000000",
       "status": "DONE",
       "yarn_applications": [
        {
         "name": "word_tokenizer",
         "progress": 1,
         "state": "FINISHED",
         "trackingUrl": "http://ai4ops-m:8088/proxy/application_1570197709805_0109/"
        }
       ]
      },
      "text/plain": [
       "<IPython.core.display.JSON object>"
      ]
     },
     "metadata": {
      "application/json": {
       "expanded": false,
       "root": "root"
      }
     },
     "output_type": "display_data"
    }
   ],
   "source": [
    "%py_data -n mr_text_tokenizer.py -p CreateSequencesProfile -pm $platform -o gs://ai4ops/mldsl/data\\\n",
    "--train_pos_path gs://ai4ops/mldsl/data/aclImdb/train/pos\\\n",
    "--train_neg_path gs://ai4ops/mldsl/data/aclImdb/train/neg\\\n",
    "--test_pos_path gs://ai4ops/mldsl/data/aclImdb/test/pos\\\n",
    "--test_neg_path gs://ai4ops/mldsl/data/aclImdb/test/neg --max_seq 500\n",
    "                    "
   ]
  },
  {
   "cell_type": "code",
   "execution_count": null,
   "metadata": {},
   "outputs": [],
   "source": [
    "#Use job_demo_job_1581932009 instance to browse job properties.\n",
    "job_demo_job_1581932009 = job_tracker['demo_job_1581932009']"
   ]
  },
  {
   "cell_type": "markdown",
   "metadata": {},
   "source": [
    "### Reading logs of dataproc job"
   ]
  },
  {
   "cell_type": "code",
   "execution_count": 3,
   "metadata": {},
   "outputs": [],
   "source": [
    "project_id = \"gd-gcp-techlead-experiments\""
   ]
  },
  {
   "cell_type": "code",
   "execution_count": 5,
   "metadata": {},
   "outputs": [],
   "source": [
    "filters = \"\"\"resource.type:cloud_dataproc_cluster\n",
    "AND timestamp>2020-02-16\n",
    "AND resource.labels.cluster_name:ai4ops \n",
    "AND jsonPayload.application:application_1570197709805_0109\"\"\""
   ]
  },
  {
   "cell_type": "code",
   "execution_count": 6,
   "metadata": {},
   "outputs": [
    {
     "name": "stdout",
     "output_type": "stream",
     "text": [
      "02/17/2020, 09:33:40\tSetting up env variables\n",
      "02/17/2020, 09:33:40\tSetting up job resources\n",
      "02/17/2020, 09:33:40\tLaunching container\n",
      "02/17/2020, 09:33:41\tClass path contains multiple SLF4J bindings.\n",
      "02/17/2020, 09:33:41\tFound binding in [jar:file:/usr/lib/spark/jars/slf4j-log4j12-1.7.16.jar!/org/slf4j/impl/StaticLoggerBinder.class]\n",
      "02/17/2020, 09:33:41\tFound binding in [jar:file:/usr/lib/hadoop/lib/slf4j-log4j12-1.7.25.jar!/org/slf4j/impl/StaticLoggerBinder.class]\n",
      "02/17/2020, 09:33:41\tSee http://www.slf4j.org/codes.html#multiple_bindings for an explanation.\n",
      "02/17/2020, 09:33:41\tActual binding is of type [org.slf4j.impl.Log4jLoggerFactory]\n",
      "02/17/2020, 09:33:43\tConnecting to ResourceManager at ai4ops-m/10.128.15.216:8030\n",
      "02/17/2020, 09:33:44\tSetting up env variables\n",
      "02/17/2020, 09:33:44\tSetting up job resources\n",
      "02/17/2020, 09:33:44\tLaunching container\n",
      "02/17/2020, 09:33:45\tClass path contains multiple SLF4J bindings.\n",
      "02/17/2020, 09:33:45\tFound binding in [jar:file:/usr/lib/spark/jars/slf4j-log4j12-1.7.16.jar!/org/slf4j/impl/StaticLoggerBinder.class]\n",
      "02/17/2020, 09:33:45\tFound binding in [jar:file:/usr/lib/hadoop/lib/slf4j-log4j12-1.7.25.jar!/org/slf4j/impl/StaticLoggerBinder.class]\n",
      "02/17/2020, 09:33:45\tSee http://www.slf4j.org/codes.html#multiple_bindings for an explanation.\n",
      "02/17/2020, 09:33:45\tActual binding is of type [org.slf4j.impl.Log4jLoggerFactory]\n",
      "02/17/2020, 09:33:46\tClass path contains multiple SLF4J bindings.\n",
      "02/17/2020, 09:33:46\tFound binding in [jar:file:/usr/lib/spark/jars/slf4j-log4j12-1.7.16.jar!/org/slf4j/impl/StaticLoggerBinder.class]\n",
      "02/17/2020, 09:33:46\tFound binding in [jar:file:/usr/lib/hadoop/lib/slf4j-log4j12-1.7.25.jar!/org/slf4j/impl/StaticLoggerBinder.class]\n",
      "02/17/2020, 09:33:46\tSee http://www.slf4j.org/codes.html#multiple_bindings for an explanation.\n",
      "02/17/2020, 09:33:46\tActual binding is of type [org.slf4j.impl.Log4jLoggerFactory]\n",
      "02/17/2020, 09:33:46\tSetting up env variables\n",
      "02/17/2020, 09:33:46\tSetting up job resources\n",
      "02/17/2020, 09:33:46\tLaunching container\n",
      "02/17/2020, 09:33:46\tClass path contains multiple SLF4J bindings.\n",
      "02/17/2020, 09:33:46\tFound binding in [jar:file:/usr/lib/spark/jars/slf4j-log4j12-1.7.16.jar!/org/slf4j/impl/StaticLoggerBinder.class]\n",
      "02/17/2020, 09:33:46\tFound binding in [jar:file:/usr/lib/hadoop/lib/slf4j-log4j12-1.7.25.jar!/org/slf4j/impl/StaticLoggerBinder.class]\n",
      "02/17/2020, 09:33:46\tSee http://www.slf4j.org/codes.html#multiple_bindings for an explanation.\n",
      "02/17/2020, 09:33:46\tActual binding is of type [org.slf4j.impl.Log4jLoggerFactory]\n",
      "02/17/2020, 09:33:46\tSetting up env variables\n",
      "02/17/2020, 09:33:46\tSetting up job resources\n",
      "02/17/2020, 09:33:46\tLaunching container\n",
      "02/17/2020, 09:34:06\tSetting up env variables\n",
      "02/17/2020, 09:34:06\tSetting up job resources\n",
      "02/17/2020, 09:34:06\tLaunching container\n",
      "02/17/2020, 09:34:07\tClass path contains multiple SLF4J bindings.\n",
      "02/17/2020, 09:34:07\tFound binding in [jar:file:/usr/lib/spark/jars/slf4j-log4j12-1.7.16.jar!/org/slf4j/impl/StaticLoggerBinder.class]\n",
      "02/17/2020, 09:34:07\tFound binding in [jar:file:/usr/lib/hadoop/lib/slf4j-log4j12-1.7.25.jar!/org/slf4j/impl/StaticLoggerBinder.class]\n",
      "02/17/2020, 09:34:07\tSee http://www.slf4j.org/codes.html#multiple_bindings for an explanation.\n",
      "02/17/2020, 09:34:07\tActual binding is of type [org.slf4j.impl.Log4jLoggerFactory]\n",
      "02/17/2020, 09:34:08\tSetting up env variables\n",
      "02/17/2020, 09:34:08\tSetting up job resources\n",
      "02/17/2020, 09:34:08\tLaunching container\n",
      "02/17/2020, 09:34:08\tSetting up env variables\n",
      "02/17/2020, 09:34:08\tSetting up job resources\n",
      "02/17/2020, 09:34:08\tLaunching container\n",
      "02/17/2020, 09:34:08\tSetting up env variables\n",
      "02/17/2020, 09:34:08\tSetting up job resources\n",
      "02/17/2020, 09:34:08\tLaunching container\n",
      "02/17/2020, 09:34:09\tClass path contains multiple SLF4J bindings.\n",
      "02/17/2020, 09:34:09\tFound binding in [jar:file:/usr/lib/spark/jars/slf4j-log4j12-1.7.16.jar!/org/slf4j/impl/StaticLoggerBinder.class]\n",
      "02/17/2020, 09:34:09\tFound binding in [jar:file:/usr/lib/hadoop/lib/slf4j-log4j12-1.7.25.jar!/org/slf4j/impl/StaticLoggerBinder.class]\n",
      "02/17/2020, 09:34:09\tSee http://www.slf4j.org/codes.html#multiple_bindings for an explanation.\n",
      "02/17/2020, 09:34:09\tActual binding is of type [org.slf4j.impl.Log4jLoggerFactory]\n",
      "02/17/2020, 09:34:10\tClass path contains multiple SLF4J bindings.\n",
      "02/17/2020, 09:34:10\tFound binding in [jar:file:/usr/lib/spark/jars/slf4j-log4j12-1.7.16.jar!/org/slf4j/impl/StaticLoggerBinder.class]\n",
      "02/17/2020, 09:34:10\tFound binding in [jar:file:/usr/lib/hadoop/lib/slf4j-log4j12-1.7.25.jar!/org/slf4j/impl/StaticLoggerBinder.class]\n",
      "02/17/2020, 09:34:10\tSee http://www.slf4j.org/codes.html#multiple_bindings for an explanation.\n",
      "02/17/2020, 09:34:10\tActual binding is of type [org.slf4j.impl.Log4jLoggerFactory]\n",
      "02/17/2020, 09:34:11\tClass path contains multiple SLF4J bindings.\n",
      "02/17/2020, 09:34:11\tFound binding in [jar:file:/usr/lib/spark/jars/slf4j-log4j12-1.7.16.jar!/org/slf4j/impl/StaticLoggerBinder.class]\n",
      "02/17/2020, 09:34:11\tFound binding in [jar:file:/usr/lib/hadoop/lib/slf4j-log4j12-1.7.25.jar!/org/slf4j/impl/StaticLoggerBinder.class]\n",
      "02/17/2020, 09:34:11\tSee http://www.slf4j.org/codes.html#multiple_bindings for an explanation.\n",
      "02/17/2020, 09:34:11\tActual binding is of type [org.slf4j.impl.Log4jLoggerFactory]\n",
      "02/17/2020, 09:46:46\tWaiting for application to be successfully unregistered.\n"
     ]
    }
   ],
   "source": [
    "%logging -p $project_id -f $filters"
   ]
  },
  {
   "cell_type": "markdown",
   "metadata": {},
   "source": [
    "# ML Model to Predict Positive or Negative Review"
   ]
  },
  {
   "cell_type": "markdown",
   "metadata": {},
   "source": [
    "### Configure Additional Dependencies"
   ]
  },
  {
   "cell_type": "markdown",
   "metadata": {},
   "source": [
    "### LSTM Train Script"
   ]
  },
  {
   "cell_type": "code",
   "execution_count": 31,
   "metadata": {},
   "outputs": [
    {
     "name": "stdout",
     "output_type": "stream",
     "text": [
      "Max sequence is set to 100\n",
      "WARNING:tensorflow:From /opt/conda/lib/python3.7/site-packages/tensorflow/python/keras/initializers.py:119: calling RandomUniform.__init__ (from tensorflow.python.ops.init_ops) with dtype is deprecated and will be removed in a future version.\n",
      "Instructions for updating:\n",
      "Call initializer instance with the dtype argument instead of passing it to the constructor\n",
      "WARNING:tensorflow:From /opt/conda/lib/python3.7/site-packages/tensorflow/python/ops/init_ops.py:1251: calling VarianceScaling.__init__ (from tensorflow.python.ops.init_ops) with dtype is deprecated and will be removed in a future version.\n",
      "Instructions for updating:\n",
      "Call initializer instance with the dtype argument instead of passing it to the constructor\n",
      "Model: \"sequential\"\n",
      "_________________________________________________________________\n",
      "Layer (type)                 Output Shape              Param #   \n",
      "=================================================================\n",
      "embedding (Embedding)        (None, 100, 128)          64000     \n",
      "_________________________________________________________________\n",
      "lstm (LSTM)                  (None, 128)               131584    \n",
      "_________________________________________________________________\n",
      "dense (Dense)                (None, 1)                 129       \n",
      "=================================================================\n",
      "Total params: 195,713\n",
      "Trainable params: 195,713\n",
      "Non-trainable params: 0\n",
      "_________________________________________________________________\n",
      "None\n",
      "WARNING:tensorflow:From /opt/conda/lib/python3.7/site-packages/tensorflow/python/ops/nn_impl.py:180: add_dispatch_support.<locals>.wrapper (from tensorflow.python.ops.array_ops) is deprecated and will be removed in a future version.\n",
      "Instructions for updating:\n",
      "Use tf.where in 2.0, which has the same broadcast rule as np.where\n",
      "Epoch 1/3\n",
      "22/22 [==============================] - 1s 56ms/sample - loss: 0.6934 - acc: 0.5000\n",
      "Epoch 2/3\n",
      "22/22 [==============================] - 0s 12ms/sample - loss: 1.0879 - acc: 0.6364\n",
      "Epoch 3/3\n",
      "22/22 [==============================] - 0s 12ms/sample - loss: 0.9270 - acc: 0.4545\n"
     ]
    },
    {
     "data": {
      "image/png": "[encoded data removed]",
      "text/plain": [
       "<Figure size 1296x360 with 2 Axes>"
      ]
     },
     "metadata": {
      "needs_background": "light"
     },
     "output_type": "display_data"
    },
    {
     "name": "stdout",
     "output_type": "stream",
     "text": [
      "INFO:tensorflow:Assets written to: ./dev/models/20-02-17-10-29-11/assets\n"
     ]
    },
    {
     "data": {
      "text/plain": [
       "<com.griddynamics.dsl.ml.py_script.PyScript at 0x7ff34a28ba58>"
      ]
     },
     "execution_count": 31,
     "metadata": {},
     "output_type": "execute_result"
    }
   ],
   "source": [
    "%%py_script -e -n mr_model.py -p demo/model/words/trainer -o ./dev/models --train_path gs://ai4ops/mldsl/data/demo_job_1576228028/train --words_path gs://ai4ops/mldsl/data/demo_job_1576228028/words --seq_len 100\n",
    "#!/usr/bin/python\n",
    "\n",
    "import warnings\n",
    "with warnings.catch_warnings():\n",
    "    warnings.simplefilter(\"ignore\")\n",
    "    import pandas as pd\n",
    "    import numpy as np\n",
    "    from tensorflow.python.lib.io import file_io\n",
    "    from tensorflow.keras.utils import to_categorical\n",
    "    from tensorflow.keras.models import Sequential\n",
    "    from tensorflow.keras.layers import Dense\n",
    "    from tensorflow.keras.layers import LSTM, GRU\n",
    "    from tensorflow.keras.layers import Embedding\n",
    "    from tensorflow.keras.callbacks import Callback\n",
    "    from tensorflow.keras.optimizers import Adam\n",
    "    from tensorflow import keras\n",
    "    import tensorflow as tf\n",
    "    from tensorflow.core.protobuf import rewriter_config_pb2\n",
    "    from tensorflow.keras.backend import set_session\n",
    "    tf.keras.backend.clear_session()  # For easy reset of notebook state.\n",
    "\n",
    "    import os\n",
    "    from uuid import uuid4\n",
    "    import argparse\n",
    "    from datetime import datetime\n",
    "    import matplotlib\n",
    "    if matplotlib.get_backend() in ['TkAgg','TkCairo']:\n",
    "        matplotlib.use('agg')\n",
    "    import matplotlib.pyplot as plt\n",
    "    import pickle\n",
    "    import seaborn as sns\n",
    "\n",
    "class MetricCallback(Callback):\n",
    "        def on_train_begin(self,logs={}):\n",
    "            self.losses = []\n",
    "            self.accuracies = []\n",
    "\n",
    "        def on_batch_end(self, batch, logs={}):\n",
    "            self.losses.append(logs.get('loss'))\n",
    "            self.accuracies.append(logs.get('acc'))\n",
    "    \n",
    "def read_csv(path):\n",
    "    files = file_io.get_matching_files('{}/part*'.format(path))\n",
    "    pdf = []\n",
    "    for file in files:\n",
    "        with file_io.FileIO(file, 'r') as f:\n",
    "            df = pd.read_csv(f)\n",
    "            if df is not None and len(df) != 0:\n",
    "                pdf.append(df)\n",
    "    if len(pdf) == 0:\n",
    "        return None\n",
    "    return pd.concat(pdf, axis=0, ignore_index=True).reset_index()\n",
    "\n",
    "def shuffle(df, n=1, axis=0):\n",
    "    df = df.copy()\n",
    "    for _ in range(n):\n",
    "        df.apply(np.random.shuffle, axis=axis)\n",
    "    return df\n",
    "    \n",
    "def prepare_dataset(path, N):\n",
    "    data = read_csv(path)\n",
    "    data = shuffle(data)\n",
    "    data['int_seq'] = data['int_seq'].apply(lambda x: [int(i) for i in x.split(',')])\n",
    "    data['length'] = data['int_seq'].apply(lambda x: len(x))\n",
    "    print(\"Max sequence is set to {}\".format(N))\n",
    "    data['int_seq'] = data['int_seq'].apply(lambda x: (x+[0]*N)[:N])\n",
    "    ds_x = np.asarray(list(data[\"int_seq\"]))\n",
    "    ds_y = data[\"class\"].values\n",
    "    return ds_x, ds_y\n",
    "\n",
    "def plot_metrics(callback, dir_to_save):\n",
    "    f, axes = plt.subplots(1, 2,figsize=(18,5))\n",
    "    plt.style.use('seaborn')\n",
    "    plt.rcParams['axes.titlesize']=16\n",
    "    sns.lineplot(x=range(len(callback.losses)), y = callback.losses, ax=axes[0])\n",
    "    axes[0].title.set_text(\"Loss\")\n",
    "    sns.lineplot(x=range(len(callback.accuracies)), y = callback.accuracies, ax=axes[1])\n",
    "    axes[1].title.set_text(\"Accuracy\")\n",
    "    plt.tight_layout(.5)\n",
    "    plt.savefig('{}'.format(dir_to_save))\n",
    "    plt.show()\n",
    "\n",
    "if __name__ == '__main__':\n",
    "    parser = argparse.ArgumentParser()\n",
    "    parser.add_argument('--train_path', type=str, help=\"Train files path\")\n",
    "    parser.add_argument('--words_path', type=str, help=\"Word files path\")\n",
    "    parser.add_argument('--output_path', type=str, help=\"Models output path\")\n",
    "    parser.add_argument('--seq_len', type=int, help=\"Length of input sequence\")\n",
    "    args, d = parser.parse_known_args()\n",
    "\n",
    "    words = read_csv(args.words_path)\n",
    "    words_dct = dict(zip(words['words_stemmed'].values, words['id'].values))\n",
    "    with open(\"preprocessor.pkl\",'wb') as f:\n",
    "        pickle.dump(words_dct, f)\n",
    "    \n",
    "    N = args.seq_len\n",
    "    train_x, train_y = prepare_dataset(args.train_path, N)\n",
    "\n",
    "    vocabulary_size = max(words_dct.values())+1\n",
    "    NUM_EPOCS = 3\n",
    "    \n",
    "    RNN_STATE_DIM = 128\n",
    "    BATCH_SIZE = 64\n",
    "    LEARNING_RATE = 0.05\n",
    "    EMBED_SIZE = 128\n",
    "\n",
    "    config_proto = tf.ConfigProto()\n",
    "    off = rewriter_config_pb2.RewriterConfig.OFF\n",
    "    config_proto.graph_options.rewrite_options.arithmetic_optimization = off\n",
    "    session = tf.Session(config=config_proto)\n",
    "    set_session(session)\n",
    "    \n",
    "    model = Sequential()\n",
    "    model.add(Embedding(vocabulary_size, EMBED_SIZE, input_length=N))\n",
    "    model.add(LSTM(RNN_STATE_DIM))\n",
    "    model.add(Dense(1, activation='sigmoid'))\n",
    "    \n",
    "    print(model.summary())\n",
    "\n",
    "    # compile model\n",
    "    model.compile(loss='binary_crossentropy', optimizer=Adam(lr=LEARNING_RATE), metrics=['accuracy'])\n",
    "    # fit model\n",
    "    metrics = MetricCallback()\n",
    "    a = model.fit(train_x, train_y, \n",
    "                  batch_size=BATCH_SIZE, epochs=NUM_EPOCS, callbacks=[metrics])\n",
    "\n",
    "    # save the model to file\n",
    "    local_dir = uuid4().hex\n",
    "    #print('before create')\n",
    "    file_io.recursive_create_dir(local_dir)\n",
    "    #print('after create')\n",
    "    #local_path = '{}/saved_model'.format(local_dir)\n",
    "    #tf.saved_model.save(model, f'{local_dir}/saved_model')\n",
    "    local_path_chart = '{}/metrics.png'.format(local_dir)\n",
    "    plot_metrics(metrics, local_path_chart)\n",
    "    \n",
    "    remote_dir = args.output_path\n",
    "    remote_path_chart = '{}/metrics.png'.format(remote_dir)\n",
    "    if not remote_dir.startswith('gs://'):\n",
    "        file_io.recursive_create_dir(remote_dir)\n",
    "    tf.saved_model.save(model, '{}/'.format(remote_dir))\n",
    "    file_io.copy(local_path_chart, remote_path_chart)\n",
    "    file_io.delete_recursively(local_dir)"
   ]
  },
  {
   "cell_type": "markdown",
   "metadata": {},
   "source": [
    "### Execute Trainer on ML Platform"
   ]
  },
  {
   "cell_type": "code",
   "execution_count": 33,
   "metadata": {},
   "outputs": [
    {
     "data": {
      "text/html": [
       "<a href=\"https://console.cloud.google.com/ai-platform/jobs/ai_train_demo_job_1581935492/charts/cpu?project=gd-gcp-techlead-experiments\">ai_train_demo_job_1581935492</a>"
      ],
      "text/plain": [
       "<IPython.core.display.HTML object>"
      ]
     },
     "metadata": {},
     "output_type": "display_data"
    },
    {
     "name": "stdout",
     "output_type": "stream",
     "text": [
      "running sdist\n",
      "running egg_info\n",
      "writing trainer.egg-info/PKG-INFO\n",
      "writing dependency_links to trainer.egg-info/dependency_links.txt\n",
      "writing requirements to trainer.egg-info/requires.txt\n",
      "writing top-level names to trainer.egg-info/top_level.txt\n",
      "reading manifest file 'trainer.egg-info/SOURCES.txt'\n",
      "writing manifest file 'trainer.egg-info/SOURCES.txt'\n",
      "running check\n",
      "creating trainer-1.0\n",
      "creating trainer-1.0/trainer\n",
      "creating trainer-1.0/trainer.egg-info\n",
      "creating trainer-1.0/trainer.egg-info/.ipynb_checkpoints\n",
      "copying files to trainer-1.0...\n",
      "copying README.md -> trainer-1.0\n",
      "copying setup.py -> trainer-1.0\n",
      "copying trainer/__init__.py -> trainer-1.0/trainer\n",
      "copying trainer/model.py -> trainer-1.0/trainer\n",
      "copying trainer/mr_model.py -> trainer-1.0/trainer\n",
      "copying trainer.egg-info/PKG-INFO -> trainer-1.0/trainer.egg-info\n",
      "copying trainer.egg-info/SOURCES.txt -> trainer-1.0/trainer.egg-info\n",
      "copying trainer.egg-info/dependency_links.txt -> trainer-1.0/trainer.egg-info\n",
      "copying trainer.egg-info/requires.txt -> trainer-1.0/trainer.egg-info\n",
      "copying trainer.egg-info/top_level.txt -> trainer-1.0/trainer.egg-info\n",
      "copying trainer.egg-info/.ipynb_checkpoints/PKG-INFO-checkpoint -> trainer-1.0/trainer.egg-info/.ipynb_checkpoints\n",
      "copying trainer.egg-info/.ipynb_checkpoints/SOURCES-checkpoint.txt -> trainer-1.0/trainer.egg-info/.ipynb_checkpoints\n",
      "copying trainer.egg-info/.ipynb_checkpoints/dependency_links-checkpoint.txt -> trainer-1.0/trainer.egg-info/.ipynb_checkpoints\n",
      "copying trainer.egg-info/.ipynb_checkpoints/requires-checkpoint.txt -> trainer-1.0/trainer.egg-info/.ipynb_checkpoints\n",
      "copying trainer.egg-info/.ipynb_checkpoints/top_level-checkpoint.txt -> trainer-1.0/trainer.egg-info/.ipynb_checkpoints\n",
      "Writing trainer-1.0/setup.cfg\n",
      "Creating tar archive\n",
      "removing 'trainer-1.0' (and everything under it)\n",
      "Uploading custom package demo/model/words/dist/trainer-1.0.tar.gz to dir gs://ai4ops/mldsl/packages/ai_train_demo_job_1581935492/trainer-1.0.tar.gz\n"
     ]
    },
    {
     "data": {
      "text/html": [
       "<a href=\"https://console.cloud.google.com/storage/browser/ai4ops/mldsl/models/ai_train_demo_job_1581935492?project=gd-gcp-techlead-experiments\">Output Data ai_train_demo_job_1581935492</a>"
      ],
      "text/plain": [
       "<IPython.core.display.HTML object>"
      ]
     },
     "metadata": {},
     "output_type": "display_data"
    },
    {
     "data": {
      "application/json": {
       "createTime": "2020-02-17T10:31:33Z",
       "endTime": "2020-02-17T10:51:28Z",
       "etag": "z3l2SM19SQY=",
       "jobId": "ai_train_demo_job_1581935492",
       "startTime": "2020-02-17T10:32:17Z",
       "state": "SUCCEEDED",
       "trainingInput": {
        "args": [
         "--train_path",
         "gs://ai4ops/mldsl/data/demo_job_1577030251/train",
         "--words_path",
         "gs://ai4ops/mldsl/data/demo_job_1577030251/words",
         "--seq_len",
         "300",
         "--output_path",
         "gs://ai4ops/mldsl/models/ai_train_demo_job_1581935492"
        ],
        "jobDir": "gs://ai4ops/mldsl/models/ai_train_demo_job_1581935492",
        "packageUris": [
         "gs://ai4ops/mldsl/packages/ai_train_demo_job_1581935492/trainer-1.0.tar.gz"
        ],
        "pythonModule": "trainer.mr_model",
        "region": "us-central1",
        "runtimeVersion": "1.14"
       },
       "trainingOutput": {
        "consumedMLUnits": 0.1
       }
      },
      "text/plain": [
       "<IPython.core.display.JSON object>"
      ]
     },
     "metadata": {
      "application/json": {
       "expanded": false,
       "root": "root"
      }
     },
     "output_type": "display_data"
    },
    {
     "data": {
      "image/png": "[encoded data removed]",
      "text/plain": [
       "<IPython.core.display.Image object>"
      ]
     },
     "metadata": {},
     "output_type": "display_data"
    }
   ],
   "source": [
    "%py_train -n mr_model.py -s demo/model/words\\\n",
    "-p DemoAIProfile  -pm $platform\\\n",
    "-o gs://ai4ops/mldsl/models\\\n",
    "--train_path gs://ai4ops/mldsl/data/demo_job_1577030251/train\\\n",
    "--words_path gs://ai4ops/mldsl/data/demo_job_1577030251/words\\\n",
    "--seq_len 300"
   ]
  },
  {
   "cell_type": "code",
   "execution_count": null,
   "metadata": {},
   "outputs": [],
   "source": [
    "#Use job_ai_train_demo_job_1581935492 instance to browse job properties.\n",
    "job_ai_train_demo_job_1581935492 = job_tracker['ai_train_demo_job_1581935492']"
   ]
  },
  {
   "cell_type": "markdown",
   "metadata": {},
   "source": [
    "## Deployment of model"
   ]
  },
  {
   "cell_type": "markdown",
   "metadata": {},
   "source": [
    "##### Parameters of deployment: name of model, version, artifacts (models saved as .joblib, .h5 etc), custom code"
   ]
  },
  {
   "cell_type": "code",
   "execution_count": 9,
   "metadata": {},
   "outputs": [],
   "source": [
    "model_name = \"demo_mldsl\"\n",
    "version = \"v3\"\n",
    "pyversion = 3.5"
   ]
  },
  {
   "cell_type": "code",
   "execution_count": 6,
   "metadata": {},
   "outputs": [
    {
     "name": "stdout",
     "output_type": "stream",
     "text": [
      "Saved model to gs://ai4ops/demo_mldsl\n"
     ]
    },
    {
     "data": {
      "text/html": [
       "<a href=\"https://console.cloud.google.com/storage/browser/ai4ops/demo_mldsl?project=gd-gcp-techlead-experiments\">Deploy model path ai_train_demo_job_1581950746</a>"
      ],
      "text/plain": [
       "<IPython.core.display.HTML object>"
      ]
     },
     "metadata": {},
     "output_type": "display_data"
    },
    {
     "data": {
      "application/json": {
       "createTime": "2020-02-17T14:45:47Z",
       "deploymentUri": "gs://ai4ops/demo_mldsl",
       "etag": "mK5yAIBhXFg=",
       "framework": "TENSORFLOW",
       "machineType": "mls1-c1-m2",
       "name": "projects/gd-gcp-techlead-experiments/models/demo_mldsl/versions/v448",
       "pythonVersion": "3.5",
       "runtimeVersion": "1.14",
       "state": "READY"
      },
      "text/plain": [
       "<IPython.core.display.JSON object>"
      ]
     },
     "metadata": {
      "application/json": {
       "expanded": false,
       "root": "root"
      }
     },
     "output_type": "display_data"
    }
   ],
   "source": [
    "%py_deploy -n $model_name -v $version -p DemoDeployAIProfile  -pm $platform --framework TENSORFLOW\\\n",
    "-m gs://ai4ops/mldsl/models/ai_train_demo_job_1577179931 --pythonVersion $pyversion"
   ]
  },
  {
   "cell_type": "code",
   "execution_count": null,
   "metadata": {},
   "outputs": [],
   "source": [
    "#Use job_ai_train_demo_job_1581950746 instance to browse job properties.\n",
    "job_ai_train_demo_job_1581950746 = job_tracker['ai_train_demo_job_1581950746']"
   ]
  },
  {
   "cell_type": "markdown",
   "metadata": {},
   "source": [
    "## Prediction"
   ]
  },
  {
   "cell_type": "code",
   "execution_count": 4,
   "metadata": {},
   "outputs": [],
   "source": [
    "import warnings\n",
    "with warnings.catch_warnings():\n",
    "    warnings.simplefilter(\"ignore\")\n",
    "    from tensorflow.python.lib.io import file_io\n",
    "    import pandas as pd\n",
    "    import numpy as np\n",
    "\n",
    "def read_csv(path):\n",
    "    files = file_io.get_matching_files('{}/part*'.format(path))\n",
    "    pdf = []\n",
    "    for file in files:\n",
    "        with file_io.FileIO(file, 'r') as f:\n",
    "            df = pd.read_csv(f)\n",
    "            if df is not None and len(df) != 0:\n",
    "                pdf.append(df)\n",
    "    if len(pdf) == 0:\n",
    "        return None\n",
    "    return pd.concat(pdf, axis=0, ignore_index=True).reset_index()\n",
    "\n",
    "def prepare_dataset(path, N):\n",
    "    data = read_csv(path)\n",
    "    data['int_seq'] = data['int_seq'].apply(lambda x: [int(i) for i in x.split(',')])\n",
    "    data['length'] = data['int_seq'].apply(lambda x: len(x))\n",
    "    data['int_seq'] = data['int_seq'].apply(lambda x: (x+[0]*N)[:N])\n",
    "    ds_x = np.asarray(list(data[\"int_seq\"]))\n",
    "    ds_y = data[\"class\"].values\n",
    "    return ds_x, ds_y\n",
    "df_x, df_y = prepare_dataset('gs://ai4ops/mldsl/data/demo_job_1577030251/test', 300)\n",
    "ints = np.random.choice(len(df_y), 200)\n",
    "\n",
    "test_x = df_x[ints]\n",
    "test_y = df_y[ints]\n",
    "test = test_x.tolist()"
   ]
  },
  {
   "cell_type": "code",
   "execution_count": 10,
   "metadata": {},
   "outputs": [],
   "source": [
    "%py_test -n $model_name -v v3 -p DemoDeployAIProfile -t $test -pm $platform"
   ]
  },
  {
   "cell_type": "code",
   "execution_count": 11,
   "metadata": {},
   "outputs": [],
   "source": [
    "dense=[[0.25488606095314026], [0.30838608741760254], [0.4072822630405426], [0.3786965608596802], [0.15525144338607788], [0.23305156826972961], [0.1354656219482422], [0.8372814059257507], [0.08892762660980225], [0.3713282346725464], [0.4618474245071411], [0.1562180519104004], [0.6718777418136597], [0.6553439497947693], [0.4112316071987152], [0.32206153869628906], [0.24275138974189758], [0.3534340262413025], [0.5567026138305664], [0.6602811813354492], [0.22197675704956055], [0.07632425427436829], [0.7118769288063049], [0.38213205337524414], [0.29841309785842896], [0.38402917981147766], [0.6389526724815369], [0.20754292607307434], [0.19473817944526672], [0.37544408440589905], [0.3288467526435852], [0.07225751876831055], [0.5927079916000366], [0.37306511402130127], [0.32988691329956055], [0.8477085828781128], [0.3837416172027588], [0.3032299876213074], [0.3175886273384094], [0.30492302775382996], [0.4047829508781433], [0.4077865779399872], [0.6574926376342773], [0.5992149114608765], [0.07762303948402405], [0.24520343542099], [0.3974694609642029], [0.4586597681045532], [0.42748594284057617], [0.3382059335708618], [0.5831201672554016], [0.3341509699821472], [0.5373885631561279], [0.5296568870544434], [0.3803214430809021], [0.17759251594543457], [0.5758300423622131], [0.09795764088630676], [0.1366739571094513], [0.32804930210113525], [0.42247724533081055], [0.06559553742408752], [0.3898541033267975], [0.16480013728141785], [0.5066031217575073], [0.18178939819335938], [0.4342527389526367], [0.4421592950820923], [0.22545352578163147], [0.25880640745162964], [0.4921869933605194], [0.32224905490875244], [0.40361523628234863], [0.3308354318141937], [0.19015294313430786], [0.3557688593864441], [0.522013783454895], [0.6362909078598022], [0.5390780568122864], [0.1847013235092163], [0.5408143997192383], [0.18629279732704163], [0.49914661049842834], [0.4547087550163269], [0.5551296472549438], [0.2493116557598114], [0.31632357835769653], [0.22971338033676147], [0.2589361071586609], [0.04024764895439148], [0.08502885699272156], [0.17460864782333374], [0.44522824883461], [0.5436111092567444], [0.4454435408115387], [0.3297947645187378], [0.3574298620223999], [0.2882361114025116], [0.43720442056655884], [0.2998356223106384], [0.6698362827301025], [0.2692256271839142], [0.22706753015518188], [0.3296648859977722], [0.2535862922668457], [0.8150531053543091], [0.3721585273742676], [0.049326539039611816], [0.8903816938400269], [0.5668163299560547], [0.5928220748901367], [0.2200206220149994], [0.6760979890823364], [0.417930006980896], [0.6763142347335815], [0.92786705493927], [0.38328817486763], [0.2746852934360504], [0.16685763001441956], [0.34736019372940063], [0.2659223675727844], [0.4412340521812439], [0.3409103751182556], [0.40230974555015564], [0.46518832445144653], [0.35682377219200134], [0.303905189037323], [0.2069120705127716], [0.6384038925170898], [0.688270092010498], [0.4144497215747833], [0.6818468570709229], [0.5302560925483704], [0.04026448726654053], [0.45037585496902466], [0.46635347604751587], [0.17403936386108398], [0.32802605628967285], [0.4365878403186798], [0.45093834400177], [0.5589277744293213], [0.4943205416202545], [0.1645677387714386], [0.17063456773757935], [0.28224873542785645], [0.5643092393875122], [0.2007884681224823], [0.3940085172653198], [0.5674962997436523], [0.06646308302879333], [0.2557617425918579], [0.38150912523269653], [0.5108868479728699], [0.40015506744384766], [0.5954257249832153], [0.42641034722328186], [0.512881875038147], [0.4777953624725342], [0.44147789478302], [0.11353784799575806], [0.35202839970588684], [0.5407819747924805], [0.29310572147369385], [0.24119874835014343], [0.28569748997688293], [0.17937904596328735], [0.1810687780380249], [0.14852893352508545], [0.21196109056472778], [0.40207433700561523], [0.18704357743263245], [0.21406877040863037], [0.27467846870422363], [0.3172489404678345], [0.13118600845336914], [0.6209748983383179], [0.3213813006877899], [0.05565795302391052], [0.5572960376739502], [0.4635104238986969], [0.3941331207752228], [0.5414309501647949], [0.3108394742012024], [0.45487260818481445], [0.28505420684814453], [0.2028389871120453], [0.3136429786682129], [0.34315723180770874], [0.2743784189224243], [0.13925525546073914], [0.023509055376052856], [0.31902414560317993], [0.7046407461166382], [0.2449434995651245], [0.19448024034500122], [0.3157011568546295], [0.3264147639274597], [0.606838047504425], [0.6234597563743591], [0.13144999742507935]]"
   ]
  },
  {
   "cell_type": "code",
   "execution_count": 12,
   "metadata": {},
   "outputs": [
    {
     "data": {
      "image/png": "[encoded data removed]",
      "text/plain": [
       "<Figure size 576x432 with 2 Axes>"
      ]
     },
     "metadata": {
      "needs_background": "light"
     },
     "output_type": "display_data"
    }
   ],
   "source": [
    "conf_mat = confusion_matrix(test_y, [round(i[0]) for i in dense])\n",
    "fig, ax = plt.subplots(figsize=(8,6))\n",
    "classes=['Negative', 'Positive']\n",
    "sns.heatmap(conf_mat, annot=True, fmt='d',xticklabels=classes, yticklabels=classes, cmap=plt.cm.BuGn)\n",
    "plt.ylabel('Actual')\n",
    "plt.xlabel('Predicted')\n",
    "plt.show()"
   ]
  },
  {
   "cell_type": "code",
   "execution_count": 13,
   "metadata": {},
   "outputs": [
    {
     "data": {
      "text/plain": [
       "{'0': {'precision': 0.49673202614379086,\n",
       "  'recall': 0.7835051546391752,\n",
       "  'f1-score': 0.6080000000000001,\n",
       "  'support': 97},\n",
       " '1': {'precision': 0.5531914893617021,\n",
       "  'recall': 0.2524271844660194,\n",
       "  'f1-score': 0.3466666666666667,\n",
       "  'support': 103},\n",
       " 'accuracy': 0.51,\n",
       " 'macro avg': {'precision': 0.5249617577527466,\n",
       "  'recall': 0.5179661695525973,\n",
       "  'f1-score': 0.4773333333333334,\n",
       "  'support': 200},\n",
       " 'weighted avg': {'precision': 0.5258086497010152,\n",
       "  'recall': 0.51,\n",
       "  'f1-score': 0.4734133333333334,\n",
       "  'support': 200}}"
      ]
     },
     "execution_count": 13,
     "metadata": {},
     "output_type": "execute_result"
    }
   ],
   "source": [
    "classification_report(test_y, [round(i[0]) for i in dense],output_dict=True)"
   ]
  },
  {
   "cell_type": "code",
   "execution_count": null,
   "metadata": {},
   "outputs": [],
   "source": []
  }
 ],
 "metadata": {
  "kernelspec": {
   "display_name": "Python 3",
   "language": "python",
   "name": "python3"
  },
  "language_info": {
   "codemirror_mode": {
    "name": "ipython",
    "version": 3
   },
   "file_extension": ".py",
   "mimetype": "text/x-python",
   "name": "python",
   "nbconvert_exporter": "python",
   "pygments_lexer": "ipython3",
   "version": "3.7.3"
  }
 },
 "nbformat": 4,
 "nbformat_minor": 4
}
